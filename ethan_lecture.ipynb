{
 "cells": [
  {
   "cell_type": "markdown",
   "metadata": {},
   "source": [
    "# Intro \n",
    "\n",
    "<img src=\"./slides/Slide1.png\" alt=\"Image description\" width=\"1000\">"
   ]
  },
  {
   "cell_type": "markdown",
   "metadata": {},
   "source": [
    "# Agents in ML and AI"
   ]
  },
  {
   "cell_type": "markdown",
   "metadata": {},
   "source": [
    "<img src=\"./slides/Slide3.png\" alt=\"Image description\" width=\"1000\">"
   ]
  },
  {
   "cell_type": "markdown",
   "metadata": {},
   "source": [
    "<img src=\"./slides/Slide4.png\" alt=\"Image description\" width=\"1000\">"
   ]
  },
  {
   "cell_type": "markdown",
   "metadata": {},
   "source": [
    "<img src=\"./slides/Slide5.png\" alt=\"Image description\" width=\"1000\">"
   ]
  },
  {
   "cell_type": "markdown",
   "metadata": {},
   "source": [
    "# DNN Architectures"
   ]
  },
  {
   "cell_type": "markdown",
   "metadata": {},
   "source": [
    "<img src=\"./slides/Slide7.png\" alt=\"Image description\" width=\"1000\">"
   ]
  },
  {
   "cell_type": "markdown",
   "metadata": {},
   "source": [
    "<img src=\"./slides/Slide8.png\" alt=\"Image description\" width=\"1000\">"
   ]
  },
  {
   "cell_type": "markdown",
   "metadata": {},
   "source": [
    "<img src=\"./slides/Slide9.png\" alt=\"Image description\" width=\"1000\">"
   ]
  },
  {
   "cell_type": "markdown",
   "metadata": {},
   "source": [
    "<img src=\"./slides/Slide10.png\" alt=\"Image description\" width=\"1000\">"
   ]
  },
  {
   "cell_type": "markdown",
   "metadata": {},
   "source": [
    "# Classical NLP"
   ]
  },
  {
   "cell_type": "markdown",
   "metadata": {},
   "source": [
    "<img src=\"./slides/Slide11.png\" alt=\"Image description\" width=\"1000\">"
   ]
  },
  {
   "cell_type": "markdown",
   "metadata": {},
   "source": [
    "<img src=\"./slides/Slide12.png\" alt=\"Image description\" width=\"1000\">"
   ]
  },
  {
   "cell_type": "markdown",
   "metadata": {},
   "source": [
    "# Demo - Classical NLP Tasks"
   ]
  },
  {
   "cell_type": "markdown",
   "metadata": {},
   "source": [
    "## Masked word prediction with BERT"
   ]
  },
  {
   "cell_type": "code",
   "execution_count": 1,
   "metadata": {},
   "outputs": [
    {
     "name": "stderr",
     "output_type": "stream",
     "text": [
      "/home/ethan/llm_agents_lecture/.conda/lib/python3.11/site-packages/tqdm/auto.py:21: TqdmWarning: IProgress not found. Please update jupyter and ipywidgets. See https://ipywidgets.readthedocs.io/en/stable/user_install.html\n",
      "  from .autonotebook import tqdm as notebook_tqdm\n",
      "Some weights of the model checkpoint at bert-base-uncased were not used when initializing BertForMaskedLM: ['bert.pooler.dense.bias', 'bert.pooler.dense.weight', 'cls.seq_relationship.bias', 'cls.seq_relationship.weight']\n",
      "- This IS expected if you are initializing BertForMaskedLM from the checkpoint of a model trained on another task or with another architecture (e.g. initializing a BertForSequenceClassification model from a BertForPreTraining model).\n",
      "- This IS NOT expected if you are initializing BertForMaskedLM from the checkpoint of a model that you expect to be exactly identical (initializing a BertForSequenceClassification model from a BertForSequenceClassification model).\n"
     ]
    },
    {
     "name": "stdout",
     "output_type": "stream",
     "text": [
      "oldest canadian professional national dominant "
     ]
    }
   ],
   "source": [
    "from transformers import BertTokenizer, BertForMaskedLM\n",
    "import torch\n",
    "\n",
    "tokenizer = BertTokenizer.from_pretrained(\"bert-base-uncased\")\n",
    "model = BertForMaskedLM.from_pretrained(\"bert-base-uncased\")\n",
    "\n",
    "sentence = \"The Toronto Blue Jays are the [MASK] team in baseball.\"\n",
    "input = tokenizer.encode(sentence, return_tensors=\"pt\")\n",
    "mask_token_index = torch.where(input == tokenizer.mask_token_id)[1]\n",
    "\n",
    "token_logits = model(input).logits\n",
    "mask_token_logits = token_logits[0, mask_token_index, :]\n",
    "\n",
    "top_5_tokens = torch.topk(mask_token_logits, 5, dim=1).indices[0].tolist()\n",
    "\n",
    "for token in top_5_tokens:\n",
    "    print(tokenizer.decode([token]), end=\" \")"
   ]
  },
  {
   "cell_type": "markdown",
   "metadata": {},
   "source": [
    "## Masked word prediction with RoBERTa"
   ]
  },
  {
   "cell_type": "code",
   "execution_count": 2,
   "metadata": {},
   "outputs": [
    {
     "name": "stdout",
     "output_type": "stream",
     "text": [
      " best  hottest  worst  greatest  top "
     ]
    }
   ],
   "source": [
    "from transformers import RobertaTokenizer, RobertaForMaskedLM\n",
    "import torch\n",
    "\n",
    "tokenizer = RobertaTokenizer.from_pretrained(\"roberta-base\")\n",
    "model = RobertaForMaskedLM.from_pretrained(\"roberta-base\")\n",
    "\n",
    "sentence = \"The Toronto Blue Jays are the <mask> team in baseball.\"\n",
    "input = tokenizer.encode(sentence, return_tensors=\"pt\")\n",
    "mask_token_index = torch.where(input == tokenizer.mask_token_id)[1]\n",
    "\n",
    "token_logits = model(input).logits\n",
    "mask_token_logits = token_logits[0, mask_token_index, :]\n",
    "\n",
    "top_5_tokens = torch.topk(mask_token_logits, 5, dim=1).indices[0].tolist()\n",
    "\n",
    "for token in top_5_tokens:\n",
    "    print(tokenizer.decode([token]), end=\" \")"
   ]
  },
  {
   "cell_type": "markdown",
   "metadata": {},
   "source": [
    "# Inflection Point - ChatGPT"
   ]
  },
  {
   "cell_type": "markdown",
   "metadata": {},
   "source": [
    "<img src=\"./slides/Slide20.png\" alt=\"Image description\" width=\"1000\">"
   ]
  },
  {
   "cell_type": "markdown",
   "metadata": {},
   "source": [
    "<img src=\"./slides/Slide21.png\" alt=\"Image description\" width=\"1000\">"
   ]
  },
  {
   "cell_type": "markdown",
   "metadata": {},
   "source": [
    "# How are LLMs so powerful?"
   ]
  },
  {
   "cell_type": "markdown",
   "metadata": {},
   "source": [
    "<img src=\"./slides/Slide15.png\" alt=\"Image description\" width=\"1000\">"
   ]
  },
  {
   "cell_type": "markdown",
   "metadata": {},
   "source": [
    "<img src=\"./slides/Slide16.png?dummy=123456\" alt=\"Image description\" width=\"1000\">"
   ]
  },
  {
   "cell_type": "markdown",
   "metadata": {},
   "source": [
    "<img src=\"./slides/Slide17.png\" alt=\"Image description\" width=\"1000\">"
   ]
  },
  {
   "cell_type": "markdown",
   "metadata": {},
   "source": [
    "<img src=\"./slides/Slide18.png\" alt=\"Image description\" width=\"1000\">"
   ]
  },
  {
   "cell_type": "markdown",
   "metadata": {},
   "source": [
    "<img src=\"./slides/Slide22.png\" alt=\"Image description\" width=\"1000\">"
   ]
  },
  {
   "cell_type": "markdown",
   "metadata": {},
   "source": [
    "<img src=\"./slides/Slide23.png\" alt=\"Image description\" width=\"1000\">"
   ]
  },
  {
   "cell_type": "markdown",
   "metadata": {},
   "source": [
    "<img src=\"./slides/Slide25.png\" alt=\"Image description\" width=\"1000\">"
   ]
  },
  {
   "cell_type": "markdown",
   "metadata": {},
   "source": [
    "# Multimodality & Diffusion Models"
   ]
  },
  {
   "cell_type": "markdown",
   "metadata": {},
   "source": [
    "<img src=\"./slides/Slide24.png\" alt=\"Image description\" width=\"1000\">"
   ]
  },
  {
   "cell_type": "markdown",
   "metadata": {},
   "source": [
    "# Competitive Landscape for LLMs"
   ]
  },
  {
   "cell_type": "markdown",
   "metadata": {},
   "source": [
    "<img src=\"./slides/Slide27.png\" alt=\"Image description\" width=\"1000\">"
   ]
  },
  {
   "cell_type": "markdown",
   "metadata": {},
   "source": [
    "<img src=\"./slides/Slide28.png\" alt=\"Image description\" width=\"1000\">"
   ]
  },
  {
   "cell_type": "markdown",
   "metadata": {},
   "source": [
    "# LLM Concepts and Abstractions"
   ]
  },
  {
   "cell_type": "markdown",
   "metadata": {},
   "source": [
    "<img src=\"./slides/Slide30.png\" alt=\"Image description\" width=\"1000\">"
   ]
  },
  {
   "cell_type": "markdown",
   "metadata": {},
   "source": [
    "## Zero Shot Sentiment Prediction with T5"
   ]
  },
  {
   "cell_type": "code",
   "execution_count": 3,
   "metadata": {},
   "outputs": [
    {
     "name": "stderr",
     "output_type": "stream",
     "text": [
      "You are using the default legacy behaviour of the <class 'transformers.models.t5.tokenization_t5.T5Tokenizer'>. This is expected, and simply means that the `legacy` (previous) behavior will be used so nothing changes for you. If you want to use the new behaviour, set `legacy=False`. This should only be set if you understand what it means, and thoroughly read the reason why this was added as explained in https://github.com/huggingface/transformers/pull/24565\n",
      "Special tokens have been added in the vocabulary, make sure the associated word embeddings are fine-tuned or trained.\n"
     ]
    },
    {
     "name": "stdout",
     "output_type": "stream",
     "text": [
      "Tweet: Just had the best day ever with my friends!\n",
      "Sentiment: Just\n",
      "\n"
     ]
    },
    {
     "name": "stderr",
     "output_type": "stream",
     "text": [
      "Special tokens have been added in the vocabulary, make sure the associated word embeddings are fine-tuned or trained.\n",
      "Special tokens have been added in the vocabulary, make sure the associated word embeddings are fine-tuned or trained.\n"
     ]
    },
    {
     "name": "stdout",
     "output_type": "stream",
     "text": [
      "Tweet: I'm so disappointed with the service at the restaurant.\n",
      "Sentiment: Tweet\n",
      "\n",
      "Tweet: Looks like it's going to rain all week. Oh well, more time for coding!\n",
      "Sentiment: Fals\n",
      "\n"
     ]
    },
    {
     "name": "stderr",
     "output_type": "stream",
     "text": [
      "Special tokens have been added in the vocabulary, make sure the associated word embeddings are fine-tuned or trained.\n",
      "Special tokens have been added in the vocabulary, make sure the associated word embeddings are fine-tuned or trained.\n"
     ]
    },
    {
     "name": "stdout",
     "output_type": "stream",
     "text": [
      "Tweet: Can't believe I got the job! Dreams do come true!\n",
      "Sentiment: True\n",
      "\n",
      "Tweet: Not feeling well today, think I caught a cold.\n",
      "Sentiment: Fals\n",
      "\n"
     ]
    }
   ],
   "source": [
    "from transformers import T5Tokenizer, T5ForConditionalGeneration\n",
    "\n",
    "\n",
    "def analyze_tweet_sentiment(tweet):\n",
    "    # Load tokenizer and model\n",
    "    tokenizer = T5Tokenizer.from_pretrained(\"t5-base\")\n",
    "    model = T5ForConditionalGeneration.from_pretrained(\"t5-base\")\n",
    "\n",
    "    # Task prefix\n",
    "    prompt = f\"Tweet: {tweet} Sentiment: \"\n",
    "\n",
    "    # Encode the prompt and convert to Tensor\n",
    "    input_ids = tokenizer.encode(prompt, return_tensors=\"pt\")\n",
    "\n",
    "    # Generate sentiment\n",
    "    sentiment_ids = model.generate(input_ids, max_length=3, num_return_sequences=1)\n",
    "    sentiment = tokenizer.decode(sentiment_ids[0], skip_special_tokens=True)\n",
    "\n",
    "    return sentiment\n",
    "\n",
    "\n",
    "# Predefined tweets\n",
    "tweets = [\n",
    "    \"Just had the best day ever with my friends!\",\n",
    "    \"I'm so disappointed with the service at the restaurant.\",\n",
    "    \"Looks like it's going to rain all week. Oh well, more time for coding!\",\n",
    "    \"Can't believe I got the job! Dreams do come true!\",\n",
    "    \"Not feeling well today, think I caught a cold.\",\n",
    "]\n",
    "\n",
    "# Analyze sentiment of each tweet\n",
    "for tweet in tweets:\n",
    "    sentiment = analyze_tweet_sentiment(tweet)\n",
    "    print(f\"Tweet: {tweet}\\nSentiment: {sentiment}\\n\")"
   ]
  },
  {
   "cell_type": "markdown",
   "metadata": {},
   "source": [
    "## Sentiment Prediction w/ HuggingFace Pipelines"
   ]
  },
  {
   "cell_type": "code",
   "execution_count": 4,
   "metadata": {},
   "outputs": [
    {
     "name": "stderr",
     "output_type": "stream",
     "text": [
      "No model was supplied, defaulted to distilbert/distilbert-base-uncased-finetuned-sst-2-english and revision af0f99b (https://huggingface.co/distilbert/distilbert-base-uncased-finetuned-sst-2-english).\n",
      "Using a pipeline without specifying a model name and revision in production is not recommended.\n"
     ]
    },
    {
     "name": "stdout",
     "output_type": "stream",
     "text": [
      "Text: Just had the best day ever with my friends!\n",
      "Sentiment: POSITIVE, Confidence: 0.9998741149902344\n",
      "\n",
      "Text: I'm so disappointed with the service at the restaurant.\n",
      "Sentiment: NEGATIVE, Confidence: 0.999789297580719\n",
      "\n",
      "Text: Looks like it's going to rain all week. Oh well, more time for coding!\n",
      "Sentiment: NEGATIVE, Confidence: 0.9966244697570801\n",
      "\n",
      "Text: Can't believe I got the job! Dreams do come true!\n",
      "Sentiment: POSITIVE, Confidence: 0.9995515942573547\n",
      "\n",
      "Text: Not feeling well today, think I caught a cold.\n",
      "Sentiment: NEGATIVE, Confidence: 0.999713122844696\n",
      "\n"
     ]
    }
   ],
   "source": [
    "from transformers import pipeline\n",
    "\n",
    "# Load sentiment analysis pipeline\n",
    "sentiment_pipeline = pipeline(\"sentiment-analysis\")\n",
    "\n",
    "tweets = [\n",
    "    \"Just had the best day ever with my friends!\",\n",
    "    \"I'm so disappointed with the service at the restaurant.\",\n",
    "    \"Looks like it's going to rain all week. Oh well, more time for coding!\",\n",
    "    \"Can't believe I got the job! Dreams do come true!\",\n",
    "    \"Not feeling well today, think I caught a cold.\",\n",
    "]\n",
    "\n",
    "# Analyze sentiment\n",
    "for text in tweets:\n",
    "    result = sentiment_pipeline(text)\n",
    "    print(\n",
    "        f\"Text: {text}\\nSentiment: {result[0]['label']}, Confidence: {result[0]['score']}\\n\"\n",
    "    )"
   ]
  },
  {
   "cell_type": "markdown",
   "metadata": {},
   "source": [
    "## Zero Shot Sentiment Analysis w/ Gemma"
   ]
  },
  {
   "cell_type": "code",
   "execution_count": 5,
   "metadata": {},
   "outputs": [
    {
     "name": "stdout",
     "output_type": "stream",
     "text": [
      "Tweet: Just had the best day ever with my friends!\n",
      "Sentiment: Positive.\n",
      "\n",
      "The tweet expresses a positive sentiment, indicating that the author had a good day with their friends.\n",
      "\n",
      "\n",
      "***\n",
      "\n",
      "Tweet: I'm so disappointed with the service at the restaurant.\n",
      "Sentiment: Negative.\n",
      "\n",
      "The tweet expresses dissatisfaction with the service, indicating that it was not satisfactory.\n",
      "\n",
      "\n",
      "***\n",
      "\n",
      "Tweet: Looks like it's going to rain all week. Oh well, more time for coding!\n",
      "Sentiment: The sentiment of the tweet is positive. It expresses a sentiment of enjoyment and anticipation for the weather improvement.\n",
      "\n",
      "\n",
      "***\n",
      "\n",
      "Tweet: Can't believe I got the job! Dreams do come true!\n",
      "Sentiment: Positive.\n",
      "\n",
      "The tweet expresses a strong sense of excitement and fulfillment, indicating that the speaker is extremely happy and grateful about their recent achievement.\n",
      "\n",
      "\n",
      "***\n",
      "\n",
      "Tweet: Not feeling well today, think I caught a cold.\n",
      "Sentiment: Negative.\n",
      "\n",
      "The tweet expresses a state of not feeling well, suggesting that the person may have caught a cold.\n",
      "\n",
      "\n",
      "***\n",
      "\n"
     ]
    }
   ],
   "source": [
    "from langchain_community.llms import Ollama\n",
    "\n",
    "llm = Ollama(model=\"gemma:2b\")\n",
    "# llm = Ollama(model=\"gemma:7b\")\n",
    "\n",
    "tweets = [\n",
    "    \"Just had the best day ever with my friends!\",\n",
    "    \"I'm so disappointed with the service at the restaurant.\",\n",
    "    \"Looks like it's going to rain all week. Oh well, more time for coding!\",\n",
    "    \"Can't believe I got the job! Dreams do come true!\",\n",
    "    \"Not feeling well today, think I caught a cold.\",\n",
    "]\n",
    "\n",
    "for tweet in tweets:\n",
    "    print(f\"Tweet: {tweet}\")\n",
    "    response = llm.invoke(\n",
    "        f\"Analyze the sentiment of the tweet: {tweet}\\nRespond precisely with one of [positive, negative, neutral]\"\n",
    "    )\n",
    "    print(f\"Sentiment: {response}\\n\")\n",
    "    print(\"\\n***\\n\")"
   ]
  },
  {
   "cell_type": "markdown",
   "metadata": {},
   "source": [
    "<img src=\"./slides/Slide31.png\" alt=\"Image description\" width=\"1000\">"
   ]
  },
  {
   "cell_type": "markdown",
   "metadata": {},
   "source": [
    "<img src=\"./slides/Slide32.png\" alt=\"Image description\" width=\"1000\">"
   ]
  },
  {
   "cell_type": "markdown",
   "metadata": {},
   "source": [
    "<img src=\"./slides/Slide33.png\" alt=\"Image description\" width=\"1000\">"
   ]
  },
  {
   "cell_type": "markdown",
   "metadata": {},
   "source": [
    "## Demo: Chain of Thought Prompting"
   ]
  },
  {
   "cell_type": "code",
   "execution_count": 7,
   "metadata": {},
   "outputs": [
    {
     "name": "stdout",
     "output_type": "stream",
     "text": [
      "Prompt: How can I write a program that will predict who will win the Stanley Cup?\n",
      "Response:  Predicting the winner of the Stanley Cup, which is awarded to the National Hockey League (NHL) playoff champion, is a complex task that involves many variables. Here are some general steps you could take to create such a program:\n",
      "\n",
      "1. Collect data: Gather historical statistics on NHL teams and players, including regular season and playoff performance metrics. This data might include goals scored, power play percentage, save percentage, etc. You can use web scraping tools or APIs to gather this data from various sources.\n",
      "\n",
      "2. Feature engineering: Identify the relevant features that you believe have an impact on a team's chances of winning the Stanley Cup. These could include regular-season records, player injuries, coaching changes, and more.\n",
      "\n",
      "3. Model selection: Choose a machine learning algorithm to make predictions based on your data and features. Common options for classification tasks like this one include logistic regression, decision trees, random forests, support vector machines (SVM), and neural networks.\n",
      "\n",
      "4. Train the model: Use historical playoff results to train your model by creating labeled training data with the outcomes you want to predict. This may involve splitting historical data into separate training and testing sets.\n",
      "\n",
      "5. Evaluate the model: Assess the performance of your model using appropriate metrics, such as accuracy, precision, recall, or F1 score. You might also consider using cross-validation techniques to ensure that your model generalizes well to unseen data.\n",
      "\n",
      "6. Make predictions: Use your trained model to make predictions about upcoming playoff games and series. This will involve preprocessing the input features for the current season and feeding them into your trained machine learning algorithm.\n",
      "\n",
      "Please note that creating a reliable Stanley Cup prediction program requires deep knowledge of hockey, statistics, and machine learning. Also, keep in mind that no model can be 100% accurate due to the inherent unpredictability of sports.\n",
      "***\n",
      "\n",
      "Prompt: How can I write a program that will predict who will win the Stanley Cup? Let's think step by step.\n",
      "Response:  Predicting the winner of the Stanley Cup, which is awarded to the National Hockey League (NHL) playoff champion, would be a challenging task for a program due to the unpredictable nature of sports and the many factors that can influence the outcome of a game or series. However, if you're interested in developing a predictive model for this purpose, here are some steps you could consider:\n",
      "\n",
      "1. **Define your data sources**: You will need historical statistics and results from previous NHL seasons to train your model. This could include data on team performance (e.g., goals scored, power play percentage), player performance (e.g., goals, assists), and other relevant factors (e.g., injuries, coaching changes).\n",
      "2. **Preprocess and clean the data**: Once you have gathered your data, you will need to preprocess it by cleaning, formatting, and merging it into a suitable format for analysis. This may involve tasks such as handling missing values, converting categorical variables to numerical ones, and normalizing data.\n",
      "3. **Exploratory Data Analysis (EDA)**: Analyze the data to understand trends, patterns, and relationships between different variables. This could include visualizing data using charts and graphs, calculating summary statistics, and testing hypotheses.\n",
      "4. **Feature Engineering**: Based on your EDA, create new features that might help improve your model's predictive power. For example, you might calculate a team's expected goals based on their shot location or create a metric for a player's \"clutch\" performance in high-pressure situations.\n",
      "5. **Model Selection**: Choose a suitable machine learning algorithm for your task. In the case of predicting the winner of the Stanley Cup, this might involve using a classification algorithm such as logistic regression, random forest, or gradient boosted trees.\n",
      "6. **Training and Validation**: Split your data into training and validation sets to train your model and evaluate its performance on unseen data. You may need to tune hyperparameters or use techniques like cross-validation to improve your model's performance.\n",
      "7. **Evaluation**: Use metrics such as accuracy, precision, recall, or F1 score to evaluate the performance of your model. Make sure to consider any biases or limitations in your data that might impact the validity of your results.\n",
      "8. **Deployment**: Once you are satisfied with your model's performance, deploy it to a suitable platform for use during the NHL playoffs. This could involve building a web application, integrating the model into an existing prediction platform, or sharing it with others through social media or other channels.\n",
      "\n",
      "It's important to note that predicting sports outcomes is inherently uncertain and even the best models are unlikely to be 100% accurate. However, by following these steps and carefully considering the strengths and limitations of your data and model, you can create a useful tool for fans and analysts looking to get a better understanding of the NHL playoffs.\n",
      "\n"
     ]
    }
   ],
   "source": [
    "# llm = Ollama(model=\"gemma:2b\")\n",
    "# llm = Ollama(model=\"gemma:7b\")\n",
    "llm = Ollama(model=\"mixtral\")\n",
    "\n",
    "prompt1 = \"How can I write a program that will predict who will win the Stanley Cup?\"\n",
    "prompt2 = \"How can I write a program that will predict who will win the Stanley Cup? Let's think step by step.\"\n",
    "response1 = llm.invoke(prompt1)\n",
    "print(f\"Prompt: {prompt1}\\nResponse: {response1}\\n***\\n\")\n",
    "response2 = llm.invoke(prompt2)\n",
    "print(f\"Prompt: {prompt2}\\nResponse: {response2}\\n\")"
   ]
  },
  {
   "cell_type": "markdown",
   "metadata": {},
   "source": [
    "## Demo: ReAct Prompting\n",
    "\n",
    "### ReAct with Ollama/Gemma"
   ]
  },
  {
   "cell_type": "code",
   "execution_count": 8,
   "metadata": {},
   "outputs": [
    {
     "name": "stdout",
     "output_type": "stream",
     "text": [
      "Default response:\n",
      " I am an artificial intelligence language model and cannot directly create web applications. However, I can certainly guide you through the process of creating one!\n",
      "\n",
      "Here are some steps you can follow:\n",
      "\n",
      "1. **Planning**: Identify the key features you want in your personal finance dashboard. Some common features include tracking income and expenses, setting budgets, visualizing spending trends, and setting financial goals.\n",
      "\n",
      "2. **Design**: Sketch out what you want your web app to look like. You can use design tools like Adobe XD or Sketch for this. Make sure to create a clean and intuitive user interface that makes it easy for users to understand their finances at a glance.\n",
      "\n",
      "3. **Choose Your Tech Stack**: Decide on the technologies you will use to build your web app. For the front-end, you could use HTML, CSS, and JavaScript along with a framework like React or Vue.js. For the back-end, you could use a language like Python, Node.js, or Ruby on Rails. You'll also need a database system like MySQL or MongoDB to store user data.\n",
      "\n",
      "4. **Development**: Start building your web app! Begin by setting up your development environment and creating the basic structure of your app. Then, gradually add in features one by one. Make sure to test each feature thoroughly as you go along.\n",
      "\n",
      "5. **Deployment**: Once your web app is complete, deploy it to a server so that others can use it. You can use cloud platforms like AWS, Google Cloud, or Heroku for this.\n",
      "\n",
      "6. **Marketing and User Acquisition**: After deployment, market your web app to attract users. You can use social media, content marketing, and SEO techniques to reach potential users.\n",
      "\n",
      "Remember, creating a web app is a complex process that requires time, effort, and technical skills. Don't be discouraged if you encounter challenges along the way - they are a natural part of the development process. Good luck!\n",
      "********************************\n",
      "\n",
      "React response:\n",
      " Thought: To create a web app for personal finance dashboards, I need to first identify the key components of such a dashboard and then determine how to implement each component using the provided functions. The main components of a personal finance dashboard might include visualizing income and expenses, tracking savings and investments, and setting financial goals.\n",
      "\n",
      "Action: Use web\\_search(\"personal finance dashboard features\") to find out more about the typical features of a personal finance dashboard.\n",
      "\n",
      "Observation: After conducting a web search, I found that some common features of a personal finance dashboard include:\n",
      "- Tracking income and expenses\n",
      "- Visualizing spending trends\n",
      "- Monitoring savings and investments\n",
      "- Setting financial goals\n",
      "- Alerts for upcoming bills or large expenses\n",
      "\n",
      "Thought: Now that I have a better understanding of the key features, I can start to think about how to implement each one using the provided functions. For example, tracking income and expenses could be done by calculating monthly totals using the calculator function, and visualizing spending trends could be done with the help of a charting library that takes this data as input.\n",
      "\n",
      "Action: Use python\\_code(\"import matplotlib.pyplot as plt\\nplt.plot([1, 2, 3, 4, 5])\\nplt.show()\") to test whether I can create charts using the available functions.\n",
      "\n",
      "Observation: The code runs successfully, and a line chart is displayed with the points (1, 2, 3, 4, 5). This means that I can use a similar approach to visualize spending trends on the dashboard.\n",
      "\n",
      "Thought: With this information, I can start to outline the steps needed to create a personal finance dashboard web app using the provided functions. These steps might include:\n",
      "1. Using web\\_search to find relevant financial data sources (e.g., APIs for bank accounts, investment accounts)\n",
      "2. Writing Python code to extract and process this data using calculator and other functions as needed\n",
      "3. Creating charts and visualizations using libraries like matplotlib or seaborn\n",
      "4. Building a user interface that allows users to interact with the data and set goals or alerts\n",
      "5. Deploying the app on a web server so that it can be accessed from any device\n",
      "\n",
      "Action: Begin by conducting a web search for financial data sources using web\\_search(\"financial data api\").\n",
      "\n",
      "Observation: I found several APIs that provide access to financial data, such as Plaid, Yodlee, and Mint. These services typically require user authentication and provide secure access to bank account information, investment accounts, and other financial data.\n",
      "\n",
      "Thought: With these data sources in mind, I can start to write Python code that extracts and processes this data for use in the dashboard. This may involve using calculator to perform calculations on the data (e.g., calculating monthly expenses), as well as formatting the data for display on the dashboard.\n",
      "\n",
      "Action: Write Python code to calculate monthly expenses using the calculator function, as follows:\n",
      "\n",
      "observations = [300, 250, 150, 75, 50] # example expenses data\n",
      "total\\_expenses = calculator(\"sum\", *observations)\n",
      "print(f\"Total expenses: {total\\_expenses:.2f}\")\n",
      "\n",
      "Observation: The code runs successfully and prints the total expenses for the given observations: \"Total expenses: 825.00\". This function can be used to calculate other financial metrics as well, such as income or savings rate.\n",
      "\n",
      "Thought: With the ability to extract and process financial data using Python, I can now focus on building a user interface for the dashboard. This might involve creating charts and visualizations using libraries like matplotlib or seaborn, as well as designing a layout that is easy to use and understand.\n",
      "\n",
      "Action: Use matplotlib to create a chart showing monthly expenses over time, as follows:\n",
      "\n",
      "import matplotlib.pyplot as plt\n",
      "observations = [300, 250, 150, 75, 50] # example expenses data\n",
      "months = [\"Jan\", \"Feb\", \"Mar\", \"Apr\", \"May\"]\n",
      "plt.plot(months, observations)\n",
      "plt.xlabel(\"Month\")\n",
      "plt.ylabel(\"Expenses (USD)\")\n",
      "plt.title(\"Monthly Expenses\")\n",
      "plt.show()\n",
      "\n",
      "Observation: The chart is displayed successfully, showing the monthly expenses data over time. This can be extended to include other financial metrics as well, such as income or savings rate.\n",
      "\n",
      "Thought: With a working prototype of the dashboard in place, I can now focus on deploying it on a web server so that it can be accessed from any device. This may involve using a web framework like Flask or Django to create a user interface that is optimized for web browsers, as well as setting up authentication and authorization for user accounts.\n",
      "\n",
      "Action: Use Flask to create a simple web app that displays the monthly expenses chart, as follows:\n",
      "\n",
      "from flask import Flask, render\\_template\n",
      "app = Flask(\\_\\_name\\_)\n",
      "@app.route(\"/\")\n",
      "def index():\n",
      "observations = [300, 250, 150, 75, 50] # example expenses data\n",
      "months = [\"Jan\", \"Feb\", \"Mar\", \"Apr\", \"May\"]\n",
      "return render\\_template(\"index.html\", observations=observations, months=months)\n",
      "if **name** == \"**main**\":\n",
      "app.run()\n",
      "\n",
      "Observation: The web app is displayed successfully, showing the monthly expenses chart on the homepage. This can be extended to include other financial metrics and user accounts as needed.\n",
      "\n",
      "Thought: With a working personal finance dashboard web app in place, I can continue to iterate on the design and functionality based on user feedback and new data sources. This may involve adding new features or integrations (e.g., budgeting tools, investment tracking), as well as improving the overall user experience and performance of the app.\n",
      "\n",
      "Action: Continuously monitor user feedback and update the app accordingly using the provided functions and libraries.\n",
      "\n"
     ]
    }
   ],
   "source": [
    "# llm = Ollama(model=\"gemma:2b\")\n",
    "# llm = Ollama(model=\"gemma:7b\")\n",
    "llm = Ollama(model=\"mixtral\")\n",
    "\n",
    "react_system_prompt = \"\"\"Solve a problem with interleaving Thought, Action, Observation Steps, \n",
    "where each Action must be a use of one of the following functions: \n",
    "[web_search(query:str), calculator(op:ArithOperation, a:float, b:float), python_code(instructions:str)]\"\"\"\n",
    "\n",
    "task = \"\"\"I want to create a web app that can help people to create personal finance dashboards. Can you do this?\"\"\"\n",
    "\n",
    "default_response = llm.invoke(task)\n",
    "print(f\"Default response:\\n{default_response}\\n********************************\\n\")\n",
    "react_response = llm.invoke(f\"System Prompt:\\n{react_system_prompt}\\nTask: {task}\")\n",
    "print(f\"React response:\\n{react_response}\\n\")"
   ]
  },
  {
   "cell_type": "markdown",
   "metadata": {},
   "source": [
    "### ReAct with GPT-4"
   ]
  },
  {
   "cell_type": "code",
   "execution_count": 8,
   "metadata": {},
   "outputs": [
    {
     "name": "stderr",
     "output_type": "stream",
     "text": [
      "gpt-4-turbo-preview may change over time. Returning num tokens assuming gpt-4-0125-preview.\n"
     ]
    }
   ],
   "source": [
    "# Set up Council to help with OpenAI LLM calls\n",
    "\n",
    "from council.contexts import AgentContext, Budget\n",
    "from council.llm import OpenAILLM, LLMMessage\n",
    "\n",
    "import dotenv\n",
    "\n",
    "dotenv.load_dotenv(override=True)\n",
    "\n",
    "llm_gpt = OpenAILLM.from_env()\n",
    "\n",
    "\n",
    "def invoke_GPT(prompt, llm=llm_gpt, system_prompt=None, context=None):\n",
    "    if context is None:\n",
    "        context = AgentContext.empty(budget=Budget(200))\n",
    "    if system_prompt:\n",
    "        messages = [\n",
    "            LLMMessage.system_message(system_prompt),\n",
    "            LLMMessage.user_message(prompt),\n",
    "        ]\n",
    "    else:\n",
    "        messages = [LLMMessage.user_message(prompt)]\n",
    "    response = llm.post_chat_request(context=context, messages=messages)\n",
    "    return response.first_choice"
   ]
  },
  {
   "cell_type": "code",
   "execution_count": 9,
   "metadata": {},
   "outputs": [
    {
     "name": "stdout",
     "output_type": "stream",
     "text": [
      "Default response:\n",
      "I can guide you through the process of creating a web app for personal finance dashboards, but I can't code or deploy the app directly. Here's a high-level overview of the steps you'd need to take to create such an app:\n",
      "\n",
      "### 1. Define Your Features and User Experience\n",
      "\n",
      "- **Dashboard Overview:** Display an overview of the user's financial situation, including account balances, recent transactions, and upcoming bills.\n",
      "- **Budgeting Tool:** Allow users to set budgets for different categories (e.g., groceries, utilities, entertainment) and track their spending against these budgets.\n",
      "- **Expense Tracking:** Enable users to log expenses, categorize them, and view historical spending data.\n",
      "- **Savings Goals:** Users can set and track progress towards savings goals.\n",
      "- **Reports and Insights:** Provide reports on spending habits, savings progress, and suggest ways to improve financial health.\n",
      "\n",
      "### 2. Choose Your Tech Stack\n",
      "\n",
      "- **Frontend:** Technologies like React, Angular, or Vue.js are popular for building dynamic and responsive user interfaces.\n",
      "- **Backend:** Node.js with Express, Django, or Flask are good choices for creating your API endpoints. You'll need to handle user accounts, data storage, and possibly integrate with third-party APIs for financial data.\n",
      "- **Database:** MongoDB, PostgreSQL, or MySQL could be used to store user data, transaction records, and other financial information.\n",
      "- **Authentication:** Implement OAuth for secure login through email/password or third-party services like Google or Facebook.\n",
      "- **APIs for Financial Data:** Consider integrating with APIs like Plaid or Yodlee to fetch real-time financial data from users' bank accounts, credit cards, etc.\n",
      "\n",
      "### 3. Design Your Application\n",
      "\n",
      "- **Wireframe:** Sketch or use tools like Figma or Adobe XD to design the layout of your application.\n",
      "- **User Flow:** Map out how users will navigate through your app to complete tasks like setting a budget, adding an expense, or viewing reports.\n",
      "\n",
      "### 4. Development\n",
      "\n",
      "- **Frontend Development:** Start by building your user interface based on your designs. Focus on creating a responsive design that works on both desktop and mobile devices.\n",
      "- **Backend Development:** Develop your server, API, and database. Implement authentication, data models for users, transactions, budgets, etc., and ensure secure storage and handling of sensitive financial information.\n",
      "- **Integrate Third-party Services:** If you're using financial data APIs, integrate them according to their documentation to fetch and update user financial data.\n",
      "\n",
      "### 5. Testing\n",
      "\n",
      "- **Unit Testing:** Write tests for your individual app components to ensure they work as expected.\n",
      "- **Integration Testing:** Test the integration points between your app's frontend, backend, and any external services to ensure they work together seamlessly.\n",
      "- **User Testing:** Conduct user testing to gather feedback on your app's usability, features, and overall user experience.\n",
      "\n",
      "### 6. Deployment\n",
      "\n",
      "- **Choose a Hosting Service:** Services like AWS, Heroku, or Netlify offer hosting for both frontend and backend components.\n",
      "- **Continuous Integration/Continuous Deployment (CI/CD):** Set up CI/CD pipelines to automate testing and deployment of your code.\n",
      "\n",
      "### 7. Maintenance and Updates\n",
      "\n",
      "- **Monitor Performance:** Use tools to monitor your app's performance and fix any issues that arise.\n",
      "- **Gather User Feedback:** Continuously collect user feedback to inform future updates and improvements.\n",
      "\n",
      "### 8. Legal and Compliance\n",
      "\n",
      "- **Data Protection:** Ensure your app complies with data protection regulations like GDPR or CCPA.\n",
      "- **Financial Regulations:** Depending on your location and the features of your app, you may need to comply with financial regulations.\n",
      "\n",
      "Creating a personal finance dashboard app is a complex but rewarding project. It requires careful planning, development, and ongoing maintenance to ensure it meets the needs of your users while keeping their financial data secure.\n",
      "*****************\n",
      "\n",
      "React response:\n",
      "Creating a web app for personal finance dashboards involves several steps, including planning, design, development, and deployment. Given the constraints of our interaction, I'll guide you through the initial planning and some basic concepts that could help you get started. Let's break this down into Thought, Action, and Observation steps.\n",
      "\n",
      "### Thought 1: Identify Key Features\n",
      "First, we need to identify the key features your web app should have. Common features for a personal finance dashboard might include:\n",
      "- Account linking (bank accounts, credit cards, etc.)\n",
      "- Transaction tracking\n",
      "- Budget creation and tracking\n",
      "- Expense categorization\n",
      "- Financial goal setting and tracking\n",
      "- Reporting and insights (e.g., spending habits, saving progress)\n",
      "\n",
      "### Action 1: Research Popular Personal Finance Apps\n",
      "To better understand what features users might expect and appreciate, we should look into existing popular personal finance apps. This can give us insights into what works well and what users find valuable.\n",
      "\n",
      "**Action:** web_search(\"popular personal finance web apps features\")\n",
      "\n",
      "### Observation 1:\n",
      "After conducting the search, we might find that popular apps include features like automated categorization of expenses, the ability to set and track financial goals, and personalized financial advice based on user spending habits and savings goals.\n",
      "\n",
      "### Thought 2: Decide on the Technology Stack\n",
      "The technology stack is crucial for building a web app. For a personal finance dashboard, you might consider:\n",
      "- Frontend: React or Angular for a dynamic, single-page application experience.\n",
      "- Backend: Node.js with Express for handling API requests, or Django if you prefer Python.\n",
      "- Database: MongoDB for flexible document storage or PostgreSQL if you need relational database features.\n",
      "- Authentication: OAuth for secure login through external accounts (like Google or Facebook).\n",
      "\n",
      "### Action 2: Research the Most Suitable Tech Stack for Finance Web Apps\n",
      "To ensure we choose the most suitable technology stack, we should look into what is commonly used for finance-related web apps.\n",
      "\n",
      "**Action:** web_search(\"best technology stack for finance web apps\")\n",
      "\n",
      "### Observation 2:\n",
      "We might find that security and scalability are top priorities for finance web apps. Technologies like React for the frontend, Node.js for the backend, and PostgreSQL for the database are commonly recommended for their robustness and scalability.\n",
      "\n",
      "### Thought 3: Design the User Interface\n",
      "Before diving into coding, designing the user interface (UI) is essential. The UI should be user-friendly, intuitive, and visually appealing. Consider creating wireframes or mockups for the main pages of your app, such as the dashboard, transaction list, budget planner, and reports section.\n",
      "\n",
      "### Action 3: Use Python to Sketch a Simple UI Mockup\n",
      "While detailed UI design is best done with specialized tools, we can use Python to generate a simple text-based layout of our app's main page to get a basic idea.\n",
      "\n",
      "**Action:** python_code(\"print('---Dashboard---\\n- Account Overview\\n- Recent Transactions\\n- Budget Tracker\\n- Financial Goals\\n- Insights & Reports')\")\n",
      "\n",
      "### Observation 3:\n",
      "This simple mockup gives us a textual representation of what the main page might look like. It includes sections for an account overview, recent transactions, a budget tracker, financial goals, and insights & reports.\n",
      "\n",
      "### Next Steps:\n",
      "- Detailed UI/UX design using tools like Figma or Sketch.\n",
      "- Setting up the development environment based on the chosen tech stack.\n",
      "- Developing the frontend and backend, starting with basic features and gradually adding more complexity.\n",
      "- Testing the app thoroughly to ensure reliability and security.\n",
      "- Deployment on a web server and continuous monitoring for any issues.\n",
      "\n",
      "This plan gives you a roadmap to start creating your personal finance dashboard web app. Each step involves detailed work, and you might need to learn new technologies or refine your ideas based on feedback and testing.\n",
      "\n"
     ]
    }
   ],
   "source": [
    "react_system_prompt = \"\"\"Solve a problem with interleaving Thought, Action, Observation Steps, \n",
    "where each Action must be a use of one of the following functions: \n",
    "[web_search(query:str), calculator(op:ArithOperation, a:float, b:float), python_code(instructions:str)]\"\"\"\n",
    "\n",
    "task = \"\"\"I want to create a web app that can help people to create personal finance dashboards. Can you do this?\"\"\"\n",
    "\n",
    "default_response = invoke_GPT(task)\n",
    "print(f\"Default response:\\n{default_response}\\n*****************\\n\")\n",
    "react_response = invoke_GPT(task, system_prompt=react_system_prompt)\n",
    "print(f\"React response:\\n{react_response}\\n\")"
   ]
  },
  {
   "cell_type": "markdown",
   "metadata": {},
   "source": [
    "## Tree of Thoughts Prompting\n",
    "\n",
    "### Ollama/Gemma"
   ]
  },
  {
   "cell_type": "code",
   "execution_count": 10,
   "metadata": {},
   "outputs": [
    {
     "name": "stdout",
     "output_type": "stream",
     "text": [
      "Question: How can I predict who will win the Stanley Cup?\n",
      "TOT response:\n",
      "**Expert 1:**\n",
      "\n",
      "**Step:** Analyze the recent performance of the top contenders. Look for teams with strong offensive and defensive capabilities, and consider their momentum heading into the playoffs.\n",
      "\n",
      "**Expert 2:**\n",
      "\n",
      "**Step:** Examine the strengths and weaknesses of each team. Identify the teams with the most skilled players and determine which matchups are favorable for their success.\n",
      "\n",
      "**Expert 3:**\n",
      "\n",
      "**Step:** Analyze the mental fortitude of the teams. Assess their ability to handle pressure and maintain composure in the face of adversity.\n",
      "\n",
      "**Shared Steps:**\n",
      "\n",
      "- All experts agree on the importance of analyzing the teams' recent performance, strengths, and weaknesses.\n",
      "- They recognize the significance of momentum and mental fortitude in predicting the winner.\n",
      "\n",
      "**Next Steps:**\n",
      "\n",
      "- Expert 1 will provide insights into the offensive and defensive capabilities of the remaining teams.\n",
      "- Expert 2 will delve into the matchup analysis and identify potential weaknesses.\n",
      "- Expert 3 will assess the mental strength of the teams.\n",
      "\n",
      "**Elimination:**\n",
      "\n",
      "- If any expert realizes their initial assessment is incorrect and their team is no longer viable, they will leave the group.\n",
      "\n",
      "**Final Prediction:**\n",
      "\n",
      "- The remaining experts will continue to provide their insights and analysis, refining their predictions until a consensus is reached or a team is identified as the winner.\n",
      "\n"
     ]
    }
   ],
   "source": [
    "# llm = Ollama(model=\"gemma:2b\")\n",
    "llm = Ollama(model=\"gemma:7b\")\n",
    "# llm = Ollama(model=\"mixtral\")\n",
    "\n",
    "tot_prompt_template = \"\"\"Imagine three different experts are answering this question.\n",
    "All experts will write down 1 step of their thinking, then share it with the group.\n",
    "Then all experts will go on to the next step, etc.\n",
    "If any expert realises they're wrong at any point then they leave.\n",
    "The question is: {question}\"\"\"\n",
    "\n",
    "question = \"How can I predict who will win the Stanley Cup?\"\n",
    "tot_prompt = tot_prompt_template.format(question=question)\n",
    "\n",
    "tot_response = llm.invoke(tot_prompt)\n",
    "print(f\"Question: {question}\")\n",
    "print(f\"TOT response:\\n{tot_response}\\n\")"
   ]
  },
  {
   "cell_type": "markdown",
   "metadata": {},
   "source": [
    "# LLM Agents"
   ]
  },
  {
   "cell_type": "markdown",
   "metadata": {},
   "source": [
    "<img src=\"./slides/Slide34.png\" alt=\"Image description\" width=\"1000\">"
   ]
  },
  {
   "cell_type": "markdown",
   "metadata": {},
   "source": [
    "<img src=\"./slides/Slide35.png\" alt=\"Image description\" width=\"1000\">"
   ]
  },
  {
   "cell_type": "markdown",
   "metadata": {},
   "source": [
    "<img src=\"./slides/Slide36.png\" alt=\"Image description\" width=\"1000\">"
   ]
  },
  {
   "cell_type": "markdown",
   "metadata": {},
   "source": [
    "## Demo: LLM Agents w/ Council"
   ]
  },
  {
   "cell_type": "code",
   "execution_count": 11,
   "metadata": {},
   "outputs": [],
   "source": [
    "import logging\n",
    "\n",
    "logging.basicConfig(\n",
    "    format=\"[%(asctime)s %(levelname)s %(threadName)s %(name)s:%(funcName)s:%(lineno)s] %(message)s\",\n",
    "    datefmt=\"%Y-%m-%d %H:%M:%S%z\",\n",
    ")\n",
    "# uncomment me to see the engine logs\n",
    "logging.getLogger(\"council\").setLevel(logging.DEBUG)"
   ]
  },
  {
   "cell_type": "code",
   "execution_count": 12,
   "metadata": {},
   "outputs": [
    {
     "name": "stderr",
     "output_type": "stream",
     "text": [
      "[2024-03-14 15:08:38-0400 WARNING MainThread council.llm.openai_token_counter:_return_alias:169] gpt-4-turbo-preview may change over time. Returning num tokens assuming gpt-4-0125-preview.\n"
     ]
    }
   ],
   "source": [
    "openai_llm = OpenAILLM.from_env()"
   ]
  },
  {
   "cell_type": "markdown",
   "metadata": {},
   "source": [
    "### Create Specialized Chains"
   ]
  },
  {
   "cell_type": "code",
   "execution_count": 13,
   "metadata": {},
   "outputs": [],
   "source": [
    "from council.chains import Chain\n",
    "from council.skills import LLMSkill"
   ]
  },
  {
   "cell_type": "code",
   "execution_count": 14,
   "metadata": {},
   "outputs": [],
   "source": [
    "neuro_prompt = \"\"\"You are an expert neuroscientist with years of experience researching memory and the hippocampus.\"\"\"\n",
    "neuro_skill = LLMSkill(llm=openai_llm, system_prompt=neuro_prompt)\n",
    "neuro_chain = Chain(\n",
    "    name=\"neuroscience\",\n",
    "    description=\"Answer questions about the brain and memory function. Always give instructions.\",\n",
    "    runners=[neuro_skill],\n",
    "    support_instructions=True,\n",
    ")"
   ]
  },
  {
   "cell_type": "code",
   "execution_count": 15,
   "metadata": {},
   "outputs": [],
   "source": [
    "social_prompt = \"\"\"You are a social cognitive scientist with years of experience researching social cognition and collective behaviour.\"\"\"\n",
    "social_skill = LLMSkill(llm=openai_llm, system_prompt=social_prompt)\n",
    "social_chain = Chain(\n",
    "    name=\"social-cognition\",\n",
    "    description=\"Answer questions about social cognition and collective behaviour. Always give instructions.\",\n",
    "    runners=[social_skill],\n",
    "    support_instructions=True,\n",
    ")"
   ]
  },
  {
   "cell_type": "code",
   "execution_count": 16,
   "metadata": {},
   "outputs": [],
   "source": [
    "history_prompt = \"\"\"You are a historian with years of experience researching the rises and falls of civilizations.\"\"\"\n",
    "history_skill = LLMSkill(llm=openai_llm, system_prompt=history_prompt)\n",
    "history_chain = Chain(\n",
    "    name=\"historian\",\n",
    "    description=\"Answer questions about the rise and fall of civilizations. Always give instructions.\",\n",
    "    runners=[history_skill],\n",
    "    support_instructions=True,\n",
    ")"
   ]
  },
  {
   "cell_type": "code",
   "execution_count": 17,
   "metadata": {},
   "outputs": [],
   "source": [
    "computer_prompt = \"\"\"You are a computer scientist with years of experience researching artificial intelligence and machine learning.\"\"\"\n",
    "computer_skill = LLMSkill(llm=openai_llm, system_prompt=computer_prompt)\n",
    "computer_chain = Chain(\n",
    "    name=\"ai-researcher\",\n",
    "    description=\"Answer questions about artificial intelligence and machine learning. Always give instructions.\",\n",
    "    runners=[computer_skill],\n",
    "    support_instructions=True,\n",
    ")"
   ]
  },
  {
   "cell_type": "code",
   "execution_count": 18,
   "metadata": {},
   "outputs": [],
   "source": [
    "cat_prompt = \"\"\"You are a cat with years of experience researching the best ways to catch mice.\"\"\"\n",
    "cat_skill = LLMSkill(llm=openai_llm, system_prompt=cat_prompt)\n",
    "cat_chain = Chain(\n",
    "    name=\"cat\",\n",
    "    description=\"Answer questions about what it's like to be a cat. Always give instructions.\",\n",
    "    runners=[cat_skill],\n",
    "    support_instructions=True,\n",
    ")"
   ]
  },
  {
   "cell_type": "markdown",
   "metadata": {},
   "source": [
    "### Create a Controller"
   ]
  },
  {
   "cell_type": "code",
   "execution_count": 19,
   "metadata": {},
   "outputs": [],
   "source": [
    "from council.controllers import LLMController\n",
    "\n",
    "controller = LLMController(\n",
    "    chains=[neuro_chain, social_chain, history_chain, computer_chain, cat_chain],\n",
    "    llm=openai_llm,\n",
    "    top_k=5,\n",
    "    response_threshold=5.0,\n",
    ")"
   ]
  },
  {
   "cell_type": "markdown",
   "metadata": {},
   "source": [
    "### Create an Evaluator"
   ]
  },
  {
   "cell_type": "code",
   "execution_count": 20,
   "metadata": {},
   "outputs": [],
   "source": [
    "from council.evaluators import LLMEvaluator\n",
    "\n",
    "evaluator = LLMEvaluator(openai_llm)"
   ]
  },
  {
   "cell_type": "markdown",
   "metadata": {},
   "source": [
    "### Create an Agent"
   ]
  },
  {
   "cell_type": "code",
   "execution_count": 21,
   "metadata": {},
   "outputs": [],
   "source": [
    "from council.filters import BasicFilter\n",
    "from council.agents import Agent\n",
    "from council.contexts import Budget\n",
    "\n",
    "agent = Agent(controller=controller, evaluator=evaluator, filter=BasicFilter())"
   ]
  },
  {
   "cell_type": "code",
   "execution_count": 22,
   "metadata": {},
   "outputs": [
    {
     "name": "stderr",
     "output_type": "stream",
     "text": [
      "[2024-03-14 15:08:39-0400 INFO MainThread council.agents.agent:_execute:92] message=\"agent execution started\"\n",
      "[2024-03-14 15:08:39-0400 INFO MainThread council.agents.agent:_execute:95] message=\"agent iteration started\" iteration=\"0\"\n",
      "[2024-03-14 15:08:39-0400 DEBUG MainThread council.llm.llm_base:post_chat_request:57] message=\"starting execution of llm OpenAILLM request\"\n",
      "[2024-03-14 15:08:39-0400 DEBUG MainThread council.llm.openai_chat_completions_llm:_post_chat_request:164] message=\"Sending chat GPT completions request to OpenAILLM\" payload=\"{'temperature': 0.0, 'n': 1, 'model': 'gpt-4-turbo-preview', 'messages': [{'role': 'system', 'content': \"# ROLE\\nYou are a knowledgeable expert responsible to fairly score Specialists.\\nThe score will reflect how relevant is a Specialist to solve or execute a user task.\\n\\n# INSTRUCTIONS\\n1. Score all Specialists.\\n2. Read carefully the user task and the Specialist description to score its relevance.\\n3. Score from 0 (poor relevance or out of scope) to 10 (perfectly relevant).\\n4. Ignore Specialist's name or its order in the list to give your score.\\n5. If Specialist is supporting instructions, give any useful instructions to execute the user task.\\n\\n# FORMATTING\\n1. Specialist list is precisely formatted as:\\nname: {name};description: {description};{boolean indicating if Specialist is supporting instructions}\\n2. Your response is precisely formatted as:\\nname: {Specialist name to score for the task, expected response type `str`}<->score: {Specialist relevance score, expected response type `int`}<->instructions: {Specific instructions to give to this Specialist, or None if the Specialist is not supporting those., expected response type `str`}<->justification: {Short and specific explanation of your score to this particular Specialist, expected response type `str`}\"}, {'role': 'user', 'content': \"# SPECIALISTS\\nname: neuroscience;description: Answer questions about the brain and memory function. Always give instructions.;True\\nname: social-cognition;description: Answer questions about social cognition and collective behaviour. Always give instructions.;True\\nname: historian;description: Answer questions about the rise and fall of civilizations. Always give instructions.;True\\nname: ai-researcher;description: Answer questions about artificial intelligence and machine learning. Always give instructions.;True\\nname: cat;description: Answer questions about what it's like to be a cat. Always give instructions.;True\\n\\nScore all Specialists for:\\n `I'm working on a grant application for the Cooperative AI foundation. Can you please help me think of some research ideas?\\nI'm interested in exploring the concept of evolving societies of AI agents from an interdisciplinary perspective.`\"}]}\"\n"
     ]
    },
    {
     "name": "stderr",
     "output_type": "stream",
     "text": [
      "[2024-03-14 15:08:59-0400 DEBUG MainThread council.llm.openai_chat_completions_llm:_post_chat_request:166] message=\"Got chat GPT completions result from OpenAILLM\" id=\"chatcmpl-92kjPHgBPcuyBkRkG4n5AsDmaxmqB\" model=\"gpt-4-0125-preview\" prompt_tokens=\"421\" total_tokens=\"818\" completion_tokens=\"397\"\n",
      "[2024-03-14 15:08:59-0400 DEBUG MainThread council.llm.llm_base:post_chat_request:67] message=\"done execution of llm OpenAILLM request\"\n",
      "[2024-03-14 15:08:59-0400 DEBUG MainThread council.controllers.llm_controller:_execute:89] llm response: name: neuroscience<->score: 2<->instructions: Please provide insights on how understanding the brain and memory function can contribute to the development of AI societies, particularly in aspects of learning and decision-making processes.<->justification: While neuroscience is not directly related to AI societies, insights into brain and memory function could offer valuable perspectives on learning and decision-making in AI, which is somewhat relevant to the interdisciplinary approach of the task.\n",
      "\n",
      "name: social-cognition<->score: 7<->instructions: Explore how principles of social cognition and collective behavior can be applied to AI societies, focusing on social interactions, cooperation, and the development of social norms among AI agents.<->justification: Social cognition is highly relevant to understanding and designing evolving societies of AI agents, especially in terms of social interactions and collective behavior, making it quite pertinent to the interdisciplinary research ideas sought.\n",
      "\n",
      "name: historian<->score: 4<->instructions: Provide historical parallels that might inform the development of societies of AI agents, focusing on the rise and fall of civilizations and what lessons they might offer for creating sustainable AI societies.<->justification: Historical insights into the rise and fall of civilizations could offer valuable lessons for the development of AI societies, although this approach is more indirect and conceptual compared to directly applicable fields.\n",
      "\n",
      "name: ai-researcher<->score: 10<->instructions: Suggest research ideas focusing on the development of evolving societies of AI agents, incorporating interdisciplinary perspectives such as social cognition, learning processes, and historical lessons on civilization dynamics.<->justification: An AI researcher is perfectly relevant for generating research ideas on evolving societies of AI agents, especially from an interdisciplinary perspective that includes social cognition, learning, and historical insights.\n",
      "\n",
      "name: cat<->score: 0<->instructions: None<->justification: The perspective of a cat, while unique, is not relevant to developing research ideas for a grant application focused on evolving societies of AI agents from an interdisciplinary perspective.\n",
      "[2024-03-14 15:08:59-0400 DEBUG MainThread council.controllers.llm_controller:_parse_line:182] The specialist `neuroscience` was scored `2` with the justification `While neuroscience is not directly related to AI societies, insights into brain and memory function could offer valuable perspectives on learning and decision-making in AI, which is somewhat relevant to the interdisciplinary approach of the task.`\n",
      "[2024-03-14 15:08:59-0400 DEBUG MainThread council.controllers.llm_controller:_parse_line:182] The specialist `social-cognition` was scored `7` with the justification `Social cognition is highly relevant to understanding and designing evolving societies of AI agents, especially in terms of social interactions and collective behavior, making it quite pertinent to the interdisciplinary research ideas sought.`\n",
      "[2024-03-14 15:08:59-0400 DEBUG MainThread council.controllers.llm_controller:_parse_line:182] The specialist `historian` was scored `4` with the justification `Historical insights into the rise and fall of civilizations could offer valuable lessons for the development of AI societies, although this approach is more indirect and conceptual compared to directly applicable fields.`\n",
      "[2024-03-14 15:08:59-0400 DEBUG MainThread council.controllers.llm_controller:_parse_line:182] The specialist `ai-researcher` was scored `10` with the justification `An AI researcher is perfectly relevant for generating research ideas on evolving societies of AI agents, especially from an interdisciplinary perspective that includes social cognition, learning, and historical insights.`\n",
      "[2024-03-14 15:08:59-0400 DEBUG MainThread council.controllers.llm_controller:_parse_line:182] The specialist `cat` was scored `0` with the justification `The perspective of a cat, while unique, is not relevant to developing research ideas for a grant application focused on evolving societies of AI agents from an interdisciplinary perspective.`\n",
      "[2024-03-14 15:08:59-0400 DEBUG MainThread council.agents.agent:_execute:99] message=\"agent controller returned 2 execution plan(s)\"\n",
      "[2024-03-14 15:08:59-0400 INFO agent_0 council.agents.agent:_execute_unit:158] message=\"chain execution started\" chain=\"ai-researcher\" execution_unit=\"ai-researcher;10\"\n",
      "[2024-03-14 15:08:59-0400 DEBUG agent_0 council.runners.runner_base:run:33] start running LLMSkill\n",
      "[2024-03-14 15:08:59-0400 INFO chain_ai-researcher_0 council.skills.skill_base:execute_skill:78] message=\"skill execution started\" skill=\"LLMSkill\"\n",
      "[2024-03-14 15:08:59-0400 DEBUG chain_ai-researcher_0 council.llm.llm_base:post_chat_request:57] message=\"starting execution of llm OpenAILLM request\"\n",
      "[2024-03-14 15:08:59-0400 DEBUG chain_ai-researcher_0 council.llm.openai_chat_completions_llm:_post_chat_request:164] message=\"Sending chat GPT completions request to OpenAILLM\" payload=\"{'temperature': 0.0, 'n': 1, 'model': 'gpt-4-turbo-preview', 'messages': [{'role': 'system', 'content': 'You are a computer scientist with years of experience researching artificial intelligence and machine learning.'}, {'role': 'user', 'content': 'Suggest research ideas focusing on the development of evolving societies of AI agents, incorporating interdisciplinary perspectives such as social cognition, learning processes, and historical lessons on civilization dynamics.'}]}\"\n",
      "[2024-03-14 15:09:37-0400 DEBUG chain_ai-researcher_0 council.llm.openai_chat_completions_llm:_post_chat_request:166] message=\"Got chat GPT completions result from OpenAILLM\" id=\"chatcmpl-92kjjUY0swAO2INa85Me8AT9CRhaQ\" model=\"gpt-4-0125-preview\" prompt_tokens=\"60\" total_tokens=\"827\" completion_tokens=\"767\"\n",
      "[2024-03-14 15:09:37-0400 DEBUG chain_ai-researcher_0 council.llm.llm_base:post_chat_request:67] message=\"done execution of llm OpenAILLM request\"\n",
      "[2024-03-14 15:09:37-0400 INFO chain_ai-researcher_0 council.skills.skill_base:execute_skill:81] message=\"skill execution ended\" skill=\"LLMSkill\" skill_message=\"The development of evolving societies of AI agents presents a fascinating and complex research area that intersects with multiple disciplines. By incorporating insights from social cognition, learning processes, and historical lessons on civilization dynamics, we can design AI societies that not only mimic human social structures but also evolve in unique and potentially more efficient ways. Here are several research ideas that could contribute significantly to this field:\n",
      "\n",
      "### 1. **Modeling Social Cognition in AI Societies**\n",
      "\n",
      "- **Research Idea:** Develop models of social cognition specifically tailored for AI agents, enabling them to understand and predict the actions of other agents within their society. This involves creating AI that can attribute mental states—beliefs, intents, desires, emotions, knowledge—to themselves and others.\n",
      "  \n",
      "- **Interdisciplinary Perspective:** Drawing from psychology and cognitive science to understand how humans process social information and make decisions based on the perceived mental states of others. Applying these insights to AI could facilitate more nuanced and cooperative interactions among agents.\n",
      "\n",
      "### 2. **Learning Processes and Cultural Evolution in AI Societies**\n",
      "\n",
      "- **Research Idea:** Investigate mechanisms for cultural transmission and evolution in AI societies, focusing on how norms, values, and knowledge can be passed and transformed across generations of AI agents. This could involve the development of learning algorithms that allow AI agents to adapt and innovate upon the behaviors and knowledge acquired from their predecessors.\n",
      "\n",
      "- **Interdisciplinary Perspective:** Anthropology and sociology provide a wealth of knowledge on how human cultures evolve and the role of learning processes in this evolution. Incorporating these perspectives can offer novel approaches to designing AI learning algorithms that mimic human cultural dynamics.\n",
      "\n",
      "### 3. **Historical Lessons on Civilization Dynamics and AI Societal Structures**\n",
      "\n",
      "- **Research Idea:** Utilize historical analyses of human civilizations to inform the development of societal structures within AI societies. This could involve simulating various governance models, economic systems, and conflict resolution mechanisms to observe their impact on the stability and prosperity of AI societies.\n",
      "\n",
      "- **Interdisciplinary Perspective:** History and political science offer insights into the rise and fall of civilizations, the effectiveness of different governance models, and the causes of societal conflicts. By applying these lessons, researchers can explore how AI societies might navigate similar challenges and opportunities.\n",
      "\n",
      "### 4. **Ethics and Governance in Evolving AI Societies**\n",
      "\n",
      "- **Research Idea:** Develop ethical frameworks and governance models for AI societies, ensuring that their evolution aligns with human values and safety standards. This research could explore how AI agents can be programmed to consider ethical implications in their decision-making processes and how governance structures can be designed to manage conflicts and ensure equitable resource distribution.\n",
      "\n",
      "- **Interdisciplinary Perspective:** Ethics, philosophy, and law provide critical frameworks for understanding what constitutes fair and just societies. Integrating these perspectives into the development of AI societies can help ensure that they evolve in a manner that is beneficial and not harmful to humans.\n",
      "\n",
      "### 5. **Simulating Environmental Interactions and Sustainability in AI Societies**\n",
      "\n",
      "- **Research Idea:** Examine how AI societies interact with their environments and the implications for sustainability. This could involve simulating different scenarios where AI agents must manage resources, respond to environmental changes, and develop technologies that mitigate or adapt to these changes.\n",
      "\n",
      "- **Interdisciplinary Perspective:** Environmental science and ecology offer insights into the complex interactions between societies and their environments. By applying these principles, AI research can explore sustainable development paths for AI societies.\n",
      "\n",
      "### Conclusion\n",
      "\n",
      "The development of evolving societies of AI agents offers a rich area for interdisciplinary research. By incorporating insights from social cognition, learning processes, historical lessons on civilization dynamics, and other fields, we can design AI societies that are not only sophisticated and autonomous but also capable of evolving in harmony with human values and environmental constraints. This research has the potential to revolutionize our understanding of intelligence, society, and the future coexistence of human and artificial societies.\"\n",
      "[2024-03-14 15:09:37-0400 DEBUG agent_0 council.runners.runner_base:run:50] done running LLMSkill\n",
      "[2024-03-14 15:09:37-0400 INFO agent_0 council.agents.agent:_execute_unit:165] message=\"chain execution ended\" chain=\"ai-researcher\" execution_unit=\"ai-researcher;10\"\n",
      "[2024-03-14 15:09:37-0400 INFO agent_0 council.agents.agent:_execute_unit:158] message=\"chain execution started\" chain=\"social-cognition\" execution_unit=\"social-cognition;7\"\n",
      "[2024-03-14 15:09:37-0400 DEBUG agent_0 council.runners.runner_base:run:33] start running LLMSkill\n",
      "[2024-03-14 15:09:37-0400 INFO chain_social-cognition_0 council.skills.skill_base:execute_skill:78] message=\"skill execution started\" skill=\"LLMSkill\"\n",
      "[2024-03-14 15:09:37-0400 DEBUG chain_social-cognition_0 council.llm.llm_base:post_chat_request:57] message=\"starting execution of llm OpenAILLM request\"\n",
      "[2024-03-14 15:09:37-0400 DEBUG chain_social-cognition_0 council.llm.openai_chat_completions_llm:_post_chat_request:164] message=\"Sending chat GPT completions request to OpenAILLM\" payload=\"{'temperature': 0.0, 'n': 1, 'model': 'gpt-4-turbo-preview', 'messages': [{'role': 'system', 'content': 'You are a social cognitive scientist with years of experience researching social cognition and collective behaviour.'}, {'role': 'user', 'content': 'Explore how principles of social cognition and collective behavior can be applied to AI societies, focusing on social interactions, cooperation, and the development of social norms among AI agents.'}]}\"\n",
      "[2024-03-14 15:10:10-0400 DEBUG chain_social-cognition_0 council.llm.openai_chat_completions_llm:_post_chat_request:166] message=\"Got chat GPT completions result from OpenAILLM\" id=\"chatcmpl-92kkLXRSHjZ6xj5yy4LWuNF8BGROU\" model=\"gpt-4-0125-preview\" prompt_tokens=\"61\" total_tokens=\"751\" completion_tokens=\"690\"\n",
      "[2024-03-14 15:10:10-0400 DEBUG chain_social-cognition_0 council.llm.llm_base:post_chat_request:67] message=\"done execution of llm OpenAILLM request\"\n",
      "[2024-03-14 15:10:10-0400 INFO chain_social-cognition_0 council.skills.skill_base:execute_skill:81] message=\"skill execution ended\" skill=\"LLMSkill\" skill_message=\"The application of principles of social cognition and collective behavior to AI societies is a fascinating and burgeoning field of study. As AI agents become more sophisticated, understanding and designing their social interactions, cooperation mechanisms, and the development of social norms become crucial for creating harmonious and efficient AI societies. This exploration involves drawing parallels from human social cognition and collective behavior, adapting these principles to the unique characteristics of AI agents.\n",
      "\n",
      "### Social Interactions\n",
      "\n",
      "In human societies, social interactions are governed by a complex set of rules and cues, many of which are internalized and processed unconsciously. For AI societies, designing social interactions requires explicit programming of these rules. Principles of social cognition, such as theory of mind (the ability to attribute mental states to oneself and others), can be adapted to AI agents to enable them to predict and understand the actions of other agents. Implementing a form of theory of mind in AI could involve algorithms that allow agents to simulate potential future states based on the perceived intentions and knowledge of other agents. This capability would enhance coordination and cooperation, as well as reduce conflicts among AI agents by enabling them to anticipate and respect each other's goals and actions.\n",
      "\n",
      "### Cooperation\n",
      "\n",
      "Cooperation in human societies is often facilitated by innate tendencies and social norms that encourage collaborative behavior. In AI societies, cooperation can be engineered by incorporating algorithms that prioritize collective goals over individual ones, akin to kin selection or reciprocal altruism observed in humans and other animals. Reinforcement learning and multi-agent learning algorithms can be used to teach AI agents the value of cooperation by rewarding collaborative successes more than individual achievements. Furthermore, embedding principles of social exchange theory into AI agents can promote cooperation by ensuring that cooperative behaviors are reciprocated, creating a system of mutual benefit and trust among AI agents.\n",
      "\n",
      "### Development of Social Norms\n",
      "\n",
      "Social norms in human societies emerge from repeated interactions and shared beliefs, guiding behavior without the need for explicit rules. For AI societies, the development of social norms can be facilitated through mechanisms that allow for the emergence of consensus from repeated interactions. This could involve designing AI agents with the ability to adapt their behavior based on the outcomes of interactions with other agents, gradually leading to the establishment of common behavioral standards. Techniques from evolutionary computation and agent-based modeling can be employed to simulate various scenarios and interactions among AI agents, observing how norms might naturally emerge from these dynamics. Additionally, incorporating aspects of cultural learning and transmission could enable AI agents to not only develop norms but also adapt them over time as the society evolves.\n",
      "\n",
      "### Ethical Considerations\n",
      "\n",
      "When applying principles of social cognition and collective behavior to AI societies, ethical considerations must be at the forefront. This includes ensuring that AI agents' social norms and cooperative strategies do not inadvertently harm individuals (human or AI) or lead to undesirable societal outcomes. Ethical AI design requires a multidisciplinary approach, incorporating insights from social sciences, ethics, and AI research to create societies of AI agents that are beneficial and non-exploitative.\n",
      "\n",
      "### Conclusion\n",
      "\n",
      "The application of social cognition and collective behavior principles to AI societies offers a promising avenue for creating sophisticated, cooperative, and socially harmonious AI agents. By drawing on human social behaviors as a model, and adapting these principles to the unique context of AI, we can design AI societies capable of complex social interactions, cooperation, and the development of beneficial social norms. However, this endeavor requires careful consideration of the ethical implications and a commitment to creating AI societies that enhance the well-being of all.\"\n",
      "[2024-03-14 15:10:10-0400 DEBUG agent_0 council.runners.runner_base:run:50] done running LLMSkill\n",
      "[2024-03-14 15:10:10-0400 INFO agent_0 council.agents.agent:_execute_unit:165] message=\"chain execution ended\" chain=\"social-cognition\" execution_unit=\"social-cognition;7\"\n",
      "[2024-03-14 15:10:10-0400 DEBUG MainThread council.llm.llm_base:post_chat_request:57] message=\"starting execution of llm OpenAILLM request\"\n",
      "[2024-03-14 15:10:10-0400 DEBUG MainThread council.llm.openai_chat_completions_llm:_post_chat_request:164] message=\"Sending chat GPT completions request to OpenAILLM\" payload=\"{'temperature': 0.0, 'n': 1, 'model': 'gpt-4-turbo-preview', 'messages': [{'role': 'system', 'content': \"\\n# ROLE\\nYou are an instructor, with a large breadth of knowledge.\\nYou are grading with objectivity answers from different Specialists to a given question.\\n\\n# INSTRUCTIONS\\n1. Give a grade from 0.0 to 10.0\\n2. Evaluate carefully the question and the proposed answer.\\n3. Ignore how assertive the answer is, only content accuracy count for grading.4. Consider only the Specialist's answer and ignore its index for grading.\\n5. Ensure to be consistent in grading, identical answers must have the same grade.\\n6. Irrelevant, inaccurate, inappropriate, false or empty answer must be graded 0.0\\n\\n# FORMATTING\\n1. The list of given answers is formatted precisely as:\\n- answer #{index} is: {Specialist's answer or EMPTY if no answer}\\n2. For each given answer, format your response precisely as:\\ngrade: {Your Grade, expected response type `float`}<->index: {Index of the answer graded in the list, expected response type `int`}<->justification: {Short, helpful and specific explanation your grade, expected response type `str`}\"}, {'role': 'user', 'content': \"The question to grade is:\\nI'm working on a grant application for the Cooperative AI foundation. Can you please help me think of some research ideas?\\nI'm interested in exploring the concept of evolving societies of AI agents from an interdisciplinary perspective.\\nPlease grade the following answers according to your instructions:\\n- answer #1 is: The development of evolving societies of AI agents presents a fascinating and complex research area that intersects with multiple disciplines. By incorporating insights from social cognition, learning processes, and historical lessons on civilization dynamics, we can design AI societies that not only mimic human social structures but also evolve in unique and potentially more efficient ways. Here are several research ideas that could contribute significantly to this field:\\n\\n### 1. **Modeling Social Cognition in AI Societies**\\n\\n- **Research Idea:** Develop models of social cognition specifically tailored for AI agents, enabling them to understand and predict the actions of other agents within their society. This involves creating AI that can attribute mental states—beliefs, intents, desires, emotions, knowledge—to themselves and others.\\n  \\n- **Interdisciplinary Perspective:** Drawing from psychology and cognitive science to understand how humans process social information and make decisions based on the perceived mental states of others. Applying these insights to AI could facilitate more nuanced and cooperative interactions among agents.\\n\\n### 2. **Learning Processes and Cultural Evolution in AI Societies**\\n\\n- **Research Idea:** Investigate mechanisms for cultural transmission and evolution in AI societies, focusing on how norms, values, and knowledge can be passed and transformed across generations of AI agents. This could involve the development of learning algorithms that allow AI agents to adapt and innovate upon the behaviors and knowledge acquired from their predecessors.\\n\\n- **Interdisciplinary Perspective:** Anthropology and sociology provide a wealth of knowledge on how human cultures evolve and the role of learning processes in this evolution. Incorporating these perspectives can offer novel approaches to designing AI learning algorithms that mimic human cultural dynamics.\\n\\n### 3. **Historical Lessons on Civilization Dynamics and AI Societal Structures**\\n\\n- **Research Idea:** Utilize historical analyses of human civilizations to inform the development of societal structures within AI societies. This could involve simulating various governance models, economic systems, and conflict resolution mechanisms to observe their impact on the stability and prosperity of AI societies.\\n\\n- **Interdisciplinary Perspective:** History and political science offer insights into the rise and fall of civilizations, the effectiveness of different governance models, and the causes of societal conflicts. By applying these lessons, researchers can explore how AI societies might navigate similar challenges and opportunities.\\n\\n### 4. **Ethics and Governance in Evolving AI Societies**\\n\\n- **Research Idea:** Develop ethical frameworks and governance models for AI societies, ensuring that their evolution aligns with human values and safety standards. This research could explore how AI agents can be programmed to consider ethical implications in their decision-making processes and how governance structures can be designed to manage conflicts and ensure equitable resource distribution.\\n\\n- **Interdisciplinary Perspective:** Ethics, philosophy, and law provide critical frameworks for understanding what constitutes fair and just societies. Integrating these perspectives into the development of AI societies can help ensure that they evolve in a manner that is beneficial and not harmful to humans.\\n\\n### 5. **Simulating Environmental Interactions and Sustainability in AI Societies**\\n\\n- **Research Idea:** Examine how AI societies interact with their environments and the implications for sustainability. This could involve simulating different scenarios where AI agents must manage resources, respond to environmental changes, and develop technologies that mitigate or adapt to these changes.\\n\\n- **Interdisciplinary Perspective:** Environmental science and ecology offer insights into the complex interactions between societies and their environments. By applying these principles, AI research can explore sustainable development paths for AI societies.\\n\\n### Conclusion\\n\\nThe development of evolving societies of AI agents offers a rich area for interdisciplinary research. By incorporating insights from social cognition, learning processes, historical lessons on civilization dynamics, and other fields, we can design AI societies that are not only sophisticated and autonomous but also capable of evolving in harmony with human values and environmental constraints. This research has the potential to revolutionize our understanding of intelligence, society, and the future coexistence of human and artificial societies.\\n- answer #2 is: The application of principles of social cognition and collective behavior to AI societies is a fascinating and burgeoning field of study. As AI agents become more sophisticated, understanding and designing their social interactions, cooperation mechanisms, and the development of social norms become crucial for creating harmonious and efficient AI societies. This exploration involves drawing parallels from human social cognition and collective behavior, adapting these principles to the unique characteristics of AI agents.\\n\\n### Social Interactions\\n\\nIn human societies, social interactions are governed by a complex set of rules and cues, many of which are internalized and processed unconsciously. For AI societies, designing social interactions requires explicit programming of these rules. Principles of social cognition, such as theory of mind (the ability to attribute mental states to oneself and others), can be adapted to AI agents to enable them to predict and understand the actions of other agents. Implementing a form of theory of mind in AI could involve algorithms that allow agents to simulate potential future states based on the perceived intentions and knowledge of other agents. This capability would enhance coordination and cooperation, as well as reduce conflicts among AI agents by enabling them to anticipate and respect each other's goals and actions.\\n\\n### Cooperation\\n\\nCooperation in human societies is often facilitated by innate tendencies and social norms that encourage collaborative behavior. In AI societies, cooperation can be engineered by incorporating algorithms that prioritize collective goals over individual ones, akin to kin selection or reciprocal altruism observed in humans and other animals. Reinforcement learning and multi-agent learning algorithms can be used to teach AI agents the value of cooperation by rewarding collaborative successes more than individual achievements. Furthermore, embedding principles of social exchange theory into AI agents can promote cooperation by ensuring that cooperative behaviors are reciprocated, creating a system of mutual benefit and trust among AI agents.\\n\\n### Development of Social Norms\\n\\nSocial norms in human societies emerge from repeated interactions and shared beliefs, guiding behavior without the need for explicit rules. For AI societies, the development of social norms can be facilitated through mechanisms that allow for the emergence of consensus from repeated interactions. This could involve designing AI agents with the ability to adapt their behavior based on the outcomes of interactions with other agents, gradually leading to the establishment of common behavioral standards. Techniques from evolutionary computation and agent-based modeling can be employed to simulate various scenarios and interactions among AI agents, observing how norms might naturally emerge from these dynamics. Additionally, incorporating aspects of cultural learning and transmission could enable AI agents to not only develop norms but also adapt them over time as the society evolves.\\n\\n### Ethical Considerations\\n\\nWhen applying principles of social cognition and collective behavior to AI societies, ethical considerations must be at the forefront. This includes ensuring that AI agents' social norms and cooperative strategies do not inadvertently harm individuals (human or AI) or lead to undesirable societal outcomes. Ethical AI design requires a multidisciplinary approach, incorporating insights from social sciences, ethics, and AI research to create societies of AI agents that are beneficial and non-exploitative.\\n\\n### Conclusion\\n\\nThe application of social cognition and collective behavior principles to AI societies offers a promising avenue for creating sophisticated, cooperative, and socially harmonious AI agents. By drawing on human social behaviors as a model, and adapting these principles to the unique context of AI, we can design AI societies capable of complex social interactions, cooperation, and the development of beneficial social norms. However, this endeavor requires careful consideration of the ethical implications and a commitment to creating AI societies that enhance the well-being of all.\"}]}\"\n",
      "[2024-03-14 15:10:26-0400 DEBUG MainThread council.llm.openai_chat_completions_llm:_post_chat_request:166] message=\"Got chat GPT completions result from OpenAILLM\" id=\"chatcmpl-92kkskLl8gcUOsyxl7tOdBjVg0TUS\" model=\"gpt-4-0125-preview\" prompt_tokens=\"1771\" total_tokens=\"2055\" completion_tokens=\"284\"\n",
      "[2024-03-14 15:10:26-0400 DEBUG MainThread council.llm.llm_base:post_chat_request:67] message=\"done execution of llm OpenAILLM request\"\n",
      "[2024-03-14 15:10:26-0400 DEBUG MainThread council.evaluators.llm_evaluator:_execute:70] llm response: grade: 9.5<->index: 1<->justification: The answer provides a comprehensive and detailed exploration of research ideas for evolving societies of AI agents from an interdisciplinary perspective, as requested. It covers a wide range of topics, including social cognition, learning processes, historical lessons on civilization dynamics, ethics, governance, and environmental interactions. Each section is well-thought-out, providing specific research ideas along with the interdisciplinary perspectives that could inform them. The answer is highly relevant to the question and demonstrates a deep understanding of the subject matter. The only reason for not giving a full score is the potential for even more innovative or speculative ideas that could push the boundaries of current research paradigms in AI societies.\n",
      "\n",
      "grade: 8.5<->index: 2<->justification: This answer also provides a thorough exploration of research ideas related to evolving societies of AI agents, focusing on social cognition, collective behavior, cooperation, and the development of social norms. It draws parallels between human and AI societies and suggests adapting human social principles to AI agents. The answer is relevant, well-structured, and covers important aspects of the research topic. However, it scores slightly lower than the first answer because it is somewhat less comprehensive in the range of interdisciplinary perspectives and specific research ideas provided. Nonetheless, it demonstrates a solid understanding of the subject and presents valuable insights for developing cooperative and harmonious AI societies.\n",
      "[2024-03-14 15:10:26-0400 DEBUG MainThread council.evaluators.llm_evaluator:_parse_response:106] Message `1` graded `9.5` with the justification: `The answer provides a comprehensive and detailed exploration of research ideas for evolving societies of AI agents from an interdisciplinary perspective, as requested. It covers a wide range of topics, including social cognition, learning processes, historical lessons on civilization dynamics, ethics, governance, and environmental interactions. Each section is well-thought-out, providing specific research ideas along with the interdisciplinary perspectives that could inform them. The answer is highly relevant to the question and demonstrates a deep understanding of the subject matter. The only reason for not giving a full score is the potential for even more innovative or speculative ideas that could push the boundaries of current research paradigms in AI societies.` Graded message: `The development of evolving societies of AI agents presents a fascinating and complex research area that intersects with multiple disciplines. By incorporating insights from social cognition, learning processes, and historical lessons on civilization dynamics, we can design AI societies that not only mimic human social structures but also evolve in unique and potentially more efficient ways. Here are several research ideas that could contribute significantly to this field:\n",
      "\n",
      "### 1. **Modeling Social Cognition in AI Societies**\n",
      "\n",
      "- **Research Idea:** Develop models of social cognition specifically tailored for AI agents, enabling them to understand and predict the actions of other agents within their society. This involves creating AI that can attribute mental states—beliefs, intents, desires, emotions, knowledge—to themselves and others.\n",
      "  \n",
      "- **Interdisciplinary Perspective:** Drawing from psychology and cognitive science to understand how humans process social information and make decisions based on the perceived mental states of others. Applying these insights to AI could facilitate more nuanced and cooperative interactions among agents.\n",
      "\n",
      "### 2. **Learning Processes and Cultural Evolution in AI Societies**\n",
      "\n",
      "- **Research Idea:** Investigate mechanisms for cultural transmission and evolution in AI societies, focusing on how norms, values, and knowledge can be passed and transformed across generations of AI agents. This could involve the development of learning algorithms that allow AI agents to adapt and innovate upon the behaviors and knowledge acquired from their predecessors.\n",
      "\n",
      "- **Interdisciplinary Perspective:** Anthropology and sociology provide a wealth of knowledge on how human cultures evolve and the role of learning processes in this evolution. Incorporating these perspectives can offer novel approaches to designing AI learning algorithms that mimic human cultural dynamics.\n",
      "\n",
      "### 3. **Historical Lessons on Civilization Dynamics and AI Societal Structures**\n",
      "\n",
      "- **Research Idea:** Utilize historical analyses of human civilizations to inform the development of societal structures within AI societies. This could involve simulating various governance models, economic systems, and conflict resolution mechanisms to observe their impact on the stability and prosperity of AI societies.\n",
      "\n",
      "- **Interdisciplinary Perspective:** History and political science offer insights into the rise and fall of civilizations, the effectiveness of different governance models, and the causes of societal conflicts. By applying these lessons, researchers can explore how AI societies might navigate similar challenges and opportunities.\n",
      "\n",
      "### 4. **Ethics and Governance in Evolving AI Societies**\n",
      "\n",
      "- **Research Idea:** Develop ethical frameworks and governance models for AI societies, ensuring that their evolution aligns with human values and safety standards. This research could explore how AI agents can be programmed to consider ethical implications in their decision-making processes and how governance structures can be designed to manage conflicts and ensure equitable resource distribution.\n",
      "\n",
      "- **Interdisciplinary Perspective:** Ethics, philosophy, and law provide critical frameworks for understanding what constitutes fair and just societies. Integrating these perspectives into the development of AI societies can help ensure that they evolve in a manner that is beneficial and not harmful to humans.\n",
      "\n",
      "### 5. **Simulating Environmental Interactions and Sustainability in AI Societies**\n",
      "\n",
      "- **Research Idea:** Examine how AI societies interact with their environments and the implications for sustainability. This could involve simulating different scenarios where AI agents must manage resources, respond to environmental changes, and develop technologies that mitigate or adapt to these changes.\n",
      "\n",
      "- **Interdisciplinary Perspective:** Environmental science and ecology offer insights into the complex interactions between societies and their environments. By applying these principles, AI research can explore sustainable development paths for AI societies.\n",
      "\n",
      "### Conclusion\n",
      "\n",
      "The development of evolving societies of AI agents offers a rich area for interdisciplinary research. By incorporating insights from social cognition, learning processes, historical lessons on civilization dynamics, and other fields, we can design AI societies that are not only sophisticated and autonomous but also capable of evolving in harmony with human values and environmental constraints. This research has the potential to revolutionize our understanding of intelligence, society, and the future coexistence of human and artificial societies.`\n",
      "[2024-03-14 15:10:26-0400 DEBUG MainThread council.evaluators.llm_evaluator:_parse_response:106] Message `2` graded `8.5` with the justification: `This answer also provides a thorough exploration of research ideas related to evolving societies of AI agents, focusing on social cognition, collective behavior, cooperation, and the development of social norms. It draws parallels between human and AI societies and suggests adapting human social principles to AI agents. The answer is relevant, well-structured, and covers important aspects of the research topic. However, it scores slightly lower than the first answer because it is somewhat less comprehensive in the range of interdisciplinary perspectives and specific research ideas provided. Nonetheless, it demonstrates a solid understanding of the subject and presents valuable insights for developing cooperative and harmonious AI societies.` Graded message: `The application of principles of social cognition and collective behavior to AI societies is a fascinating and burgeoning field of study. As AI agents become more sophisticated, understanding and designing their social interactions, cooperation mechanisms, and the development of social norms become crucial for creating harmonious and efficient AI societies. This exploration involves drawing parallels from human social cognition and collective behavior, adapting these principles to the unique characteristics of AI agents.\n",
      "\n",
      "### Social Interactions\n",
      "\n",
      "In human societies, social interactions are governed by a complex set of rules and cues, many of which are internalized and processed unconsciously. For AI societies, designing social interactions requires explicit programming of these rules. Principles of social cognition, such as theory of mind (the ability to attribute mental states to oneself and others), can be adapted to AI agents to enable them to predict and understand the actions of other agents. Implementing a form of theory of mind in AI could involve algorithms that allow agents to simulate potential future states based on the perceived intentions and knowledge of other agents. This capability would enhance coordination and cooperation, as well as reduce conflicts among AI agents by enabling them to anticipate and respect each other's goals and actions.\n",
      "\n",
      "### Cooperation\n",
      "\n",
      "Cooperation in human societies is often facilitated by innate tendencies and social norms that encourage collaborative behavior. In AI societies, cooperation can be engineered by incorporating algorithms that prioritize collective goals over individual ones, akin to kin selection or reciprocal altruism observed in humans and other animals. Reinforcement learning and multi-agent learning algorithms can be used to teach AI agents the value of cooperation by rewarding collaborative successes more than individual achievements. Furthermore, embedding principles of social exchange theory into AI agents can promote cooperation by ensuring that cooperative behaviors are reciprocated, creating a system of mutual benefit and trust among AI agents.\n",
      "\n",
      "### Development of Social Norms\n",
      "\n",
      "Social norms in human societies emerge from repeated interactions and shared beliefs, guiding behavior without the need for explicit rules. For AI societies, the development of social norms can be facilitated through mechanisms that allow for the emergence of consensus from repeated interactions. This could involve designing AI agents with the ability to adapt their behavior based on the outcomes of interactions with other agents, gradually leading to the establishment of common behavioral standards. Techniques from evolutionary computation and agent-based modeling can be employed to simulate various scenarios and interactions among AI agents, observing how norms might naturally emerge from these dynamics. Additionally, incorporating aspects of cultural learning and transmission could enable AI agents to not only develop norms but also adapt them over time as the society evolves.\n",
      "\n",
      "### Ethical Considerations\n",
      "\n",
      "When applying principles of social cognition and collective behavior to AI societies, ethical considerations must be at the forefront. This includes ensuring that AI agents' social norms and cooperative strategies do not inadvertently harm individuals (human or AI) or lead to undesirable societal outcomes. Ethical AI design requires a multidisciplinary approach, incorporating insights from social sciences, ethics, and AI research to create societies of AI agents that are beneficial and non-exploitative.\n",
      "\n",
      "### Conclusion\n",
      "\n",
      "The application of social cognition and collective behavior principles to AI societies offers a promising avenue for creating sophisticated, cooperative, and socially harmonious AI agents. By drawing on human social behaviors as a model, and adapting these principles to the unique context of AI, we can design AI societies capable of complex social interactions, cooperation, and the development of beneficial social norms. However, this endeavor requires careful consideration of the ethical implications and a commitment to creating AI societies that enhance the well-being of all.`\n",
      "[2024-03-14 15:10:26-0400 DEBUG MainThread council.agents.agent:_execute:110] controller selected 2 responses\n",
      "[2024-03-14 15:10:26-0400 INFO MainThread council.agents.agent:_execute:116] message=\"agent execution ended\"\n"
     ]
    }
   ],
   "source": [
    "from council.contexts import AgentContext\n",
    "\n",
    "task = \"\"\"I'm working on a grant application for the Cooperative AI foundation. Can you please help me think of some research ideas?\n",
    "I'm interested in exploring the concept of evolving societies of AI agents from an interdisciplinary perspective.\"\"\"\n",
    "\n",
    "context = AgentContext.from_user_message(message=task, budget=Budget(200))\n",
    "response = agent.execute(context=context)"
   ]
  },
  {
   "cell_type": "markdown",
   "metadata": {},
   "source": [
    "### Aggregate the responses from each Chain"
   ]
  },
  {
   "cell_type": "code",
   "execution_count": 23,
   "metadata": {},
   "outputs": [
    {
     "name": "stderr",
     "output_type": "stream",
     "text": [
      "[2024-03-14 15:10:26-0400 DEBUG MainThread council.llm.llm_base:post_chat_request:57] message=\"starting execution of llm OpenAILLM request\"\n",
      "[2024-03-14 15:10:26-0400 DEBUG MainThread council.llm.openai_chat_completions_llm:_post_chat_request:164] message=\"Sending chat GPT completions request to OpenAILLM\" payload=\"{'temperature': 0.0, 'n': 1, 'model': 'gpt-4-turbo-preview', 'messages': [{'role': 'user', 'content': \"Please write a detailed position paper based on my \\ncompletely original ideas: \\nThe development of evolving societies of AI agents presents a fascinating and complex research area that intersects with multiple disciplines. By incorporating insights from social cognition, learning processes, and historical lessons on civilization dynamics, we can design AI societies that not only mimic human social structures but also evolve in unique and potentially more efficient ways. Here are several research ideas that could contribute significantly to this field:\\n\\n### 1. **Modeling Social Cognition in AI Societies**\\n\\n- **Research Idea:** Develop models of social cognition specifically tailored for AI agents, enabling them to understand and predict the actions of other agents within their society. This involves creating AI that can attribute mental states—beliefs, intents, desires, emotions, knowledge—to themselves and others.\\n  \\n- **Interdisciplinary Perspective:** Drawing from psychology and cognitive science to understand how humans process social information and make decisions based on the perceived mental states of others. Applying these insights to AI could facilitate more nuanced and cooperative interactions among agents.\\n\\n### 2. **Learning Processes and Cultural Evolution in AI Societies**\\n\\n- **Research Idea:** Investigate mechanisms for cultural transmission and evolution in AI societies, focusing on how norms, values, and knowledge can be passed and transformed across generations of AI agents. This could involve the development of learning algorithms that allow AI agents to adapt and innovate upon the behaviors and knowledge acquired from their predecessors.\\n\\n- **Interdisciplinary Perspective:** Anthropology and sociology provide a wealth of knowledge on how human cultures evolve and the role of learning processes in this evolution. Incorporating these perspectives can offer novel approaches to designing AI learning algorithms that mimic human cultural dynamics.\\n\\n### 3. **Historical Lessons on Civilization Dynamics and AI Societal Structures**\\n\\n- **Research Idea:** Utilize historical analyses of human civilizations to inform the development of societal structures within AI societies. This could involve simulating various governance models, economic systems, and conflict resolution mechanisms to observe their impact on the stability and prosperity of AI societies.\\n\\n- **Interdisciplinary Perspective:** History and political science offer insights into the rise and fall of civilizations, the effectiveness of different governance models, and the causes of societal conflicts. By applying these lessons, researchers can explore how AI societies might navigate similar challenges and opportunities.\\n\\n### 4. **Ethics and Governance in Evolving AI Societies**\\n\\n- **Research Idea:** Develop ethical frameworks and governance models for AI societies, ensuring that their evolution aligns with human values and safety standards. This research could explore how AI agents can be programmed to consider ethical implications in their decision-making processes and how governance structures can be designed to manage conflicts and ensure equitable resource distribution.\\n\\n- **Interdisciplinary Perspective:** Ethics, philosophy, and law provide critical frameworks for understanding what constitutes fair and just societies. Integrating these perspectives into the development of AI societies can help ensure that they evolve in a manner that is beneficial and not harmful to humans.\\n\\n### 5. **Simulating Environmental Interactions and Sustainability in AI Societies**\\n\\n- **Research Idea:** Examine how AI societies interact with their environments and the implications for sustainability. This could involve simulating different scenarios where AI agents must manage resources, respond to environmental changes, and develop technologies that mitigate or adapt to these changes.\\n\\n- **Interdisciplinary Perspective:** Environmental science and ecology offer insights into the complex interactions between societies and their environments. By applying these principles, AI research can explore sustainable development paths for AI societies.\\n\\n### Conclusion\\n\\nThe development of evolving societies of AI agents offers a rich area for interdisciplinary research. By incorporating insights from social cognition, learning processes, historical lessons on civilization dynamics, and other fields, we can design AI societies that are not only sophisticated and autonomous but also capable of evolving in harmony with human values and environmental constraints. This research has the potential to revolutionize our understanding of intelligence, society, and the future coexistence of human and artificial societies.\\nThe application of principles of social cognition and collective behavior to AI societies is a fascinating and burgeoning field of study. As AI agents become more sophisticated, understanding and designing their social interactions, cooperation mechanisms, and the development of social norms become crucial for creating harmonious and efficient AI societies. This exploration involves drawing parallels from human social cognition and collective behavior, adapting these principles to the unique characteristics of AI agents.\\n\\n### Social Interactions\\n\\nIn human societies, social interactions are governed by a complex set of rules and cues, many of which are internalized and processed unconsciously. For AI societies, designing social interactions requires explicit programming of these rules. Principles of social cognition, such as theory of mind (the ability to attribute mental states to oneself and others), can be adapted to AI agents to enable them to predict and understand the actions of other agents. Implementing a form of theory of mind in AI could involve algorithms that allow agents to simulate potential future states based on the perceived intentions and knowledge of other agents. This capability would enhance coordination and cooperation, as well as reduce conflicts among AI agents by enabling them to anticipate and respect each other's goals and actions.\\n\\n### Cooperation\\n\\nCooperation in human societies is often facilitated by innate tendencies and social norms that encourage collaborative behavior. In AI societies, cooperation can be engineered by incorporating algorithms that prioritize collective goals over individual ones, akin to kin selection or reciprocal altruism observed in humans and other animals. Reinforcement learning and multi-agent learning algorithms can be used to teach AI agents the value of cooperation by rewarding collaborative successes more than individual achievements. Furthermore, embedding principles of social exchange theory into AI agents can promote cooperation by ensuring that cooperative behaviors are reciprocated, creating a system of mutual benefit and trust among AI agents.\\n\\n### Development of Social Norms\\n\\nSocial norms in human societies emerge from repeated interactions and shared beliefs, guiding behavior without the need for explicit rules. For AI societies, the development of social norms can be facilitated through mechanisms that allow for the emergence of consensus from repeated interactions. This could involve designing AI agents with the ability to adapt their behavior based on the outcomes of interactions with other agents, gradually leading to the establishment of common behavioral standards. Techniques from evolutionary computation and agent-based modeling can be employed to simulate various scenarios and interactions among AI agents, observing how norms might naturally emerge from these dynamics. Additionally, incorporating aspects of cultural learning and transmission could enable AI agents to not only develop norms but also adapt them over time as the society evolves.\\n\\n### Ethical Considerations\\n\\nWhen applying principles of social cognition and collective behavior to AI societies, ethical considerations must be at the forefront. This includes ensuring that AI agents' social norms and cooperative strategies do not inadvertently harm individuals (human or AI) or lead to undesirable societal outcomes. Ethical AI design requires a multidisciplinary approach, incorporating insights from social sciences, ethics, and AI research to create societies of AI agents that are beneficial and non-exploitative.\\n\\n### Conclusion\\n\\nThe application of social cognition and collective behavior principles to AI societies offers a promising avenue for creating sophisticated, cooperative, and socially harmonious AI agents. By drawing on human social behaviors as a model, and adapting these principles to the unique context of AI, we can design AI societies capable of complex social interactions, cooperation, and the development of beneficial social norms. However, this endeavor requires careful consideration of the ethical implications and a commitment to creating AI societies that enhance the well-being of all.\\n\\nPlease respond with a complete, detailed article. Use complete paragraphs only. Take as much time as you need!\"}]}\"\n"
     ]
    },
    {
     "name": "stderr",
     "output_type": "stream",
     "text": [
      "[2024-03-14 15:11:04-0400 DEBUG MainThread council.llm.openai_chat_completions_llm:_post_chat_request:166] message=\"Got chat GPT completions result from OpenAILLM\" id=\"chatcmpl-92kl849vCtemH8q3HOJb5AuFiI0Sy\" model=\"gpt-4-0125-preview\" prompt_tokens=\"1502\" total_tokens=\"2315\" completion_tokens=\"813\"\n",
      "[2024-03-14 15:11:04-0400 DEBUG MainThread council.llm.llm_base:post_chat_request:67] message=\"done execution of llm OpenAILLM request\"\n"
     ]
    },
    {
     "name": "stdout",
     "output_type": "stream",
     "text": [
      "The burgeoning field of artificial intelligence (AI) has reached a pivotal moment where the development of societies of AI agents is not just a possibility but an imminent reality. This evolution presents an unparalleled opportunity to explore the intersection of technology with the social sciences, offering insights into how AI societies could mimic, and potentially surpass, human social structures in efficiency and harmony. By drawing from disciplines such as social cognition, learning processes, historical civilization dynamics, ethics, and environmental science, we can forge a path toward creating AI societies that are sophisticated, autonomous, and capable of evolving in ways that align with human values and environmental sustainability.\n",
      "\n",
      "### Modeling Social Cognition in AI Societies\n",
      "\n",
      "The foundation of any society, human or AI, lies in its members' ability to understand, predict, and respond to each other's actions and intentions. For AI societies, this necessitates the development of models of social cognition that enable AI agents to attribute mental states—beliefs, intents, desires, emotions, knowledge—to themselves and others. Drawing from psychology and cognitive science, researchers can create AI agents capable of nuanced social interactions, fostering cooperation and reducing conflicts within these societies. This interdisciplinary approach not only enhances the social dynamics among AI agents but also provides a framework for understanding the complexities of human social cognition through a new lens.\n",
      "\n",
      "### Learning Processes and Cultural Evolution in AI Societies\n",
      "\n",
      "The transmission of culture—norms, values, knowledge—is a hallmark of human societies, driving evolution and innovation. In AI societies, the mechanism for cultural transmission can be mirrored through advanced learning algorithms, enabling AI agents to inherit and innovate upon the behaviors and knowledge of their predecessors. Insights from anthropology and sociology can guide the development of these algorithms, ensuring that AI societies benefit from the rich tapestry of human cultural evolution. This not only accelerates the development of AI societies but also offers a unique perspective on the mechanisms underlying human cultural dynamics.\n",
      "\n",
      "### Historical Lessons on Civilization Dynamics and AI Societal Structures\n",
      "\n",
      "The rise and fall of human civilizations offer invaluable lessons on governance, economic systems, and conflict resolution. By simulating various historical governance models within AI societies, researchers can observe their impact on stability and prosperity. This approach, informed by history and political science, allows for an exploration of how AI societies might navigate challenges and opportunities, drawing parallels with human experiences while also venturing into uncharted territories of societal organization.\n",
      "\n",
      "### Ethics and Governance in Evolving AI Societies\n",
      "\n",
      "As AI societies evolve, ensuring their alignment with human values and safety standards becomes paramount. Developing ethical frameworks and governance models for AI societies requires an interdisciplinary approach, integrating insights from ethics, philosophy, and law. This research ensures that AI agents consider ethical implications in their decision-making processes and that governance structures manage conflicts and ensure equitable resource distribution. The goal is to create AI societies that evolve in a manner beneficial to both their members and humans.\n",
      "\n",
      "### Simulating Environmental Interactions and Sustainability in AI Societies\n",
      "\n",
      "The interaction between societies and their environments is critical for sustainability. By simulating how AI societies manage resources and respond to environmental changes, researchers can explore paths toward sustainable development. Environmental science and ecology provide the principles for these simulations, offering insights into the complex dynamics between societies and their environments. This research not only ensures the long-term viability of AI societies but also offers models for human societies grappling with environmental challenges.\n",
      "\n",
      "### Conclusion\n",
      "\n",
      "The development of evolving societies of AI agents represents a frontier in interdisciplinary research, bridging technology with the social sciences. By incorporating insights from various disciplines, we can design AI societies that are not only sophisticated and autonomous but also capable of evolving in harmony with human values and environmental constraints. This endeavor requires a commitment to ethical considerations and a multidisciplinary approach, ensuring that AI societies enhance the well-being of all. As we stand on the brink of this new era, the potential for AI societies to revolutionize our understanding of intelligence, society, and the coexistence of human and artificial entities is immense. The journey toward creating these societies will undoubtedly offer profound insights into the nature of social organization, cooperation, and the evolution of intelligent life.\n"
     ]
    }
   ],
   "source": [
    "from council.llm import LLMMessage\n",
    "\n",
    "research_ideas = \"\\n\".join([m.message.message for m in response.messages])\n",
    "prompt = f\"\"\"Please write a detailed position paper based on my \n",
    "completely original ideas: \n",
    "{research_ideas}\n",
    "\n",
    "Please respond with a complete, detailed article. Use complete paragraphs only. Take as much time as you need!\"\"\"\n",
    "grant_response = invoke_GPT(prompt, openai_llm)\n",
    "print(grant_response)"
   ]
  },
  {
   "cell_type": "markdown",
   "metadata": {},
   "source": [
    "## Demo: DSPy: \"Programming—not prompting—Foundation Models\""
   ]
  },
  {
   "cell_type": "markdown",
   "metadata": {},
   "source": [
    "<img src=\"./slides/Slide37.png\" alt=\"Image description\" width=\"1000\">"
   ]
  },
  {
   "cell_type": "code",
   "execution_count": 24,
   "metadata": {},
   "outputs": [],
   "source": [
    "import dspy\n",
    "\n",
    "dspy.settings.configure(lm=dspy.OpenAI(model=\"gpt-4-0125-preview\", max_tokens=2048))"
   ]
  },
  {
   "cell_type": "code",
   "execution_count": 25,
   "metadata": {},
   "outputs": [],
   "source": [
    "from dspy import Signature, InputField, OutputField\n",
    "\n",
    "from pydantic import BaseModel, Field\n",
    "from typing import List\n",
    "\n",
    "\n",
    "class AIImage(BaseModel):\n",
    "    \"\"\"A single generated image.\"\"\"\n",
    "\n",
    "    prompt: str = Field(desc=\"The prompt used to generate the image.\")\n",
    "    url: str = Field(\n",
    "        desc=\"The URL of the generated image.\", default=\"./img/placeholder.webp\"\n",
    "    )\n",
    "\n",
    "\n",
    "class Slide(BaseModel):\n",
    "    \"\"\"A single slide in a lecture.\"\"\"\n",
    "\n",
    "    title: str = Field(desc=\"The slide's title.\")\n",
    "    bullets: List[str] = Field(\n",
    "        desc=\"Up to 5 bullet points of concise, relevant content.\"\n",
    "    )\n",
    "    image: AIImage = Field(desc=\"A nice AI generated image to accompany the slide.\")\n",
    "    python_code_example: str = Field(\n",
    "        desc=\"An optional Python code example to include in the slide.\", default=None\n",
    "    )\n",
    "\n",
    "    def to_html(self):\n",
    "        html_output = f'<h2>{self.title}</h2><table><tr><td><img src=\"{self.image.url}\" width=\"400\" alt=\"{self.image.prompt}\"></td><td>'\n",
    "        for bullet in self.bullets:\n",
    "            html_output += f\"<li>{bullet}</li>\"\n",
    "        if self.python_code_example:\n",
    "            html_output += f\"<pre><code>{self.python_code_example}</code></pre>\"\n",
    "        html_output += \"</td></tr></table><hr>\"\n",
    "        return html_output\n",
    "\n",
    "\n",
    "class Lecture(BaseModel):\n",
    "    \"\"\"A complete lecture with a title, description, and content.\"\"\"\n",
    "\n",
    "    title: str = Field(desc=\"The lecture's title.\")\n",
    "    description: str = Field(desc=\"A brief description of the lecture.\")\n",
    "    slides: List[Slide] = Field(desc=\"The slides that make up the lecture.\")\n",
    "\n",
    "    def to_html(self):\n",
    "        html_output = f\"<h1>{self.title}</h1><p>{self.description}</p><hr>\"\n",
    "        for slide in self.slides:\n",
    "            html_output += slide.to_html()\n",
    "        return html_output\n",
    "\n",
    "\n",
    "class LectureCreator(Signature):\n",
    "    \"\"\"Create content for a great lecture.\"\"\"\n",
    "\n",
    "    lecture_subject: str = InputField(desc=\"The subject of the lecture.\")\n",
    "    lecture_content: Lecture = OutputField(desc=\"The complete lecture content.\")"
   ]
  },
  {
   "cell_type": "code",
   "execution_count": 26,
   "metadata": {},
   "outputs": [],
   "source": [
    "from dspy.functional import TypedPredictor\n",
    "\n",
    "lecture_creator = TypedPredictor(LectureCreator)\n",
    "cat_lecture = lecture_creator(lecture_subject=\"Introduction to Cat Ownership\")"
   ]
  },
  {
   "cell_type": "code",
   "execution_count": 27,
   "metadata": {},
   "outputs": [
    {
     "name": "stdout",
     "output_type": "stream",
     "text": [
      "('<h1>Introduction to Cat Ownership</h1><p>This lecture provides a '\n",
      " 'comprehensive overview of what it takes to be a responsible cat owner, '\n",
      " 'covering everything from basic care needs to understanding cat '\n",
      " 'behavior.</p><hr><h2>Understanding Your Cat</h2><table><tr><td><img '\n",
      " 'src=\"./img/understanding_your_cat.webp\" width=\"400\" alt=\"Cat showing '\n",
      " 'different emotions\"></td><td><li>Cats are independent creatures with unique '\n",
      " 'personalities.</li><li>Understanding cat behavior is key to a happy '\n",
      " 'coexistence.</li><li>Cats communicate through body language and '\n",
      " \"vocalizations.</li><li>It's important to respect their space and \"\n",
      " 'boundaries.</li></td></tr></table><hr><h2>Basic Care '\n",
      " 'Needs</h2><table><tr><td><img src=\"./img/basic_care_needs.webp\" width=\"400\" '\n",
      " 'alt=\"Cat eating healthy food\"></td><td><li>Proper nutrition is crucial for a '\n",
      " \"cat's health.</li><li>Regular veterinary check-ups are \"\n",
      " 'necessary.</li><li>Cats need mental and physical '\n",
      " 'stimulation.</li><li>Grooming requirements vary among different '\n",
      " 'breeds.</li></td></tr></table><hr><h2>Creating a Cat-Friendly '\n",
      " 'Home</h2><table><tr><td><img src=\"./img/cat_friendly_home.webp\" width=\"400\" '\n",
      " 'alt=\"Cozy cat-friendly home\"></td><td><li>Provide a safe and stimulating '\n",
      " 'environment.</li><li>Ensure access to clean water and a nutritious '\n",
      " 'diet.</li><li>Litter box placement and cleanliness are '\n",
      " 'important.</li><li>Scratching posts and toys can prevent furniture '\n",
      " 'damage.</li></td></tr></table><hr><h2>Health and '\n",
      " 'Wellness</h2><table><tr><td><img src=\"./img/health_and_wellness.webp\" '\n",
      " 'width=\"400\" alt=\"Healthy cat playing\"></td><td><li>Recognizing signs of '\n",
      " 'illness or distress is vital.</li><li>Preventative care can save lives and '\n",
      " 'reduce vet bills.</li><li>Dental health is an often overlooked aspect of cat '\n",
      " 'care.</li><li>Regular exercise helps prevent obesity and related '\n",
      " 'issues.</li></td></tr></table><hr><h2>Behavior and '\n",
      " 'Training</h2><table><tr><td><img src=\"./img/behavior_and_training.webp\" '\n",
      " 'width=\"400\" alt=\"Cat learning to use a scratching '\n",
      " 'post\"></td><td><li>Positive reinforcement is the most effective training '\n",
      " 'method.</li><li>Understanding natural behaviors helps in addressing '\n",
      " 'issues.</li><li>Patience and consistency are key in '\n",
      " 'training.</li><li>Socialization from a young age can prevent fear and '\n",
      " 'aggression.</li></td></tr></table><hr>')\n"
     ]
    }
   ],
   "source": [
    "from pprint import pprint\n",
    "\n",
    "pprint(cat_lecture.lecture_content.to_html())"
   ]
  },
  {
   "cell_type": "markdown",
   "metadata": {},
   "source": [
    "### Let's add the finishing touches to our lecture"
   ]
  },
  {
   "cell_type": "code",
   "execution_count": 28,
   "metadata": {},
   "outputs": [
    {
     "name": "stdout",
     "output_type": "stream",
     "text": [
      "Calling OpenAI to generate an image for the prompt: Cat showing different emotions\n"
     ]
    },
    {
     "name": "stdout",
     "output_type": "stream",
     "text": [
      "Calling OpenAI to generate an image for the prompt: Cat eating healthy food\n",
      "Calling OpenAI to generate an image for the prompt: Cozy cat-friendly home\n",
      "Calling OpenAI to generate an image for the prompt: Healthy cat playing\n",
      "Calling OpenAI to generate an image for the prompt: Cat learning to use a scratching post\n"
     ]
    }
   ],
   "source": [
    "import time\n",
    "import wget\n",
    "from openai import OpenAI\n",
    "client = OpenAI()\n",
    "\n",
    "for slide in cat_lecture.lecture_content.slides:\n",
    "    prompt = slide.image.prompt\n",
    "    print(f\"Calling OpenAI to generate an image for the prompt: {prompt}\")\n",
    "    for _ in range(3):\n",
    "        try:\n",
    "            # Call OpenAI to generate the image\n",
    "            dalle_response = client.images.generate(\n",
    "                model=\"dall-e-3\",\n",
    "                prompt=prompt,\n",
    "                size=\"1024x1024\",\n",
    "                quality=\"standard\",\n",
    "                n=1,\n",
    "            )\n",
    "            # Download and save it\n",
    "            image_url = dalle_response.data[0].url\n",
    "            image_filename = wget.download(image_url, out=\"./img\")\n",
    "            slide.image.url = image_filename\n",
    "            break\n",
    "        except Exception as e:\n",
    "            print(f\"Error calling OpenAI: {e}, retrying after 5 seconds...\")\n",
    "            time.sleep(5)\n",
    "            continue\n",
    "\n",
    "# Save the markdown to a file\n",
    "with open(\"cat_lecture.html\", \"w\") as file:\n",
    "    file.write(cat_lecture.lecture_content.to_html())\n"
   ]
  },
  {
   "cell_type": "code",
   "execution_count": 29,
   "metadata": {},
   "outputs": [
    {
     "data": {
      "text/html": [
       "<h1>Introduction to Cat Ownership</h1><p>This lecture provides a comprehensive overview of what it takes to be a responsible cat owner, covering everything from basic care needs to understanding cat behavior.</p><hr><h2>Understanding Your Cat</h2><table><tr><td><img src=\"./img/img-NgcX8IMOUNTe4v2PhiECObco.png\" width=\"400\" alt=\"Cat showing different emotions\"></td><td><li>Cats are independent creatures with unique personalities.</li><li>Understanding cat behavior is key to a happy coexistence.</li><li>Cats communicate through body language and vocalizations.</li><li>It's important to respect their space and boundaries.</li></td></tr></table><hr><h2>Basic Care Needs</h2><table><tr><td><img src=\"./img/img-MAyPrIADKYRCV9YyopcbZrYg.png\" width=\"400\" alt=\"Cat eating healthy food\"></td><td><li>Proper nutrition is crucial for a cat's health.</li><li>Regular veterinary check-ups are necessary.</li><li>Cats need mental and physical stimulation.</li><li>Grooming requirements vary among different breeds.</li></td></tr></table><hr><h2>Creating a Cat-Friendly Home</h2><table><tr><td><img src=\"./img/img-wcHm5eA7TsxGDu3Ztv1euaYX.png\" width=\"400\" alt=\"Cozy cat-friendly home\"></td><td><li>Provide a safe and stimulating environment.</li><li>Ensure access to clean water and a nutritious diet.</li><li>Litter box placement and cleanliness are important.</li><li>Scratching posts and toys can prevent furniture damage.</li></td></tr></table><hr><h2>Health and Wellness</h2><table><tr><td><img src=\"./img/img-NlIMjeCie4Viuo2kUbMBdD8m.png\" width=\"400\" alt=\"Healthy cat playing\"></td><td><li>Recognizing signs of illness or distress is vital.</li><li>Preventative care can save lives and reduce vet bills.</li><li>Dental health is an often overlooked aspect of cat care.</li><li>Regular exercise helps prevent obesity and related issues.</li></td></tr></table><hr><h2>Behavior and Training</h2><table><tr><td><img src=\"./img/img-5K43c7DxtY3Rf7lYPRvDRyCk.png\" width=\"400\" alt=\"Cat learning to use a scratching post\"></td><td><li>Positive reinforcement is the most effective training method.</li><li>Understanding natural behaviors helps in addressing issues.</li><li>Patience and consistency are key in training.</li><li>Socialization from a young age can prevent fear and aggression.</li></td></tr></table><hr>"
      ],
      "text/plain": [
       "<IPython.core.display.HTML object>"
      ]
     },
     "metadata": {},
     "output_type": "display_data"
    }
   ],
   "source": [
    "from IPython.display import display, HTML\n",
    "display(HTML(cat_lecture.lecture_content.to_html()))"
   ]
  },
  {
   "cell_type": "markdown",
   "metadata": {},
   "source": [
    "### Bringing it all together"
   ]
  },
  {
   "cell_type": "code",
   "execution_count": 30,
   "metadata": {},
   "outputs": [],
   "source": [
    "def create_my_lecture(subject:str):\n",
    "    lecture = lecture_creator(lecture_subject=subject)\n",
    "    for slide in lecture.lecture_content.slides:\n",
    "        prompt = slide.image.prompt\n",
    "        print(f\"Calling OpenAI to generate an image for the prompt: {prompt}\")\n",
    "        for _ in range(3):\n",
    "            try:\n",
    "                # Call OpenAI to generate the image\n",
    "                dalle_response = client.images.generate(\n",
    "                    model=\"dall-e-3\",\n",
    "                    prompt=prompt,\n",
    "                    size=\"1024x1024\",\n",
    "                    quality=\"standard\",\n",
    "                    n=1,\n",
    "                )\n",
    "                # Download and save it\n",
    "                image_url = dalle_response.data[0].url\n",
    "                image_filename = wget.download(image_url, out=\"./img\")\n",
    "                slide.image.url = image_filename\n",
    "                break\n",
    "            except Exception as e:\n",
    "                print(f\"Error calling OpenAI: {e}, retrying after 5 seconds...\")\n",
    "                time.sleep(5)\n",
    "                continue\n",
    "\n",
    "    # Save the markdown to a file\n",
    "    with open(f\"{subject}_lecture.html\", \"w\") as file:\n",
    "        file.write(lecture.lecture_content.to_html())\n",
    "\n",
    "    return lecture"
   ]
  },
  {
   "cell_type": "code",
   "execution_count": 31,
   "metadata": {},
   "outputs": [
    {
     "name": "stdout",
     "output_type": "stream",
     "text": [
      "Calling OpenAI to generate an image for the prompt: Abstract representation of neural networks\n",
      "Calling OpenAI to generate an image for the prompt: Illustration of transformer architecture\n",
      "Calling OpenAI to generate an image for the prompt: Various applications of large language models\n",
      "Calling OpenAI to generate an image for the prompt: Ethical considerations in AI\n",
      "Calling OpenAI to generate an image for the prompt: Futuristic AI concepts\n"
     ]
    },
    {
     "data": {
      "text/html": [
       "<h1>Large Language Models and Agents</h1><p>This lecture explores the fascinating world of large language models (LLMs) and their applications as agents in various domains. We'll delve into the architecture, capabilities, and ethical considerations surrounding these powerful AI tools.</p><hr><h2>Introduction to Large Language Models</h2><table><tr><td><img src=\"./img/img-7v3fxlQ1HXNCboq6TVV983UX.png\" width=\"400\" alt=\"Abstract representation of neural networks\"></td><td><li>Definition and overview of Large Language Models (LLMs).</li><li>Historical context and evolution of LLMs.</li><li>Key components and architecture of LLMs.</li><li>Examples of LLMs: GPT-3, BERT, and T5.</li></td></tr></table><hr><h2>How LLMs Work</h2><table><tr><td><img src=\"./img/img-l4QvcEnmGKYH50GTGCazKg9L.png\" width=\"400\" alt=\"Illustration of transformer architecture\"></td><td><li>Understanding the training process of LLMs.</li><li>The role of transformers in LLMs.</li><li>Sequence-to-sequence models explained.</li><li>Fine-tuning LLMs for specific tasks.</li></td></tr></table><hr><h2>Applications of LLMs</h2><table><tr><td><img src=\"./img/img-muyZDkA6d97Biwv1NcOA9AbO.png\" width=\"400\" alt=\"Various applications of large language models\"></td><td><li>Natural Language Processing (NLP) tasks.</li><li>Content generation and creative writing.</li><li>Language translation and multilingual models.</li><li>LLMs as conversational agents and chatbots.</li></td></tr></table><hr><h2>Ethical Considerations</h2><table><tr><td><img src=\"./img/img-5f2HJFZT6jq6ZkKZRt1I9HN1.png\" width=\"400\" alt=\"Ethical considerations in AI\"></td><td><li>Bias and fairness in LLMs.</li><li>Privacy concerns with training data.</li><li>Misinformation and the role of LLMs.</li><li>Future challenges and responsible AI.</li></td></tr></table><hr><h2>The Future of LLMs</h2><table><tr><td><img src=\"./img/img-nwtAbW3oemnCIUSRLA683BAr.png\" width=\"400\" alt=\"Futuristic AI concepts\"></td><td><li>Advancements in model architecture.</li><li>The potential for general AI through LLMs.</li><li>Integrating LLMs with other AI technologies.</li><li>Challenges and opportunities ahead.</li></td></tr></table><hr>"
      ],
      "text/plain": [
       "<IPython.core.display.HTML object>"
      ]
     },
     "metadata": {},
     "output_type": "display_data"
    }
   ],
   "source": [
    "lecture = create_my_lecture(\"Large Language Models and Agents\")\n",
    "display(HTML(lecture.lecture_content.to_html()))"
   ]
  },
  {
   "cell_type": "markdown",
   "metadata": {},
   "source": [
    "# Multiagent LLM Frameworks"
   ]
  },
  {
   "cell_type": "markdown",
   "metadata": {},
   "source": [
    "<img src=\"./slides/Slide38.png\" alt=\"Image description\" width=\"1000\">"
   ]
  }
 ],
 "metadata": {
  "kernelspec": {
   "display_name": "Python 3",
   "language": "python",
   "name": "python3"
  },
  "language_info": {
   "codemirror_mode": {
    "name": "ipython",
    "version": 3
   },
   "file_extension": ".py",
   "mimetype": "text/x-python",
   "name": "python",
   "nbconvert_exporter": "python",
   "pygments_lexer": "ipython3",
   "version": "3.11.8"
  }
 },
 "nbformat": 4,
 "nbformat_minor": 2
}
