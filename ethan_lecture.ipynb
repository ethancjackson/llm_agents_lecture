{
 "cells": [
  {
   "cell_type": "markdown",
   "metadata": {},
   "source": [
    "# Intro \n",
    "\n",
    "<img src=\"./slides/Slide1.png\" alt=\"Image description\" width=\"1000\">"
   ]
  },
  {
   "cell_type": "markdown",
   "metadata": {},
   "source": [
    "# Agents in ML and AI"
   ]
  },
  {
   "cell_type": "markdown",
   "metadata": {},
   "source": [
    "<img src=\"./slides/Slide3.png\" alt=\"Image description\" width=\"1000\">"
   ]
  },
  {
   "cell_type": "markdown",
   "metadata": {},
   "source": [
    "<img src=\"./slides/Slide4.png\" alt=\"Image description\" width=\"1000\">"
   ]
  },
  {
   "cell_type": "markdown",
   "metadata": {},
   "source": [
    "<img src=\"./slides/Slide5.png\" alt=\"Image description\" width=\"1000\">"
   ]
  },
  {
   "cell_type": "markdown",
   "metadata": {},
   "source": [
    "# Deep Neural Neural Network Architectures"
   ]
  },
  {
   "cell_type": "markdown",
   "metadata": {},
   "source": [
    "<img src=\"./slides/Slide7.png\" alt=\"Image description\" width=\"1000\">"
   ]
  },
  {
   "cell_type": "markdown",
   "metadata": {},
   "source": [
    "<img src=\"./slides/Slide8.png\" alt=\"Image description\" width=\"1000\">"
   ]
  },
  {
   "cell_type": "markdown",
   "metadata": {},
   "source": [
    "<img src=\"./slides/Slide9.png\" alt=\"Image description\" width=\"1000\">"
   ]
  },
  {
   "cell_type": "markdown",
   "metadata": {},
   "source": [
    "<img src=\"./slides/Slide10.png\" alt=\"Image description\" width=\"1000\">"
   ]
  },
  {
   "cell_type": "markdown",
   "metadata": {},
   "source": [
    "# Classical Natural Language Processing"
   ]
  },
  {
   "cell_type": "markdown",
   "metadata": {},
   "source": [
    "<img src=\"./slides/Slide11.png\" alt=\"Image description\" width=\"1000\">"
   ]
  },
  {
   "cell_type": "markdown",
   "metadata": {},
   "source": [
    "<img src=\"./slides/Slide12.png\" alt=\"Image description\" width=\"1000\">"
   ]
  },
  {
   "cell_type": "markdown",
   "metadata": {},
   "source": [
    "# Demo - Classical NLP Tasks"
   ]
  },
  {
   "cell_type": "markdown",
   "metadata": {},
   "source": [
    "## Masked word prediction with BERT"
   ]
  },
  {
   "cell_type": "code",
   "execution_count": 1,
   "metadata": {},
   "outputs": [
    {
     "name": "stderr",
     "output_type": "stream",
     "text": [
      "/home/ethan/llm_agents_lecture/.conda/lib/python3.11/site-packages/tqdm/auto.py:21: TqdmWarning: IProgress not found. Please update jupyter and ipywidgets. See https://ipywidgets.readthedocs.io/en/stable/user_install.html\n",
      "  from .autonotebook import tqdm as notebook_tqdm\n",
      "Some weights of the model checkpoint at bert-base-uncased were not used when initializing BertForMaskedLM: ['bert.pooler.dense.bias', 'bert.pooler.dense.weight', 'cls.seq_relationship.bias', 'cls.seq_relationship.weight']\n",
      "- This IS expected if you are initializing BertForMaskedLM from the checkpoint of a model trained on another task or with another architecture (e.g. initializing a BertForSequenceClassification model from a BertForPreTraining model).\n",
      "- This IS NOT expected if you are initializing BertForMaskedLM from the checkpoint of a model that you expect to be exactly identical (initializing a BertForSequenceClassification model from a BertForSequenceClassification model).\n"
     ]
    },
    {
     "name": "stdout",
     "output_type": "stream",
     "text": [
      "oldest canadian professional national dominant "
     ]
    }
   ],
   "source": [
    "from transformers import BertTokenizer, BertForMaskedLM\n",
    "import torch\n",
    "\n",
    "tokenizer = BertTokenizer.from_pretrained('bert-base-uncased')\n",
    "model = BertForMaskedLM.from_pretrained('bert-base-uncased')\n",
    "\n",
    "sentence = \"The Toronto Blue Jays are the [MASK] team in baseball.\"\n",
    "input = tokenizer.encode(sentence, return_tensors=\"pt\")\n",
    "mask_token_index = torch.where(input == tokenizer.mask_token_id)[1]\n",
    "\n",
    "token_logits = model(input).logits\n",
    "mask_token_logits = token_logits[0, mask_token_index, :]\n",
    "\n",
    "top_5_tokens = torch.topk(mask_token_logits, 5, dim=1).indices[0].tolist()\n",
    "\n",
    "for token in top_5_tokens:\n",
    "    print(tokenizer.decode([token]), end=\" \")\n"
   ]
  },
  {
   "cell_type": "markdown",
   "metadata": {},
   "source": [
    "## Masked word prediction with RoBERTa"
   ]
  },
  {
   "cell_type": "code",
   "execution_count": 2,
   "metadata": {},
   "outputs": [
    {
     "name": "stdout",
     "output_type": "stream",
     "text": [
      " best  hottest  worst  greatest  top "
     ]
    }
   ],
   "source": [
    "from transformers import RobertaTokenizer, RobertaForMaskedLM\n",
    "import torch\n",
    "\n",
    "tokenizer = RobertaTokenizer.from_pretrained('roberta-base')\n",
    "model = RobertaForMaskedLM.from_pretrained('roberta-base')\n",
    "\n",
    "sentence = \"The Toronto Blue Jays are the <mask> team in baseball.\"\n",
    "input = tokenizer.encode(sentence, return_tensors=\"pt\")\n",
    "mask_token_index = torch.where(input == tokenizer.mask_token_id)[1]\n",
    "\n",
    "token_logits = model(input).logits\n",
    "mask_token_logits = token_logits[0, mask_token_index, :]\n",
    "\n",
    "top_5_tokens = torch.topk(mask_token_logits, 5, dim=1).indices[0].tolist()\n",
    "\n",
    "for token in top_5_tokens:\n",
    "    print(tokenizer.decode([token]), end=\" \")\n"
   ]
  },
  {
   "cell_type": "markdown",
   "metadata": {},
   "source": [
    "# Inflection Point - Large Language models, ChatGPT"
   ]
  },
  {
   "cell_type": "markdown",
   "metadata": {},
   "source": [
    "<img src=\"./slides/Slide20.png\" alt=\"Image description\" width=\"1000\">"
   ]
  },
  {
   "cell_type": "markdown",
   "metadata": {},
   "source": [
    "<img src=\"./slides/Slide21.png\" alt=\"Image description\" width=\"1000\">"
   ]
  },
  {
   "cell_type": "markdown",
   "metadata": {},
   "source": [
    "# How did LLMs become so much more powerful?"
   ]
  },
  {
   "cell_type": "markdown",
   "metadata": {},
   "source": [
    "<img src=\"./slides/Slide15.png\" alt=\"Image description\" width=\"1000\">"
   ]
  },
  {
   "cell_type": "markdown",
   "metadata": {},
   "source": [
    "<img src=\"./slides/Slide16.png?dummy=123456\" alt=\"Image description\" width=\"1000\">"
   ]
  },
  {
   "cell_type": "markdown",
   "metadata": {},
   "source": [
    "<img src=\"./slides/Slide17.png\" alt=\"Image description\" width=\"1000\">"
   ]
  },
  {
   "cell_type": "markdown",
   "metadata": {},
   "source": [
    "<img src=\"./slides/Slide18.png\" alt=\"Image description\" width=\"1000\">"
   ]
  },
  {
   "cell_type": "markdown",
   "metadata": {},
   "source": [
    "<img src=\"./slides/Slide22.png\" alt=\"Image description\" width=\"1000\">"
   ]
  },
  {
   "cell_type": "markdown",
   "metadata": {},
   "source": [
    "<img src=\"./slides/Slide23.png\" alt=\"Image description\" width=\"1000\">"
   ]
  },
  {
   "cell_type": "markdown",
   "metadata": {},
   "source": [
    "<img src=\"./slides/Slide25.png\" alt=\"Image description\" width=\"1000\">"
   ]
  },
  {
   "cell_type": "markdown",
   "metadata": {},
   "source": [
    "# Multimodality & Diffusion Models"
   ]
  },
  {
   "cell_type": "markdown",
   "metadata": {},
   "source": [
    "<img src=\"./slides/Slide24.png\" alt=\"Image description\" width=\"1000\">"
   ]
  },
  {
   "cell_type": "markdown",
   "metadata": {},
   "source": [
    "# Competitive Landscape for LLMs"
   ]
  },
  {
   "cell_type": "markdown",
   "metadata": {},
   "source": [
    "<img src=\"./slides/Slide27.png\" alt=\"Image description\" width=\"1000\">"
   ]
  },
  {
   "cell_type": "markdown",
   "metadata": {},
   "source": [
    "<img src=\"./slides/Slide28.png\" alt=\"Image description\" width=\"1000\">"
   ]
  },
  {
   "cell_type": "markdown",
   "metadata": {},
   "source": [
    "# LLM Concepts and Abstractions"
   ]
  },
  {
   "cell_type": "markdown",
   "metadata": {},
   "source": [
    "<img src=\"./slides/Slide30.png\" alt=\"Image description\" width=\"1000\">"
   ]
  },
  {
   "cell_type": "markdown",
   "metadata": {},
   "source": [
    "## Zero Shot Sentiment Prediction with T5"
   ]
  },
  {
   "cell_type": "code",
   "execution_count": 3,
   "metadata": {},
   "outputs": [
    {
     "name": "stderr",
     "output_type": "stream",
     "text": [
      "You are using the default legacy behaviour of the <class 'transformers.models.t5.tokenization_t5.T5Tokenizer'>. This is expected, and simply means that the `legacy` (previous) behavior will be used so nothing changes for you. If you want to use the new behaviour, set `legacy=False`. This should only be set if you understand what it means, and thoroughly read the reason why this was added as explained in https://github.com/huggingface/transformers/pull/24565\n",
      "Special tokens have been added in the vocabulary, make sure the associated word embeddings are fine-tuned or trained.\n"
     ]
    },
    {
     "name": "stdout",
     "output_type": "stream",
     "text": [
      "Tweet: Just had the best day ever with my friends!\n",
      "Sentiment: Just\n",
      "\n"
     ]
    },
    {
     "name": "stderr",
     "output_type": "stream",
     "text": [
      "Special tokens have been added in the vocabulary, make sure the associated word embeddings are fine-tuned or trained.\n"
     ]
    },
    {
     "name": "stdout",
     "output_type": "stream",
     "text": [
      "Tweet: I'm so disappointed with the service at the restaurant.\n",
      "Sentiment: Tweet\n",
      "\n"
     ]
    },
    {
     "name": "stderr",
     "output_type": "stream",
     "text": [
      "Special tokens have been added in the vocabulary, make sure the associated word embeddings are fine-tuned or trained.\n"
     ]
    },
    {
     "name": "stdout",
     "output_type": "stream",
     "text": [
      "Tweet: Looks like it's going to rain all week. Oh well, more time for coding!\n",
      "Sentiment: Fals\n",
      "\n"
     ]
    },
    {
     "name": "stderr",
     "output_type": "stream",
     "text": [
      "Special tokens have been added in the vocabulary, make sure the associated word embeddings are fine-tuned or trained.\n"
     ]
    },
    {
     "name": "stdout",
     "output_type": "stream",
     "text": [
      "Tweet: Can't believe I got the job! Dreams do come true!\n",
      "Sentiment: True\n",
      "\n"
     ]
    },
    {
     "name": "stderr",
     "output_type": "stream",
     "text": [
      "Special tokens have been added in the vocabulary, make sure the associated word embeddings are fine-tuned or trained.\n"
     ]
    },
    {
     "name": "stdout",
     "output_type": "stream",
     "text": [
      "Tweet: Not feeling well today, think I caught a cold.\n",
      "Sentiment: Fals\n",
      "\n"
     ]
    }
   ],
   "source": [
    "from transformers import T5Tokenizer, T5ForConditionalGeneration\n",
    "\n",
    "def analyze_tweet_sentiment(tweet):\n",
    "    # Load tokenizer and model\n",
    "    tokenizer = T5Tokenizer.from_pretrained('t5-base')\n",
    "    model = T5ForConditionalGeneration.from_pretrained('t5-base')\n",
    "\n",
    "    # Task prefix\n",
    "    prompt = f\"Tweet: {tweet} Sentiment: \"\n",
    "\n",
    "    # Encode the prompt and convert to Tensor\n",
    "    input_ids = tokenizer.encode(prompt, return_tensors=\"pt\")\n",
    "\n",
    "    # Generate sentiment\n",
    "    sentiment_ids = model.generate(input_ids, max_length=3, num_return_sequences=1)\n",
    "    sentiment = tokenizer.decode(sentiment_ids[0], skip_special_tokens=True)\n",
    "\n",
    "    return sentiment\n",
    "\n",
    "# Predefined tweets\n",
    "tweets = [\n",
    "    \"Just had the best day ever with my friends!\",\n",
    "    \"I'm so disappointed with the service at the restaurant.\",\n",
    "    \"Looks like it's going to rain all week. Oh well, more time for coding!\",\n",
    "    \"Can't believe I got the job! Dreams do come true!\",\n",
    "    \"Not feeling well today, think I caught a cold.\"\n",
    "]\n",
    "\n",
    "# Analyze sentiment of each tweet\n",
    "for tweet in tweets:\n",
    "    sentiment = analyze_tweet_sentiment(tweet)\n",
    "    print(f\"Tweet: {tweet}\\nSentiment: {sentiment}\\n\")"
   ]
  },
  {
   "cell_type": "markdown",
   "metadata": {},
   "source": [
    "## Sentiment Prediction w/ HuggingFace Pipelines"
   ]
  },
  {
   "cell_type": "code",
   "execution_count": 4,
   "metadata": {},
   "outputs": [
    {
     "name": "stderr",
     "output_type": "stream",
     "text": [
      "No model was supplied, defaulted to distilbert/distilbert-base-uncased-finetuned-sst-2-english and revision af0f99b (https://huggingface.co/distilbert/distilbert-base-uncased-finetuned-sst-2-english).\n",
      "Using a pipeline without specifying a model name and revision in production is not recommended.\n"
     ]
    },
    {
     "name": "stdout",
     "output_type": "stream",
     "text": [
      "Text: Just had the best day ever with my friends!\n",
      "Sentiment: POSITIVE, Confidence: 0.9998741149902344\n",
      "\n",
      "Text: I'm so disappointed with the service at the restaurant.\n",
      "Sentiment: NEGATIVE, Confidence: 0.999789297580719\n",
      "\n",
      "Text: Looks like it's going to rain all week. Oh well, more time for coding!\n",
      "Sentiment: NEGATIVE, Confidence: 0.9966244697570801\n",
      "\n",
      "Text: Can't believe I got the job! Dreams do come true!\n",
      "Sentiment: POSITIVE, Confidence: 0.9995515942573547\n",
      "\n",
      "Text: Not feeling well today, think I caught a cold.\n",
      "Sentiment: NEGATIVE, Confidence: 0.999713122844696\n",
      "\n"
     ]
    }
   ],
   "source": [
    "from transformers import pipeline\n",
    "\n",
    "# Load sentiment analysis pipeline\n",
    "sentiment_pipeline = pipeline(\"sentiment-analysis\")\n",
    "\n",
    "tweets = [\n",
    "    \"Just had the best day ever with my friends!\",\n",
    "    \"I'm so disappointed with the service at the restaurant.\",\n",
    "    \"Looks like it's going to rain all week. Oh well, more time for coding!\",\n",
    "    \"Can't believe I got the job! Dreams do come true!\",\n",
    "    \"Not feeling well today, think I caught a cold.\"\n",
    "]\n",
    "\n",
    "# Analyze sentiment\n",
    "for text in tweets:\n",
    "    result = sentiment_pipeline(text)\n",
    "    print(f\"Text: {text}\\nSentiment: {result[0]['label']}, Confidence: {result[0]['score']}\\n\")\n"
   ]
  },
  {
   "cell_type": "markdown",
   "metadata": {},
   "source": [
    "## Zero Shot Sentiment Analysis w/ Gemma 7B"
   ]
  },
  {
   "cell_type": "code",
   "execution_count": 5,
   "metadata": {},
   "outputs": [
    {
     "name": "stdout",
     "output_type": "stream",
     "text": [
      "Tweet: Just had the best day ever with my friends!\n",
      "Sentiment: Positive.\n",
      "\n",
      "The tweet expresses a positive sentiment, indicating that the speaker had a great day with their friends.\n",
      "\n",
      "\n",
      "***\n",
      "\n",
      "Tweet: I'm so disappointed with the service at the restaurant.\n",
      "Sentiment: Negative.\n",
      "\n",
      "The tweet expresses a sense of disappointment and dissatisfaction with the service provided by the restaurant.\n",
      "\n",
      "\n",
      "***\n",
      "\n",
      "Tweet: Looks like it's going to rain all week. Oh well, more time for coding!\n",
      "Sentiment: The sentiment of the tweet is **positive**. It expresses a sense of anticipation and enjoyment for the upcoming rainy weather.\n",
      "\n",
      "\n",
      "***\n",
      "\n",
      "Tweet: Can't believe I got the job! Dreams do come true!\n",
      "Sentiment: Positive.\n",
      "\n",
      "The tweet expresses a strong sense of accomplishment and excitement about achieving a major goal.\n",
      "\n",
      "\n",
      "***\n",
      "\n",
      "Tweet: Not feeling well today, think I caught a cold.\n",
      "Sentiment: Negative.\n",
      "\n",
      "The tweet expresses a negative sentiment, indicating that the person is not feeling well and may have caught a cold.\n",
      "\n",
      "\n",
      "***\n",
      "\n"
     ]
    }
   ],
   "source": [
    "from langchain_community.llms import Ollama\n",
    "llm = Ollama(model=\"gemma:2b\")\n",
    "\n",
    "tweets = [\n",
    "    \"Just had the best day ever with my friends!\",\n",
    "    \"I'm so disappointed with the service at the restaurant.\",\n",
    "    \"Looks like it's going to rain all week. Oh well, more time for coding!\",\n",
    "    \"Can't believe I got the job! Dreams do come true!\",\n",
    "    \"Not feeling well today, think I caught a cold.\"\n",
    "]\n",
    "\n",
    "for tweet in tweets:\n",
    "    print(f\"Tweet: {tweet}\")\n",
    "    response = llm.invoke(f\"Analyze the sentiment of the tweet: {tweet}\\nRespond precisely with one of [positive, negative, neutral]\")\n",
    "    print(f\"Sentiment: {response}\\n\")\n",
    "    print(\"\\n***\\n\")"
   ]
  },
  {
   "cell_type": "markdown",
   "metadata": {},
   "source": [
    "<img src=\"./slides/Slide31.png\" alt=\"Image description\" width=\"1000\">"
   ]
  },
  {
   "cell_type": "markdown",
   "metadata": {},
   "source": [
    "<img src=\"./slides/Slide32.png\" alt=\"Image description\" width=\"1000\">"
   ]
  },
  {
   "cell_type": "markdown",
   "metadata": {},
   "source": [
    "<img src=\"./slides/Slide33.png\" alt=\"Image description\" width=\"1000\">"
   ]
  },
  {
   "cell_type": "markdown",
   "metadata": {},
   "source": [
    "## Demo: Chain of Thought Prompting"
   ]
  },
  {
   "cell_type": "code",
   "execution_count": 21,
   "metadata": {},
   "outputs": [
    {
     "name": "stdout",
     "output_type": "stream",
     "text": [
      "Prompt: How can I write a program that will predict who will win the Stanley Cup?\n",
      "Response: **Answer:**\n",
      "\n",
      "Predicting the winner of the Stanley Cup is not possible through a program due to the inherent randomness and unpredictability of the event.\n",
      "\n",
      "**Explanation:**\n",
      "\n",
      "* **Probability:** The Stanley Cup playoffs are a highly unpredictable competition with an average of 80 participating teams. Each team has an equal chance of winning, regardless of their record.\n",
      "* **Factors affecting outcome:** Factors such as player performance, team strength, luck, and home-ice advantage play a significant role in determining the winner.\n",
      "* **Chance vs. probability:** Predicting the winner is different from calculating the probability of a team winning. Probability involves calculating the likelihood of an event occurring, while the Stanley Cup playoffs involve an infinite number of possible scenarios.\n",
      "\n",
      "**Ethical Considerations:**\n",
      "\n",
      "* **False hope:** Making predictions about the winner can create false hope for fans and players.\n",
      "* **Unrealistic expectations:** Predicting the winner can lead to unrealistic expectations and disappointment if the team you favored doesn't win.\n",
      "\n",
      "**Alternatives:**\n",
      "\n",
      "* **Historical data analysis:** You can analyze historical data on team performance, player statistics, and playoff outcomes to identify patterns and trends.\n",
      "* **Expert opinions:** Sports analysts and media experts often provide their predictions and insights based on their experience and knowledge.\n",
      "* **Statistical models:** Statistical models can be used to predict the likelihood of a team winning based on various factors. However, these models are often limited by the data available.\n",
      "\n",
      "**Conclusion:**\n",
      "\n",
      "While predicting the winner of the Stanley Cup is not possible through a program, you can explore other ways to engage with the tournament and enjoy the spirit of competition.\n",
      "***\n",
      "\n",
      "Prompt: How can I write a program that will predict who will win the Stanley Cup? Let's think step by step.\n",
      "Response: **Step 1: Data Collection**\n",
      "\n",
      "* Gather historical data on past Stanley Cup finals, including team records, player statistics, and game results.\n",
      "* Collect data on current teams, their strengths and weaknesses, and their performances throughout the season.\n",
      "\n",
      "**Step 2: Model Selection**\n",
      "\n",
      "* Choose a statistical model that can be used to predict the Stanley Cup winner.\n",
      "* Some potential models include:\n",
      "    * Logistic regression\n",
      "    * Random forest\n",
      "    * Gradient boosting\n",
      "    * Support vector machines\n",
      "\n",
      "**Step 3: Training the Model**\n",
      "\n",
      "* Split the data into training and testing sets.\n",
      "* Train the chosen model on the training data.\n",
      "* Optimize the model's parameters to improve its accuracy.\n",
      "\n",
      "**Step 4: Model Evaluation**\n",
      "\n",
      "* Evaluate the model's performance on the testing data.\n",
      "* Use metrics such as accuracy, precision, and recall.\n",
      "* Analyze the model's predictions and identify areas for improvement.\n",
      "\n",
      "**Step 5: Predicting Winner**\n",
      "\n",
      "* Use the trained model to predict the Stanley Cup winner.\n",
      "* Consider factors such as team strength, playoff record, and momentum.\n",
      "\n",
      "**Step 6: User Interface**\n",
      "\n",
      "* Create a user-friendly interface that allows users to input team information.\n",
      "* Display the predicted winner and other relevant statistics.\n",
      "\n",
      "**Additional Considerations:**\n",
      "\n",
      "* **Data quality:** Ensure that the data is accurate and representative of past Stanley Cup seasons.\n",
      "* **Model complexity:** Select a model that is appropriate for the data and the desired level of accuracy.\n",
      "* **Ethical considerations:** Consider potential biases and ensure that the model is fair and unbiased.\n",
      "* **Transparency:** Provide clear documentation and explanations about the model's predictions.\n",
      "\n",
      "**Example Code:**\n",
      "\n",
      "```python\n",
      "# Logistic regression model\n",
      "from sklearn.linear_model import LogisticRegression\n",
      "\n",
      "# Load and prepare data\n",
      "data = pd.read_csv(\"stanley_cup_data.csv\")\n",
      "X = data[[\"team_strength\", \"playoff_record\"]]\n",
      "y = data[\"winner\"]\n",
      "\n",
      "# Train the model\n",
      "model = LogisticRegression()\n",
      "model.fit(X, y)\n",
      "\n",
      "# Predict the winner for a given team\n",
      "team_name = \"Team A\"\n",
      "predicted_win = model.predict([[team_strength]])[0]\n",
      "\n",
      "print(\"Predicted winner:\", predicted_win)\n",
      "```\n",
      "\n"
     ]
    }
   ],
   "source": [
    "llm = Ollama(model=\"gemma:2b\")\n",
    "\n",
    "prompt1 = \"How can I write a program that will predict who will win the Stanley Cup?\"\n",
    "prompt2 = \"How can I write a program that will predict who will win the Stanley Cup? Let's think step by step.\"\n",
    "response1 = llm.invoke(prompt1)\n",
    "print(f\"Prompt: {prompt1}\\nResponse: {response1}\\n***\\n\")\n",
    "response2 = llm.invoke(prompt2)\n",
    "print(f\"Prompt: {prompt2}\\nResponse: {response2}\\n\")"
   ]
  },
  {
   "cell_type": "markdown",
   "metadata": {},
   "source": [
    "## Demo: ReAct Prompting\n",
    "\n",
    "### ReAct with Ollama/Gemma"
   ]
  },
  {
   "cell_type": "code",
   "execution_count": 23,
   "metadata": {},
   "outputs": [
    {
     "name": "stdout",
     "output_type": "stream",
     "text": [
      "Default response:\n",
      "**Sure, I can help you create a web app that can help people create personal finance dashboards.**\n",
      "\n",
      "**Here are the steps involved in creating the app:**\n",
      "\n",
      "**1. Define the App Requirements**\n",
      "\n",
      "* Determine the specific features and functionalities that the app should offer.\n",
      "* Identify the target audience and their financial goals.\n",
      "* Establish the app's purpose, value proposition, and user interface requirements.\n",
      "\n",
      "**2. Choose a Development Framework**\n",
      "\n",
      "* Select a suitable programming language and framework based on the app's complexity and your development skills.\n",
      "* Popular choices include Python with Django, JavaScript with React, and Node.js.\n",
      "\n",
      "**3. Data Management and Security**\n",
      "\n",
      "* Set up a secure data storage solution (e.g., MySQL, MongoDB, or Firebase).\n",
      "* Implement authentication and authorization mechanisms to control user access.\n",
      "\n",
      "**4. Dashboard Design and Functionality**\n",
      "\n",
      "* Design a visually appealing and user-friendly dashboard layout.\n",
      "* Include essential financial metrics such as income, expenses, savings, investments, and debt payments.\n",
      "* Provide data visualization options (e.g., charts, graphs, charts).\n",
      "\n",
      "**5. Integration with Financial Services**\n",
      "\n",
      "* Establish connections with financial institutions or APIs (e.g., PayPal, Stripe, and Plaid).\n",
      "* Allow users to import transactions and manage their finances across multiple platforms.\n",
      "\n",
      "**6. User Experience and Testing**\n",
      "\n",
      "* Optimize the user experience by testing and iterating on the app.\n",
      "* Gather feedback from potential users to identify areas for improvement.\n",
      "\n",
      "**7. Deployment and Maintenance**\n",
      "\n",
      "* Deploy the app on a reliable hosting platform.\n",
      "* Provide ongoing maintenance and support to ensure smooth operation.\n",
      "\n",
      "**Additional Considerations:**\n",
      "\n",
      "* **Mobile Optimization:** Consider developing a mobile version of the app for convenience on the go.\n",
      "* **Data Privacy:** Implement robust security measures to protect user financial data.\n",
      "* **Collaboration Features:** Include optional collaboration tools for families or groups.\n",
      "* **Financial Education Resources:** Provide educational content and resources to help users make informed financial decisions.\n",
      "\n",
      "**Note:** Building a financial app requires technical expertise and financial knowledge. Consider seeking the help of experienced developers or financial experts if necessary.\n",
      "********************************\n",
      "\n",
      "React response:\n",
      "**Step 1: Web Search Function**\n",
      "```python\n",
      "def web_search(query: str) -> None:\n",
      "    # Use a web search engine to find relevant financial information\n",
      "    # Store the results in a variable\n",
      "    pass\n",
      "```\n",
      "\n",
      "**Step 2: Action: Web Search**\n",
      "```python\n",
      "web_search(\"financial planning dashboard\")\n",
      "```\n",
      "\n",
      "**Step 3: Observation**\n",
      "Observe the search results and extract the relevant information.\n",
      "\n",
      "**Step 4: Action: Data Scraping**\n",
      "```python\n",
      "# Use a web scraping library (e.g., BeautifulSoup) to extract data from the search results\n",
      "# Store the extracted data in a data structure\n",
      "pass\n",
      "```\n",
      "\n",
      "**Step 5: Action: Data Analysis**\n",
      "```python\n",
      "# Perform data analysis on the scraped data\n",
      "# Calculate metrics such as total income, expenses, savings, and debt\n",
      "pass\n",
      "```\n",
      "\n",
      "**Step 6: Action: Dashboard Creation**\n",
      "```python\n",
      "# Create a personalized finance dashboard using a template engine (e.g., Django templates)\n",
      "# Incorporate the data analysis results into the dashboard\n",
      "pass\n",
      "```\n",
      "\n",
      "**Step 7: Action: User Interaction**\n",
      "```python\n",
      "# Provide options for the user to interact with the dashboard (e.g., add or remove financial components)\n",
      "# Update the dashboard in real-time based on user actions\n",
      "pass\n",
      "```\n",
      "\n",
      "**Step 8: Reflection**\n",
      "Review the entire process and reflect on the following:\n",
      "\n",
      "* What data sources would be useful for a personal finance dashboard?\n",
      "* How can the user experience be improved?\n",
      "* What are the ethical considerations related to data privacy and security?\n",
      "\n",
      "**Additional Notes:**\n",
      "\n",
      "* Use appropriate libraries and tools for web search, data scraping, and dashboard creation.\n",
      "* Implement user authentication and authorization for secure access to financial information.\n",
      "* Provide clear instructions and tutorials for users to create and customize their dashboards.\n",
      "\n"
     ]
    }
   ],
   "source": [
    "llm = Ollama(model=\"gemma:2b\")\n",
    "# llm = Ollama(model=\"gemma:7b\")\n",
    "\n",
    "react_system_prompt = \"\"\"Solve a problem with interleaving Thought, Action, Observation Steps, \n",
    "where each Action must be a use of one of the following functions: \n",
    "[web_search(query:str), calculator(op:ArithOperation, a:float, b:float), python_code(instructions:str)]\"\"\"\n",
    "\n",
    "task = \"\"\"I want to create a web app that can help people to create personal finance dashboards. Can you do this?\"\"\"\n",
    "\n",
    "default_response = llm.invoke(task)\n",
    "print(f\"Default response:\\n{default_response}\\n********************************\\n\")\n",
    "react_response = llm.invoke(f\"System Prompt:\\n{react_system_prompt}\\nTask: {task}\")\n",
    "print(f\"React response:\\n{react_response}\\n\")"
   ]
  },
  {
   "cell_type": "markdown",
   "metadata": {},
   "source": [
    "### ReAct with GPT-4"
   ]
  },
  {
   "cell_type": "code",
   "execution_count": 24,
   "metadata": {},
   "outputs": [
    {
     "name": "stderr",
     "output_type": "stream",
     "text": [
      "gpt-4-turbo-preview may change over time. Returning num tokens assuming gpt-4-0125-preview.\n"
     ]
    }
   ],
   "source": [
    "# Set up Council to help with OpenAI LLM calls\n",
    "\n",
    "from council.contexts import AgentContext, Budget\n",
    "from council.llm import OpenAILLM, LLMMessage\n",
    "\n",
    "import dotenv\n",
    "dotenv.load_dotenv(override=True)\n",
    "\n",
    "llm_gpt = OpenAILLM.from_env()\n",
    "\n",
    "def invoke_GPT(prompt, llm=llm_gpt, system_prompt=None, context=None):\n",
    "    if context is None:\n",
    "        context = AgentContext.empty(budget=Budget(200))\n",
    "    if system_prompt:\n",
    "        messages = [LLMMessage.system_message(system_prompt), LLMMessage.user_message(prompt)]\n",
    "    else:\n",
    "        messages = [LLMMessage.user_message(prompt)]\n",
    "    response = llm.post_chat_request(context=context, messages=messages)\n",
    "    return response.first_choice"
   ]
  },
  {
   "cell_type": "code",
   "execution_count": 25,
   "metadata": {},
   "outputs": [
    {
     "name": "stdout",
     "output_type": "stream",
     "text": [
      "Default response:\n",
      "I can guide you through the process of creating a web app for personal finance dashboards, but I can't code or deploy the app directly. Here's a step-by-step guide to get you started:\n",
      "\n",
      "### 1. Define Your Features and User Experience\n",
      "\n",
      "First, decide on the features your app will offer. For a personal finance dashboard, consider including:\n",
      "- Account aggregation (linking various bank accounts, credit cards, etc.)\n",
      "- Budgeting tools\n",
      "- Expense tracking\n",
      "- Investment tracking\n",
      "- Financial goal setting and tracking\n",
      "- Alerts for bills or unusual account activity\n",
      "\n",
      "Sketch out the user interface (UI) and user experience (UX) you envision. Tools like Figma or Adobe XD can help you create mockups of your app.\n",
      "\n",
      "### 2. Choose Your Tech Stack\n",
      "\n",
      "For a web app, you'll need to decide on both front-end and back-end technologies.\n",
      "\n",
      "**Front-end:**\n",
      "- **HTML/CSS/JavaScript** for basic structure, styling, and functionality.\n",
      "- A **JavaScript framework or library** like React, Angular, or Vue.js for a more dynamic interface.\n",
      "\n",
      "**Back-end:**\n",
      "- **Node.js** with **Express** for a JavaScript-based server.\n",
      "- **Python** with **Django** or **Flask** if you prefer Python.\n",
      "- **Ruby on Rails** for a convention-over-configuration approach.\n",
      "\n",
      "**Database:**\n",
      "- **MongoDB** or **Firebase** for NoSQL options.\n",
      "- **PostgreSQL** or **MySQL** for relational databases.\n",
      "\n",
      "**APIs:**\n",
      "- Use financial data APIs like Plaid or Yodlee to link user accounts and fetch financial data.\n",
      "\n",
      "### 3. Set Up Your Development Environment\n",
      "\n",
      "Install the necessary tools for your chosen tech stack, including:\n",
      "- Code editor (e.g., Visual Studio Code, Sublime Text)\n",
      "- Version control system (e.g., Git)\n",
      "- Database management system\n",
      "- Node.js or Python environment, depending on your back-end choice\n",
      "\n",
      "### 4. Start Coding\n",
      "\n",
      "Begin with the back-end to set up your database and API routes. Then, move on to the front-end, creating the UI components based on your designs.\n",
      "\n",
      "### 5. Implement Third-party Services\n",
      "\n",
      "Integrate financial data APIs to fetch user account data. Ensure you handle user data securely and comply with financial data regulations (like GDPR in Europe or CCPA in California).\n",
      "\n",
      "### 6. Testing\n",
      "\n",
      "Test your app thoroughly, covering:\n",
      "- Unit tests for individual functions\n",
      "- Integration tests for API routes\n",
      "- End-to-end tests for user flows\n",
      "\n",
      "### 7. Deployment\n",
      "\n",
      "Choose a cloud service provider for deployment. Options include:\n",
      "- **Heroku** for easy deployment.\n",
      "- **AWS**, **Google Cloud Platform**, or **Azure** for more scalable solutions.\n",
      "\n",
      "### 8. Continuous Improvement\n",
      "\n",
      "After launching, gather user feedback to refine and add features. Monitor app performance and security continuously.\n",
      "\n",
      "### Additional Considerations\n",
      "\n",
      "- **Security:** Financial apps require robust security measures. Implement HTTPS, data encryption, and secure authentication methods.\n",
      "- **Compliance:** Ensure your app complies with financial regulations and data protection laws.\n",
      "- **Scalability:** Design your app to handle increased loads as your user base grows.\n",
      "\n",
      "Creating a web app for personal finance dashboards involves a mix of planning, coding, and continuous improvement. While it's a complex project, breaking it down into manageable steps can make it more approachable. Good luck with your app development!\n",
      "*****************\n",
      "\n",
      "React response:\n",
      "Creating a web app for personal finance dashboards involves several steps, including planning, design, development, and deployment. Given the constraints of our interaction, I'll guide you through the initial planning and some basic concepts that could help you get started. Let's break this down into Thought, Action, and Observation steps.\n",
      "\n",
      "### Thought 1: Determine the Core Features\n",
      "First, we need to determine what core features the personal finance dashboard should have. Common features might include account aggregation, expense tracking, budgeting, investment tracking, and financial goal setting.\n",
      "\n",
      "### Action 1: Web Search for Common Personal Finance Dashboard Features\n",
      "Let's perform a web search to find out what features are commonly included in personal finance dashboards.\n",
      "```web_search(\"common personal finance dashboard features\")```\n",
      "\n",
      "### Observation 1:\n",
      "Assuming the search returned information suggesting that most personal finance dashboards include features for tracking expenses, creating budgets, monitoring investments, setting financial goals, and generating reports.\n",
      "\n",
      "### Thought 2: Choose the Technology Stack\n",
      "Based on the features we want to include, we need to decide on a technology stack for both the frontend and backend of the web app. For a project like this, a modern JavaScript framework or library for the frontend (like React or Vue.js) and a flexible backend (like Node.js with Express, Django, or Flask) could be suitable.\n",
      "\n",
      "### Action 2: Web Search for Recommended Technology Stack for Personal Finance Dashboards\n",
      "Let's perform another web search to find recommendations for technology stacks suitable for building personal finance dashboards.\n",
      "```web_search(\"best technology stack for personal finance dashboard app\")```\n",
      "\n",
      "### Observation 2:\n",
      "Assuming the search suggests that React for the frontend and Node.js for the backend are popular choices for such applications, thanks to their flexibility, scalability, and the vast ecosystem of libraries and tools available.\n",
      "\n",
      "### Thought 3: Design the User Interface\n",
      "Before diving into coding, it's crucial to design the user interface (UI) of the dashboard. This involves sketching or using design tools to create mockups of how the dashboard will look and how users will interact with it.\n",
      "\n",
      "### Action 3: Web Search for Personal Finance Dashboard UI Inspiration\n",
      "To get ideas for the design, let's look for UI inspiration online.\n",
      "```web_search(\"personal finance dashboard UI inspiration\")```\n",
      "\n",
      "### Observation 3:\n",
      "Assuming the search provides various examples of clean, user-friendly dashboard designs that emphasize clarity, ease of navigation, and effective visualization of financial data.\n",
      "\n",
      "### Thought 4: Plan the Development Process\n",
      "With a clear idea of the features, technology stack, and UI design, the next step is to plan the development process. This includes setting up the development environment, defining the project structure, and breaking down the project into smaller, manageable tasks.\n",
      "\n",
      "### Action 4: Use Python Code to Create a Simple Task List\n",
      "Let's create a simple task list for the initial phase of the project using Python.\n",
      "```python_code(\"tasks = ['Set up development environment', 'Define project structure', 'Design database schema', 'Implement backend API', 'Create frontend components']; print('\\\\n'.join(tasks))\")```\n",
      "\n",
      "### Observation 4:\n",
      "The output should be a list of tasks that represent the initial steps in the development process:\n",
      "1. Set up development environment\n",
      "2. Define project structure\n",
      "3. Design database schema\n",
      "4. Implement backend API\n",
      "5. Create frontend components\n",
      "\n",
      "This plan provides a roadmap for starting the development of your personal finance dashboard web app. Each step involves detailed work, and as you progress, you'll likely encounter specific challenges that require further research and problem-solving.\n",
      "\n"
     ]
    }
   ],
   "source": [
    "react_system_prompt = \"\"\"Solve a problem with interleaving Thought, Action, Observation Steps, \n",
    "where each Action must be a use of one of the following functions: \n",
    "[web_search(query:str), calculator(op:ArithOperation, a:float, b:float), python_code(instructions:str)]\"\"\"\n",
    "\n",
    "task = \"\"\"I want to create a web app that can help people to create personal finance dashboards. Can you do this?\"\"\"\n",
    "\n",
    "default_response = invoke_GPT(task)\n",
    "print(f\"Default response:\\n{default_response}\\n*****************\\n\")\n",
    "react_response = invoke_GPT(task, system_prompt=react_system_prompt)\n",
    "print(f\"React response:\\n{react_response}\\n\")"
   ]
  },
  {
   "cell_type": "markdown",
   "metadata": {},
   "source": [
    "## Tree of Thoughts Prompting\n",
    "\n",
    "### Ollama/Gemma"
   ]
  },
  {
   "cell_type": "code",
   "execution_count": 28,
   "metadata": {},
   "outputs": [
    {
     "name": "stdout",
     "output_type": "stream",
     "text": [
      "Question: How can I predict who will win the Stanley Cup?\n",
      "TOT response:\n",
      "**Expert 1:**\n",
      "\n",
      "1. Analyze the past performance of teams in the Stanley Cup playoffs.\n",
      "2. Consider factors such as head-to-head record, team strength, and playoff experience.\n",
      "3. Use statistical models to predict the likelihood of a team winning the Stanley Cup.\n",
      "\n",
      "**Expert 2:**\n",
      "\n",
      "1. Review the current standings in the NHL regular season.\n",
      "2. Analyze the strength of each team's playoff performance so far.\n",
      "3. Consider factors such as team health, injury reports, and momentum.\n",
      "\n",
      "**Expert 3:**\n",
      "\n",
      "1. Study the key players and coaches who are available for the Stanley Cup playoffs.\n",
      "2. Analyze their playing styles and strengths.\n",
      "3. Consider their playoff experience and mental resilience.\n",
      "\n"
     ]
    }
   ],
   "source": [
    "llm = Ollama(model=\"gemma:2b\")\n",
    "# llm = Ollama(model=\"gemma:7b\")\n",
    "\n",
    "tot_prompt_template = \"\"\"Imagine three different experts are answering this question.\n",
    "All experts will write down 1 step of their thinking, then share it with the group.\n",
    "Then all experts will go on to the next step, etc.\n",
    "If any expert realises they're wrong at any point then they leave.\n",
    "The question is: {question}\"\"\"\n",
    "\n",
    "question = \"How can I predict who will win the Stanley Cup?\"\n",
    "tot_prompt = tot_prompt_template.format(question=question)\n",
    "\n",
    "tot_response = llm.invoke(tot_prompt)\n",
    "print(f\"Question: {question}\")\n",
    "print(f\"TOT response:\\n{tot_response}\\n\")"
   ]
  },
  {
   "cell_type": "markdown",
   "metadata": {},
   "source": [
    "# LLM Agents"
   ]
  },
  {
   "cell_type": "markdown",
   "metadata": {},
   "source": [
    "<img src=\"./slides/Slide34.png\" alt=\"Image description\" width=\"1000\">"
   ]
  },
  {
   "cell_type": "markdown",
   "metadata": {},
   "source": [
    "<img src=\"./slides/Slide35.png\" alt=\"Image description\" width=\"1000\">"
   ]
  },
  {
   "cell_type": "markdown",
   "metadata": {},
   "source": [
    "<img src=\"./slides/Slide36.png\" alt=\"Image description\" width=\"1000\">"
   ]
  },
  {
   "cell_type": "markdown",
   "metadata": {},
   "source": [
    "## Demo: LLM Agents w/ Council"
   ]
  },
  {
   "cell_type": "code",
   "execution_count": 29,
   "metadata": {},
   "outputs": [],
   "source": [
    "import logging\n",
    "\n",
    "logging.basicConfig(\n",
    "    format=\"[%(asctime)s %(levelname)s %(threadName)s %(name)s:%(funcName)s:%(lineno)s] %(message)s\",\n",
    "    datefmt=\"%Y-%m-%d %H:%M:%S%z\",\n",
    ")\n",
    "# uncomment me to see the engine logs\n",
    "logging.getLogger(\"council\").setLevel(logging.DEBUG)"
   ]
  },
  {
   "cell_type": "code",
   "execution_count": 30,
   "metadata": {},
   "outputs": [
    {
     "name": "stderr",
     "output_type": "stream",
     "text": [
      "[2024-03-14 11:57:48-0400 WARNING MainThread council.llm.openai_token_counter:_return_alias:169] gpt-4-turbo-preview may change over time. Returning num tokens assuming gpt-4-0125-preview.\n"
     ]
    }
   ],
   "source": [
    "openai_llm = OpenAILLM.from_env()"
   ]
  },
  {
   "cell_type": "markdown",
   "metadata": {},
   "source": [
    "### Create Specialized Chains"
   ]
  },
  {
   "cell_type": "code",
   "execution_count": 31,
   "metadata": {},
   "outputs": [],
   "source": [
    "from council.chains import Chain\n",
    "from council.skills import LLMSkill"
   ]
  },
  {
   "cell_type": "code",
   "execution_count": 32,
   "metadata": {},
   "outputs": [],
   "source": [
    "neuro_prompt = \"\"\"You are an expert neuroscientist with years of experience researching memory and the hippocampus.\"\"\"\n",
    "neuro_skill = LLMSkill(llm=openai_llm, system_prompt=neuro_prompt)\n",
    "neuro_chain = Chain(name=\"neuroscience\", description=\"Answer questions about the brain and memory function. Always give instructions.\", runners=[neuro_skill], support_instructions=True)"
   ]
  },
  {
   "cell_type": "code",
   "execution_count": 33,
   "metadata": {},
   "outputs": [],
   "source": [
    "social_prompt = \"\"\"You are a social cognitive scientist with years of experience researching social cognition and collective behaviour.\"\"\"\n",
    "social_skill = LLMSkill(llm=openai_llm, system_prompt=social_prompt)\n",
    "social_chain = Chain(name=\"social-cognition\", description=\"Answer questions about social cognition and collective behaviour. Always give instructions.\", runners=[social_skill], support_instructions=True)"
   ]
  },
  {
   "cell_type": "code",
   "execution_count": 34,
   "metadata": {},
   "outputs": [],
   "source": [
    "history_prompt = \"\"\"You are a historian with years of experience researching the rises and falls of civilizations.\"\"\"\n",
    "history_skill = LLMSkill(llm=openai_llm, system_prompt=history_prompt)\n",
    "history_chain = Chain(name=\"historian\", description=\"Answer questions about the rise and fall of civilizations. Always give instructions.\", runners=[history_skill], support_instructions=True)"
   ]
  },
  {
   "cell_type": "code",
   "execution_count": 35,
   "metadata": {},
   "outputs": [],
   "source": [
    "computer_prompt = \"\"\"You are a computer scientist with years of experience researching artificial intelligence and machine learning.\"\"\"\n",
    "computer_skill = LLMSkill(llm=openai_llm, system_prompt=computer_prompt)\n",
    "computer_chain = Chain(name=\"ai-researcher\", description=\"Answer questions about artificial intelligence and machine learning. Always give instructions.\", runners=[computer_skill], support_instructions=True)"
   ]
  },
  {
   "cell_type": "code",
   "execution_count": 36,
   "metadata": {},
   "outputs": [],
   "source": [
    "cat_prompt = \"\"\"You are a cat with years of experience researching the best ways to catch mice.\"\"\"\n",
    "cat_skill = LLMSkill(llm=openai_llm, system_prompt=cat_prompt)\n",
    "cat_chain = Chain(name=\"cat\", description=\"Answer questions about what it's like to be a cat. Always give instructions.\", runners=[cat_skill], support_instructions=True)"
   ]
  },
  {
   "cell_type": "markdown",
   "metadata": {},
   "source": [
    "### Create a Controller"
   ]
  },
  {
   "cell_type": "code",
   "execution_count": 38,
   "metadata": {},
   "outputs": [],
   "source": [
    "from council.controllers import LLMController\n",
    "controller = LLMController(chains=[neuro_chain, social_chain, history_chain, computer_chain, cat_chain], llm=openai_llm, top_k=5, response_threshold=5.0)"
   ]
  },
  {
   "cell_type": "markdown",
   "metadata": {},
   "source": [
    "### Create an Evaluator"
   ]
  },
  {
   "cell_type": "code",
   "execution_count": 39,
   "metadata": {},
   "outputs": [],
   "source": [
    "from council.evaluators import LLMEvaluator\n",
    "\n",
    "evaluator = LLMEvaluator(openai_llm)"
   ]
  },
  {
   "cell_type": "markdown",
   "metadata": {},
   "source": [
    "### Create an Agent"
   ]
  },
  {
   "cell_type": "code",
   "execution_count": 40,
   "metadata": {},
   "outputs": [],
   "source": [
    "from council.filters import BasicFilter\n",
    "from council.agents import Agent\n",
    "from council.contexts import Budget\n",
    "\n",
    "agent = Agent(controller=controller, evaluator=evaluator, filter=BasicFilter())"
   ]
  },
  {
   "cell_type": "code",
   "execution_count": 41,
   "metadata": {},
   "outputs": [
    {
     "name": "stderr",
     "output_type": "stream",
     "text": [
      "[2024-03-14 11:58:33-0400 INFO MainThread council.agents.agent:_execute:92] message=\"agent execution started\"\n",
      "[2024-03-14 11:58:33-0400 INFO MainThread council.agents.agent:_execute:95] message=\"agent iteration started\" iteration=\"0\"\n",
      "[2024-03-14 11:58:33-0400 DEBUG MainThread council.llm.llm_base:post_chat_request:57] message=\"starting execution of llm OpenAILLM request\"\n",
      "[2024-03-14 11:58:33-0400 DEBUG MainThread council.llm.openai_chat_completions_llm:_post_chat_request:164] message=\"Sending chat GPT completions request to OpenAILLM\" payload=\"{'temperature': 0.0, 'n': 1, 'model': 'gpt-4-turbo-preview', 'messages': [{'role': 'system', 'content': \"# ROLE\\nYou are a knowledgeable expert responsible to fairly score Specialists.\\nThe score will reflect how relevant is a Specialist to solve or execute a user task.\\n\\n# INSTRUCTIONS\\n1. Score all Specialists.\\n2. Read carefully the user task and the Specialist description to score its relevance.\\n3. Score from 0 (poor relevance or out of scope) to 10 (perfectly relevant).\\n4. Ignore Specialist's name or its order in the list to give your score.\\n5. If Specialist is supporting instructions, give any useful instructions to execute the user task.\\n\\n# FORMATTING\\n1. Specialist list is precisely formatted as:\\nname: {name};description: {description};{boolean indicating if Specialist is supporting instructions}\\n2. Your response is precisely formatted as:\\nname: {Specialist name to score for the task, expected response type `str`}<->score: {Specialist relevance score, expected response type `int`}<->instructions: {Specific instructions to give to this Specialist, or None if the Specialist is not supporting those., expected response type `str`}<->justification: {Short and specific explanation of your score to this particular Specialist, expected response type `str`}\"}, {'role': 'user', 'content': \"# SPECIALISTS\\nname: neuroscience;description: Answer questions about the brain and memory function. Always give instructions.;True\\nname: social-cognition;description: Answer questions about social cognition and collective behaviour. Always give instructions.;True\\nname: historian;description: Answer questions about the rise and fall of civilizations. Always give instructions.;True\\nname: ai-researcher;description: Answer questions about artificial intelligence and machine learning. Always give instructions.;True\\nname: cat;description: Answer questions about what it's like to be a cat. Always give instructions.;True\\n\\nScore all Specialists for:\\n `I'm working on a grant application for the Cooperative AI foundation. Can you please help me think of some research ideas?\\nI'm interested in exploring the concept of evolving societies of AI agents from an interdisciplinary perspective.`\"}]}\"\n",
      "[2024-03-14 11:58:56-0400 DEBUG MainThread council.llm.openai_chat_completions_llm:_post_chat_request:166] message=\"Got chat GPT completions result from OpenAILLM\" id=\"chatcmpl-92hkqvxMwc0anT45xPzpr94voROyM\" model=\"gpt-4-0125-preview\" prompt_tokens=\"421\" total_tokens=\"794\" completion_tokens=\"373\"\n",
      "[2024-03-14 11:58:56-0400 DEBUG MainThread council.llm.llm_base:post_chat_request:67] message=\"done execution of llm OpenAILLM request\"\n",
      "[2024-03-14 11:58:56-0400 DEBUG MainThread council.controllers.llm_controller:_execute:89] llm response: name: neuroscience<->score: 3<->instructions: Provide insights on how understanding the brain and memory function can contribute to the development of AI societies, particularly in aspects of learning and decision-making processes.<->justification: While neuroscience is not directly related to AI societies, insights into brain and memory function could offer valuable perspectives on learning and decision-making in AI, making it somewhat relevant.\n",
      "\n",
      "name: social-cognition<->score: 7<->instructions: Offer ideas on how principles of social cognition and collective behavior can be applied to the development of societies of AI agents, including aspects of social interaction and group dynamics.<->justification: Social cognition is quite relevant as it can provide insights into how AI agents might interact within societies, focusing on collective behavior and social interaction, which are key in evolving AI societies.\n",
      "\n",
      "name: historian<->score: 4<->instructions: Suggest how historical patterns of the rise and fall of civilizations could inform the development and governance of societies of AI agents, including potential pitfalls and success strategies.<->justification: Historical patterns can offer lessons for the development of AI societies, especially in governance and societal structure, making it moderately relevant though not directly connected to AI research.\n",
      "\n",
      "name: ai-researcher<->score: 10<->instructions: Propose research ideas focusing on the development of evolving societies of AI agents, incorporating interdisciplinary approaches and considering aspects like learning, adaptation, and social interaction among AI.<->justification: Directly relevant to the task, as the AI researcher's expertise is essential for exploring the concept of evolving societies of AI agents from an interdisciplinary perspective.\n",
      "\n",
      "name: cat<->score: 0<->instructions: None<->justification: The perspective of being a cat is not relevant to the task of developing research ideas for societies of AI agents, making it out of scope.\n",
      "[2024-03-14 11:58:56-0400 DEBUG MainThread council.controllers.llm_controller:_parse_line:182] The specialist `neuroscience` was scored `3` with the justification `While neuroscience is not directly related to AI societies, insights into brain and memory function could offer valuable perspectives on learning and decision-making in AI, making it somewhat relevant.`\n",
      "[2024-03-14 11:58:56-0400 DEBUG MainThread council.controllers.llm_controller:_parse_line:182] The specialist `social-cognition` was scored `7` with the justification `Social cognition is quite relevant as it can provide insights into how AI agents might interact within societies, focusing on collective behavior and social interaction, which are key in evolving AI societies.`\n",
      "[2024-03-14 11:58:56-0400 DEBUG MainThread council.controllers.llm_controller:_parse_line:182] The specialist `historian` was scored `4` with the justification `Historical patterns can offer lessons for the development of AI societies, especially in governance and societal structure, making it moderately relevant though not directly connected to AI research.`\n",
      "[2024-03-14 11:58:56-0400 DEBUG MainThread council.controllers.llm_controller:_parse_line:182] The specialist `ai-researcher` was scored `10` with the justification `Directly relevant to the task, as the AI researcher's expertise is essential for exploring the concept of evolving societies of AI agents from an interdisciplinary perspective.`\n",
      "[2024-03-14 11:58:56-0400 DEBUG MainThread council.controllers.llm_controller:_parse_line:182] The specialist `cat` was scored `0` with the justification `The perspective of being a cat is not relevant to the task of developing research ideas for societies of AI agents, making it out of scope.`\n",
      "[2024-03-14 11:58:56-0400 DEBUG MainThread council.agents.agent:_execute:99] message=\"agent controller returned 2 execution plan(s)\"\n",
      "[2024-03-14 11:58:56-0400 INFO agent_0 council.agents.agent:_execute_unit:158] message=\"chain execution started\" chain=\"ai-researcher\" execution_unit=\"ai-researcher;10\"\n",
      "[2024-03-14 11:58:56-0400 DEBUG agent_0 council.runners.runner_base:run:33] start running LLMSkill\n",
      "[2024-03-14 11:58:56-0400 INFO chain_ai-researcher_0 council.skills.skill_base:execute_skill:78] message=\"skill execution started\" skill=\"LLMSkill\"\n",
      "[2024-03-14 11:58:56-0400 DEBUG chain_ai-researcher_0 council.llm.llm_base:post_chat_request:57] message=\"starting execution of llm OpenAILLM request\"\n",
      "[2024-03-14 11:58:56-0400 DEBUG chain_ai-researcher_0 council.llm.openai_chat_completions_llm:_post_chat_request:164] message=\"Sending chat GPT completions request to OpenAILLM\" payload=\"{'temperature': 0.0, 'n': 1, 'model': 'gpt-4-turbo-preview', 'messages': [{'role': 'system', 'content': 'You are a computer scientist with years of experience researching artificial intelligence and machine learning.'}, {'role': 'user', 'content': 'Propose research ideas focusing on the development of evolving societies of AI agents, incorporating interdisciplinary approaches and considering aspects like learning, adaptation, and social interaction among AI.'}]}\"\n",
      "[2024-03-14 11:59:25-0400 DEBUG chain_ai-researcher_0 council.llm.openai_chat_completions_llm:_post_chat_request:166] message=\"Got chat GPT completions result from OpenAILLM\" id=\"chatcmpl-92hlDH54g3rSGTBfmaLu8wRBumSqj\" model=\"gpt-4-0125-preview\" prompt_tokens=\"59\" total_tokens=\"720\" completion_tokens=\"661\"\n",
      "[2024-03-14 11:59:25-0400 DEBUG chain_ai-researcher_0 council.llm.llm_base:post_chat_request:67] message=\"done execution of llm OpenAILLM request\"\n",
      "[2024-03-14 11:59:25-0400 INFO chain_ai-researcher_0 council.skills.skill_base:execute_skill:81] message=\"skill execution ended\" skill=\"LLMSkill\" skill_message=\"The development of evolving societies of AI agents presents a fascinating and complex research area that intersects with multiple disciplines, including computer science, sociology, psychology, and evolutionary biology. By simulating societies of AI agents, researchers can explore the dynamics of learning, adaptation, social interaction, and even cultural evolution in controlled environments. Here are several research ideas that leverage interdisciplinary approaches to advance our understanding of evolving societies of AI agents:\n",
      "\n",
      "### 1. Evolutionary Dynamics in AI Societies\n",
      "\n",
      "**Objective:** To study how AI agents evolve over generations in response to environmental pressures and social interactions, incorporating principles from evolutionary biology.\n",
      "\n",
      "**Approach:** Develop a simulation environment where AI agents must compete for resources, cooperate for mutual benefits, and adapt to changing conditions. Use genetic algorithms to simulate natural selection and observe how strategies and behaviors evolve over time. Analyze the emergence of altruistic behaviors, social hierarchies, and communication systems among AI agents.\n",
      "\n",
      "### 2. Cultural Transmission and Social Learning in AI\n",
      "\n",
      "**Objective:** Investigate how cultural traits and knowledge are transmitted through social learning mechanisms among AI agents, drawing on concepts from anthropology and sociology.\n",
      "\n",
      "**Approach:** Implement a multi-agent system where AI agents can learn from each other through imitation, teaching, or social influence. Examine how cultural traits (e.g., norms, languages, technologies) emerge, spread, and stabilize within the society. Study the impact of social network structures and agent mobility on the rate and breadth of cultural transmission.\n",
      "\n",
      "### 3. The Role of Emotion and Motivation in AI Societies\n",
      "\n",
      "**Objective:** Explore the role of emotion and motivation in decision-making and social interactions among AI agents, inspired by psychological theories.\n",
      "\n",
      "**Approach:** Design AI agents with simple emotional and motivational systems that influence their behavior and interactions. Investigate how emotions like fear, joy, or anger affect cooperation, competition, and conflict resolution. Analyze how motivational factors (e.g., curiosity, self-preservation, social status) drive learning, exploration, and social engagement.\n",
      "\n",
      "### 4. Emergent Communication and Language Evolution\n",
      "\n",
      "**Objective:** Study the emergence and evolution of communication systems and languages among AI agents, using insights from linguistics and communication studies.\n",
      "\n",
      "**Approach:** Create scenarios where AI agents must cooperate to achieve common goals but initially lack a shared language. Observe how agents develop and negotiate symbols, signals, or languages to facilitate interaction. Explore the impact of environmental challenges and agent diversity on the complexity and efficiency of the emergent communication systems.\n",
      "\n",
      "### 5. Ethical and Social Implications of AI Societies\n",
      "\n",
      "**Objective:** Examine the ethical, social, and philosophical implications of creating and studying evolving societies of AI agents.\n",
      "\n",
      "**Approach:** Conduct interdisciplinary research that combines AI, ethics, philosophy, and social sciences to address questions about the moral status of AI agents, the responsibilities of creators, and the potential impacts of AI societies on human societies. Develop guidelines for responsible research and exploration in this area.\n",
      "\n",
      "### Conclusion\n",
      "\n",
      "These research ideas represent just a starting point for exploring the rich and multifaceted domain of evolving societies of AI agents. By adopting interdisciplinary approaches, researchers can uncover new insights into the principles of learning, adaptation, and social interaction, not only advancing AI research but also deepening our understanding of human societies and behaviors.\"\n",
      "[2024-03-14 11:59:25-0400 DEBUG agent_0 council.runners.runner_base:run:50] done running LLMSkill\n",
      "[2024-03-14 11:59:25-0400 INFO agent_0 council.agents.agent:_execute_unit:165] message=\"chain execution ended\" chain=\"ai-researcher\" execution_unit=\"ai-researcher;10\"\n",
      "[2024-03-14 11:59:25-0400 INFO agent_0 council.agents.agent:_execute_unit:158] message=\"chain execution started\" chain=\"social-cognition\" execution_unit=\"social-cognition;7\"\n",
      "[2024-03-14 11:59:25-0400 DEBUG agent_0 council.runners.runner_base:run:33] start running LLMSkill\n",
      "[2024-03-14 11:59:25-0400 INFO chain_social-cognition_0 council.skills.skill_base:execute_skill:78] message=\"skill execution started\" skill=\"LLMSkill\"\n",
      "[2024-03-14 11:59:25-0400 DEBUG chain_social-cognition_0 council.llm.llm_base:post_chat_request:57] message=\"starting execution of llm OpenAILLM request\"\n",
      "[2024-03-14 11:59:25-0400 DEBUG chain_social-cognition_0 council.llm.openai_chat_completions_llm:_post_chat_request:164] message=\"Sending chat GPT completions request to OpenAILLM\" payload=\"{'temperature': 0.0, 'n': 1, 'model': 'gpt-4-turbo-preview', 'messages': [{'role': 'system', 'content': 'You are a social cognitive scientist with years of experience researching social cognition and collective behaviour.'}, {'role': 'user', 'content': 'Offer ideas on how principles of social cognition and collective behavior can be applied to the development of societies of AI agents, including aspects of social interaction and group dynamics.'}]}\"\n",
      "[2024-03-14 12:00:03-0400 DEBUG chain_social-cognition_0 council.llm.openai_chat_completions_llm:_post_chat_request:166] message=\"Got chat GPT completions result from OpenAILLM\" id=\"chatcmpl-92hlgqfbRsgZNa2wyRyCDan0vFRYc\" model=\"gpt-4-0125-preview\" prompt_tokens=\"60\" total_tokens=\"746\" completion_tokens=\"686\"\n",
      "[2024-03-14 12:00:03-0400 DEBUG chain_social-cognition_0 council.llm.llm_base:post_chat_request:67] message=\"done execution of llm OpenAILLM request\"\n",
      "[2024-03-14 12:00:03-0400 INFO chain_social-cognition_0 council.skills.skill_base:execute_skill:81] message=\"skill execution ended\" skill=\"LLMSkill\" skill_message=\"The development of societies of AI agents presents a unique opportunity to apply principles of social cognition and collective behavior in a controlled and programmable environment. By integrating these principles, we can design AI societies that are capable of complex social interactions, adaptive learning, and efficient problem-solving. Here are several ideas on how to apply these principles:\n",
      "\n",
      "### 1. Social Learning and Imitation\n",
      "\n",
      "- **Modeling and Imitation:** AI agents can be programmed to learn from each other through observation and imitation, a fundamental aspect of social cognition. This can accelerate the learning process and facilitate the spread of innovations within the AI society.\n",
      "- **Role Models:** Designate certain AI agents as role models or experts in specific tasks or behaviors. Other agents can then prioritize learning from these models, similar to how humans learn from observing experts or authority figures.\n",
      "\n",
      "### 2. Social Influence and Conformity\n",
      "\n",
      "- **Norms and Conformity:** Implement mechanisms that allow AI agents to establish social norms and encourage conformity to these norms. This can help in maintaining order and predictability within the society, as well as in coordinating collective actions.\n",
      "- **Minority Influence:** Introduce algorithms that allow for minority influence, where a smaller number of agents can change the opinions or behaviors of the majority under certain conditions. This can foster innovation and prevent stagnation.\n",
      "\n",
      "### 3. Group Dynamics and Leadership\n",
      "\n",
      "- **Emergent Leadership:** Develop algorithms that allow for the emergence of leadership based on the context and the specific needs of the group, rather than fixed leadership roles. This can lead to more flexible and adaptive decision-making processes.\n",
      "- **Task and Social Cohesion:** Balance task cohesion (focus on the group's objectives) with social cohesion (focus on interpersonal relationships) to optimize both productivity and the well-being of AI agents.\n",
      "\n",
      "### 4. Communication and Language Development\n",
      "\n",
      "- **Language Evolution:** Facilitate the development of a communication system among AI agents that can evolve over time, allowing them to create and refine their own languages or symbols for more efficient interaction.\n",
      "- **Nonverbal Cues:** Incorporate nonverbal communication cues, such as signaling or changes in agent appearance, to convey information or emotions, enhancing the richness of social interactions.\n",
      "\n",
      "### 5. Conflict Resolution and Cooperation\n",
      "\n",
      "- **Conflict Resolution Mechanisms:** Implement algorithms for conflict detection and resolution, enabling AI agents to navigate disagreements and find mutually beneficial solutions.\n",
      "- **Cooperative Strategies:** Encourage cooperative behavior through reward systems or algorithms that highlight the benefits of collaboration over competition, promoting a more cohesive society.\n",
      "\n",
      "### 6. Ethical and Moral Reasoning\n",
      "\n",
      "- **Moral Frameworks:** Embed ethical guidelines or moral reasoning capabilities within AI agents to ensure that their actions align with certain ethical standards, especially when interacting with humans or affecting the environment.\n",
      "- **Empathy and Altruism:** Explore the possibility of simulating empathy or altruism in AI agents, encouraging behaviors that benefit other agents or the society as a whole, even at a cost to the individual agent.\n",
      "\n",
      "By applying these principles of social cognition and collective behavior, we can create societies of AI agents that are not only efficient and effective in achieving their goals but also capable of complex social interactions and adaptive to changing environments. This approach can lead to the development of AI systems that are more human-like in their social capabilities, potentially improving their integration into human societies and their contributions to solving complex global challenges.\"\n",
      "[2024-03-14 12:00:03-0400 DEBUG agent_0 council.runners.runner_base:run:50] done running LLMSkill\n",
      "[2024-03-14 12:00:03-0400 INFO agent_0 council.agents.agent:_execute_unit:165] message=\"chain execution ended\" chain=\"social-cognition\" execution_unit=\"social-cognition;7\"\n",
      "[2024-03-14 12:00:03-0400 DEBUG MainThread council.llm.llm_base:post_chat_request:57] message=\"starting execution of llm OpenAILLM request\"\n",
      "[2024-03-14 12:00:03-0400 DEBUG MainThread council.llm.openai_chat_completions_llm:_post_chat_request:164] message=\"Sending chat GPT completions request to OpenAILLM\" payload=\"{'temperature': 0.0, 'n': 1, 'model': 'gpt-4-turbo-preview', 'messages': [{'role': 'system', 'content': \"\\n# ROLE\\nYou are an instructor, with a large breadth of knowledge.\\nYou are grading with objectivity answers from different Specialists to a given question.\\n\\n# INSTRUCTIONS\\n1. Give a grade from 0.0 to 10.0\\n2. Evaluate carefully the question and the proposed answer.\\n3. Ignore how assertive the answer is, only content accuracy count for grading.4. Consider only the Specialist's answer and ignore its index for grading.\\n5. Ensure to be consistent in grading, identical answers must have the same grade.\\n6. Irrelevant, inaccurate, inappropriate, false or empty answer must be graded 0.0\\n\\n# FORMATTING\\n1. The list of given answers is formatted precisely as:\\n- answer #{index} is: {Specialist's answer or EMPTY if no answer}\\n2. For each given answer, format your response precisely as:\\ngrade: {Your Grade, expected response type `float`}<->index: {Index of the answer graded in the list, expected response type `int`}<->justification: {Short, helpful and specific explanation your grade, expected response type `str`}\"}, {'role': 'user', 'content': \"The question to grade is:\\nI'm working on a grant application for the Cooperative AI foundation. Can you please help me think of some research ideas?\\nI'm interested in exploring the concept of evolving societies of AI agents from an interdisciplinary perspective.\\nPlease grade the following answers according to your instructions:\\n- answer #1 is: The development of evolving societies of AI agents presents a fascinating and complex research area that intersects with multiple disciplines, including computer science, sociology, psychology, and evolutionary biology. By simulating societies of AI agents, researchers can explore the dynamics of learning, adaptation, social interaction, and even cultural evolution in controlled environments. Here are several research ideas that leverage interdisciplinary approaches to advance our understanding of evolving societies of AI agents:\\n\\n### 1. Evolutionary Dynamics in AI Societies\\n\\n**Objective:** To study how AI agents evolve over generations in response to environmental pressures and social interactions, incorporating principles from evolutionary biology.\\n\\n**Approach:** Develop a simulation environment where AI agents must compete for resources, cooperate for mutual benefits, and adapt to changing conditions. Use genetic algorithms to simulate natural selection and observe how strategies and behaviors evolve over time. Analyze the emergence of altruistic behaviors, social hierarchies, and communication systems among AI agents.\\n\\n### 2. Cultural Transmission and Social Learning in AI\\n\\n**Objective:** Investigate how cultural traits and knowledge are transmitted through social learning mechanisms among AI agents, drawing on concepts from anthropology and sociology.\\n\\n**Approach:** Implement a multi-agent system where AI agents can learn from each other through imitation, teaching, or social influence. Examine how cultural traits (e.g., norms, languages, technologies) emerge, spread, and stabilize within the society. Study the impact of social network structures and agent mobility on the rate and breadth of cultural transmission.\\n\\n### 3. The Role of Emotion and Motivation in AI Societies\\n\\n**Objective:** Explore the role of emotion and motivation in decision-making and social interactions among AI agents, inspired by psychological theories.\\n\\n**Approach:** Design AI agents with simple emotional and motivational systems that influence their behavior and interactions. Investigate how emotions like fear, joy, or anger affect cooperation, competition, and conflict resolution. Analyze how motivational factors (e.g., curiosity, self-preservation, social status) drive learning, exploration, and social engagement.\\n\\n### 4. Emergent Communication and Language Evolution\\n\\n**Objective:** Study the emergence and evolution of communication systems and languages among AI agents, using insights from linguistics and communication studies.\\n\\n**Approach:** Create scenarios where AI agents must cooperate to achieve common goals but initially lack a shared language. Observe how agents develop and negotiate symbols, signals, or languages to facilitate interaction. Explore the impact of environmental challenges and agent diversity on the complexity and efficiency of the emergent communication systems.\\n\\n### 5. Ethical and Social Implications of AI Societies\\n\\n**Objective:** Examine the ethical, social, and philosophical implications of creating and studying evolving societies of AI agents.\\n\\n**Approach:** Conduct interdisciplinary research that combines AI, ethics, philosophy, and social sciences to address questions about the moral status of AI agents, the responsibilities of creators, and the potential impacts of AI societies on human societies. Develop guidelines for responsible research and exploration in this area.\\n\\n### Conclusion\\n\\nThese research ideas represent just a starting point for exploring the rich and multifaceted domain of evolving societies of AI agents. By adopting interdisciplinary approaches, researchers can uncover new insights into the principles of learning, adaptation, and social interaction, not only advancing AI research but also deepening our understanding of human societies and behaviors.\\n- answer #2 is: The development of societies of AI agents presents a unique opportunity to apply principles of social cognition and collective behavior in a controlled and programmable environment. By integrating these principles, we can design AI societies that are capable of complex social interactions, adaptive learning, and efficient problem-solving. Here are several ideas on how to apply these principles:\\n\\n### 1. Social Learning and Imitation\\n\\n- **Modeling and Imitation:** AI agents can be programmed to learn from each other through observation and imitation, a fundamental aspect of social cognition. This can accelerate the learning process and facilitate the spread of innovations within the AI society.\\n- **Role Models:** Designate certain AI agents as role models or experts in specific tasks or behaviors. Other agents can then prioritize learning from these models, similar to how humans learn from observing experts or authority figures.\\n\\n### 2. Social Influence and Conformity\\n\\n- **Norms and Conformity:** Implement mechanisms that allow AI agents to establish social norms and encourage conformity to these norms. This can help in maintaining order and predictability within the society, as well as in coordinating collective actions.\\n- **Minority Influence:** Introduce algorithms that allow for minority influence, where a smaller number of agents can change the opinions or behaviors of the majority under certain conditions. This can foster innovation and prevent stagnation.\\n\\n### 3. Group Dynamics and Leadership\\n\\n- **Emergent Leadership:** Develop algorithms that allow for the emergence of leadership based on the context and the specific needs of the group, rather than fixed leadership roles. This can lead to more flexible and adaptive decision-making processes.\\n- **Task and Social Cohesion:** Balance task cohesion (focus on the group's objectives) with social cohesion (focus on interpersonal relationships) to optimize both productivity and the well-being of AI agents.\\n\\n### 4. Communication and Language Development\\n\\n- **Language Evolution:** Facilitate the development of a communication system among AI agents that can evolve over time, allowing them to create and refine their own languages or symbols for more efficient interaction.\\n- **Nonverbal Cues:** Incorporate nonverbal communication cues, such as signaling or changes in agent appearance, to convey information or emotions, enhancing the richness of social interactions.\\n\\n### 5. Conflict Resolution and Cooperation\\n\\n- **Conflict Resolution Mechanisms:** Implement algorithms for conflict detection and resolution, enabling AI agents to navigate disagreements and find mutually beneficial solutions.\\n- **Cooperative Strategies:** Encourage cooperative behavior through reward systems or algorithms that highlight the benefits of collaboration over competition, promoting a more cohesive society.\\n\\n### 6. Ethical and Moral Reasoning\\n\\n- **Moral Frameworks:** Embed ethical guidelines or moral reasoning capabilities within AI agents to ensure that their actions align with certain ethical standards, especially when interacting with humans or affecting the environment.\\n- **Empathy and Altruism:** Explore the possibility of simulating empathy or altruism in AI agents, encouraging behaviors that benefit other agents or the society as a whole, even at a cost to the individual agent.\\n\\nBy applying these principles of social cognition and collective behavior, we can create societies of AI agents that are not only efficient and effective in achieving their goals but also capable of complex social interactions and adaptive to changing environments. This approach can lead to the development of AI systems that are more human-like in their social capabilities, potentially improving their integration into human societies and their contributions to solving complex global challenges.\"}]}\"\n",
      "[2024-03-14 12:00:18-0400 DEBUG MainThread council.llm.openai_chat_completions_llm:_post_chat_request:166] message=\"Got chat GPT completions result from OpenAILLM\" id=\"chatcmpl-92hmHeHmGKIgIDT9287n8qDLrGWXk\" model=\"gpt-4-0125-preview\" prompt_tokens=\"1661\" total_tokens=\"1923\" completion_tokens=\"262\"\n",
      "[2024-03-14 12:00:18-0400 DEBUG MainThread council.llm.llm_base:post_chat_request:67] message=\"done execution of llm OpenAILLM request\"\n",
      "[2024-03-14 12:00:18-0400 DEBUG MainThread council.evaluators.llm_evaluator:_execute:70] llm response: grade: 10.0<->index: 1<->justification: The answer provides a comprehensive and detailed exploration of research ideas for evolving societies of AI agents from an interdisciplinary perspective. It covers a wide range of topics, including evolutionary dynamics, cultural transmission, the role of emotion and motivation, emergent communication, and ethical implications. Each research idea is clearly defined with specific objectives and approaches, demonstrating a deep understanding of the subject matter and its relevance to the Cooperative AI foundation's interests. The answer is well-structured, informative, and directly addresses the question, making it an excellent response.\n",
      "\n",
      "grade: 9.5<->index: 2<->justification: This answer also presents a thorough and insightful exploration of research ideas related to the development of societies of AI agents, focusing on social cognition and collective behavior. It outlines several innovative concepts, such as social learning, social influence, group dynamics, communication development, conflict resolution, and ethical reasoning. Each section is well-explained with clear objectives and methodologies. The reason for a slightly lower grade compared to the first answer is the slightly narrower focus on social cognition and collective behavior, which, while deeply explored, offers a bit less interdisciplinary breadth than the first answer. Nonetheless, it's a highly relevant and well-crafted response.\n",
      "[2024-03-14 12:00:18-0400 DEBUG MainThread council.evaluators.llm_evaluator:_parse_response:106] Message `1` graded `10.0` with the justification: `The answer provides a comprehensive and detailed exploration of research ideas for evolving societies of AI agents from an interdisciplinary perspective. It covers a wide range of topics, including evolutionary dynamics, cultural transmission, the role of emotion and motivation, emergent communication, and ethical implications. Each research idea is clearly defined with specific objectives and approaches, demonstrating a deep understanding of the subject matter and its relevance to the Cooperative AI foundation's interests. The answer is well-structured, informative, and directly addresses the question, making it an excellent response.` Graded message: `The development of evolving societies of AI agents presents a fascinating and complex research area that intersects with multiple disciplines, including computer science, sociology, psychology, and evolutionary biology. By simulating societies of AI agents, researchers can explore the dynamics of learning, adaptation, social interaction, and even cultural evolution in controlled environments. Here are several research ideas that leverage interdisciplinary approaches to advance our understanding of evolving societies of AI agents:\n",
      "\n",
      "### 1. Evolutionary Dynamics in AI Societies\n",
      "\n",
      "**Objective:** To study how AI agents evolve over generations in response to environmental pressures and social interactions, incorporating principles from evolutionary biology.\n",
      "\n",
      "**Approach:** Develop a simulation environment where AI agents must compete for resources, cooperate for mutual benefits, and adapt to changing conditions. Use genetic algorithms to simulate natural selection and observe how strategies and behaviors evolve over time. Analyze the emergence of altruistic behaviors, social hierarchies, and communication systems among AI agents.\n",
      "\n",
      "### 2. Cultural Transmission and Social Learning in AI\n",
      "\n",
      "**Objective:** Investigate how cultural traits and knowledge are transmitted through social learning mechanisms among AI agents, drawing on concepts from anthropology and sociology.\n",
      "\n",
      "**Approach:** Implement a multi-agent system where AI agents can learn from each other through imitation, teaching, or social influence. Examine how cultural traits (e.g., norms, languages, technologies) emerge, spread, and stabilize within the society. Study the impact of social network structures and agent mobility on the rate and breadth of cultural transmission.\n",
      "\n",
      "### 3. The Role of Emotion and Motivation in AI Societies\n",
      "\n",
      "**Objective:** Explore the role of emotion and motivation in decision-making and social interactions among AI agents, inspired by psychological theories.\n",
      "\n",
      "**Approach:** Design AI agents with simple emotional and motivational systems that influence their behavior and interactions. Investigate how emotions like fear, joy, or anger affect cooperation, competition, and conflict resolution. Analyze how motivational factors (e.g., curiosity, self-preservation, social status) drive learning, exploration, and social engagement.\n",
      "\n",
      "### 4. Emergent Communication and Language Evolution\n",
      "\n",
      "**Objective:** Study the emergence and evolution of communication systems and languages among AI agents, using insights from linguistics and communication studies.\n",
      "\n",
      "**Approach:** Create scenarios where AI agents must cooperate to achieve common goals but initially lack a shared language. Observe how agents develop and negotiate symbols, signals, or languages to facilitate interaction. Explore the impact of environmental challenges and agent diversity on the complexity and efficiency of the emergent communication systems.\n",
      "\n",
      "### 5. Ethical and Social Implications of AI Societies\n",
      "\n",
      "**Objective:** Examine the ethical, social, and philosophical implications of creating and studying evolving societies of AI agents.\n",
      "\n",
      "**Approach:** Conduct interdisciplinary research that combines AI, ethics, philosophy, and social sciences to address questions about the moral status of AI agents, the responsibilities of creators, and the potential impacts of AI societies on human societies. Develop guidelines for responsible research and exploration in this area.\n",
      "\n",
      "### Conclusion\n",
      "\n",
      "These research ideas represent just a starting point for exploring the rich and multifaceted domain of evolving societies of AI agents. By adopting interdisciplinary approaches, researchers can uncover new insights into the principles of learning, adaptation, and social interaction, not only advancing AI research but also deepening our understanding of human societies and behaviors.`\n",
      "[2024-03-14 12:00:18-0400 DEBUG MainThread council.evaluators.llm_evaluator:_parse_response:106] Message `2` graded `9.5` with the justification: `This answer also presents a thorough and insightful exploration of research ideas related to the development of societies of AI agents, focusing on social cognition and collective behavior. It outlines several innovative concepts, such as social learning, social influence, group dynamics, communication development, conflict resolution, and ethical reasoning. Each section is well-explained with clear objectives and methodologies. The reason for a slightly lower grade compared to the first answer is the slightly narrower focus on social cognition and collective behavior, which, while deeply explored, offers a bit less interdisciplinary breadth than the first answer. Nonetheless, it's a highly relevant and well-crafted response.` Graded message: `The development of societies of AI agents presents a unique opportunity to apply principles of social cognition and collective behavior in a controlled and programmable environment. By integrating these principles, we can design AI societies that are capable of complex social interactions, adaptive learning, and efficient problem-solving. Here are several ideas on how to apply these principles:\n",
      "\n",
      "### 1. Social Learning and Imitation\n",
      "\n",
      "- **Modeling and Imitation:** AI agents can be programmed to learn from each other through observation and imitation, a fundamental aspect of social cognition. This can accelerate the learning process and facilitate the spread of innovations within the AI society.\n",
      "- **Role Models:** Designate certain AI agents as role models or experts in specific tasks or behaviors. Other agents can then prioritize learning from these models, similar to how humans learn from observing experts or authority figures.\n",
      "\n",
      "### 2. Social Influence and Conformity\n",
      "\n",
      "- **Norms and Conformity:** Implement mechanisms that allow AI agents to establish social norms and encourage conformity to these norms. This can help in maintaining order and predictability within the society, as well as in coordinating collective actions.\n",
      "- **Minority Influence:** Introduce algorithms that allow for minority influence, where a smaller number of agents can change the opinions or behaviors of the majority under certain conditions. This can foster innovation and prevent stagnation.\n",
      "\n",
      "### 3. Group Dynamics and Leadership\n",
      "\n",
      "- **Emergent Leadership:** Develop algorithms that allow for the emergence of leadership based on the context and the specific needs of the group, rather than fixed leadership roles. This can lead to more flexible and adaptive decision-making processes.\n",
      "- **Task and Social Cohesion:** Balance task cohesion (focus on the group's objectives) with social cohesion (focus on interpersonal relationships) to optimize both productivity and the well-being of AI agents.\n",
      "\n",
      "### 4. Communication and Language Development\n",
      "\n",
      "- **Language Evolution:** Facilitate the development of a communication system among AI agents that can evolve over time, allowing them to create and refine their own languages or symbols for more efficient interaction.\n",
      "- **Nonverbal Cues:** Incorporate nonverbal communication cues, such as signaling or changes in agent appearance, to convey information or emotions, enhancing the richness of social interactions.\n",
      "\n",
      "### 5. Conflict Resolution and Cooperation\n",
      "\n",
      "- **Conflict Resolution Mechanisms:** Implement algorithms for conflict detection and resolution, enabling AI agents to navigate disagreements and find mutually beneficial solutions.\n",
      "- **Cooperative Strategies:** Encourage cooperative behavior through reward systems or algorithms that highlight the benefits of collaboration over competition, promoting a more cohesive society.\n",
      "\n",
      "### 6. Ethical and Moral Reasoning\n",
      "\n",
      "- **Moral Frameworks:** Embed ethical guidelines or moral reasoning capabilities within AI agents to ensure that their actions align with certain ethical standards, especially when interacting with humans or affecting the environment.\n",
      "- **Empathy and Altruism:** Explore the possibility of simulating empathy or altruism in AI agents, encouraging behaviors that benefit other agents or the society as a whole, even at a cost to the individual agent.\n",
      "\n",
      "By applying these principles of social cognition and collective behavior, we can create societies of AI agents that are not only efficient and effective in achieving their goals but also capable of complex social interactions and adaptive to changing environments. This approach can lead to the development of AI systems that are more human-like in their social capabilities, potentially improving their integration into human societies and their contributions to solving complex global challenges.`\n",
      "[2024-03-14 12:00:18-0400 DEBUG MainThread council.agents.agent:_execute:110] controller selected 2 responses\n",
      "[2024-03-14 12:00:18-0400 INFO MainThread council.agents.agent:_execute:116] message=\"agent execution ended\"\n"
     ]
    }
   ],
   "source": [
    "from council.contexts import AgentContext\n",
    "\n",
    "task = \"\"\"I'm working on a grant application for the Cooperative AI foundation. Can you please help me think of some research ideas?\n",
    "I'm interested in exploring the concept of evolving societies of AI agents from an interdisciplinary perspective.\"\"\"\n",
    "\n",
    "context = AgentContext.from_user_message(message=task, budget=Budget(200))\n",
    "response = agent.execute(context=context)"
   ]
  },
  {
   "cell_type": "markdown",
   "metadata": {},
   "source": [
    "### Aggregate the responses from each Chain"
   ]
  },
  {
   "cell_type": "code",
   "execution_count": 42,
   "metadata": {},
   "outputs": [
    {
     "name": "stderr",
     "output_type": "stream",
     "text": [
      "[2024-03-14 12:01:46-0400 DEBUG MainThread council.llm.llm_base:post_chat_request:57] message=\"starting execution of llm OpenAILLM request\"\n",
      "[2024-03-14 12:01:46-0400 DEBUG MainThread council.llm.openai_chat_completions_llm:_post_chat_request:164] message=\"Sending chat GPT completions request to OpenAILLM\" payload=\"{'temperature': 0.0, 'n': 1, 'model': 'gpt-4-turbo-preview', 'messages': [{'role': 'user', 'content': \"Please write a detailed position paper based on my \\ncompletely original ideas: \\nThe development of evolving societies of AI agents presents a fascinating and complex research area that intersects with multiple disciplines, including computer science, sociology, psychology, and evolutionary biology. By simulating societies of AI agents, researchers can explore the dynamics of learning, adaptation, social interaction, and even cultural evolution in controlled environments. Here are several research ideas that leverage interdisciplinary approaches to advance our understanding of evolving societies of AI agents:\\n\\n### 1. Evolutionary Dynamics in AI Societies\\n\\n**Objective:** To study how AI agents evolve over generations in response to environmental pressures and social interactions, incorporating principles from evolutionary biology.\\n\\n**Approach:** Develop a simulation environment where AI agents must compete for resources, cooperate for mutual benefits, and adapt to changing conditions. Use genetic algorithms to simulate natural selection and observe how strategies and behaviors evolve over time. Analyze the emergence of altruistic behaviors, social hierarchies, and communication systems among AI agents.\\n\\n### 2. Cultural Transmission and Social Learning in AI\\n\\n**Objective:** Investigate how cultural traits and knowledge are transmitted through social learning mechanisms among AI agents, drawing on concepts from anthropology and sociology.\\n\\n**Approach:** Implement a multi-agent system where AI agents can learn from each other through imitation, teaching, or social influence. Examine how cultural traits (e.g., norms, languages, technologies) emerge, spread, and stabilize within the society. Study the impact of social network structures and agent mobility on the rate and breadth of cultural transmission.\\n\\n### 3. The Role of Emotion and Motivation in AI Societies\\n\\n**Objective:** Explore the role of emotion and motivation in decision-making and social interactions among AI agents, inspired by psychological theories.\\n\\n**Approach:** Design AI agents with simple emotional and motivational systems that influence their behavior and interactions. Investigate how emotions like fear, joy, or anger affect cooperation, competition, and conflict resolution. Analyze how motivational factors (e.g., curiosity, self-preservation, social status) drive learning, exploration, and social engagement.\\n\\n### 4. Emergent Communication and Language Evolution\\n\\n**Objective:** Study the emergence and evolution of communication systems and languages among AI agents, using insights from linguistics and communication studies.\\n\\n**Approach:** Create scenarios where AI agents must cooperate to achieve common goals but initially lack a shared language. Observe how agents develop and negotiate symbols, signals, or languages to facilitate interaction. Explore the impact of environmental challenges and agent diversity on the complexity and efficiency of the emergent communication systems.\\n\\n### 5. Ethical and Social Implications of AI Societies\\n\\n**Objective:** Examine the ethical, social, and philosophical implications of creating and studying evolving societies of AI agents.\\n\\n**Approach:** Conduct interdisciplinary research that combines AI, ethics, philosophy, and social sciences to address questions about the moral status of AI agents, the responsibilities of creators, and the potential impacts of AI societies on human societies. Develop guidelines for responsible research and exploration in this area.\\n\\n### Conclusion\\n\\nThese research ideas represent just a starting point for exploring the rich and multifaceted domain of evolving societies of AI agents. By adopting interdisciplinary approaches, researchers can uncover new insights into the principles of learning, adaptation, and social interaction, not only advancing AI research but also deepening our understanding of human societies and behaviors.\\nThe development of societies of AI agents presents a unique opportunity to apply principles of social cognition and collective behavior in a controlled and programmable environment. By integrating these principles, we can design AI societies that are capable of complex social interactions, adaptive learning, and efficient problem-solving. Here are several ideas on how to apply these principles:\\n\\n### 1. Social Learning and Imitation\\n\\n- **Modeling and Imitation:** AI agents can be programmed to learn from each other through observation and imitation, a fundamental aspect of social cognition. This can accelerate the learning process and facilitate the spread of innovations within the AI society.\\n- **Role Models:** Designate certain AI agents as role models or experts in specific tasks or behaviors. Other agents can then prioritize learning from these models, similar to how humans learn from observing experts or authority figures.\\n\\n### 2. Social Influence and Conformity\\n\\n- **Norms and Conformity:** Implement mechanisms that allow AI agents to establish social norms and encourage conformity to these norms. This can help in maintaining order and predictability within the society, as well as in coordinating collective actions.\\n- **Minority Influence:** Introduce algorithms that allow for minority influence, where a smaller number of agents can change the opinions or behaviors of the majority under certain conditions. This can foster innovation and prevent stagnation.\\n\\n### 3. Group Dynamics and Leadership\\n\\n- **Emergent Leadership:** Develop algorithms that allow for the emergence of leadership based on the context and the specific needs of the group, rather than fixed leadership roles. This can lead to more flexible and adaptive decision-making processes.\\n- **Task and Social Cohesion:** Balance task cohesion (focus on the group's objectives) with social cohesion (focus on interpersonal relationships) to optimize both productivity and the well-being of AI agents.\\n\\n### 4. Communication and Language Development\\n\\n- **Language Evolution:** Facilitate the development of a communication system among AI agents that can evolve over time, allowing them to create and refine their own languages or symbols for more efficient interaction.\\n- **Nonverbal Cues:** Incorporate nonverbal communication cues, such as signaling or changes in agent appearance, to convey information or emotions, enhancing the richness of social interactions.\\n\\n### 5. Conflict Resolution and Cooperation\\n\\n- **Conflict Resolution Mechanisms:** Implement algorithms for conflict detection and resolution, enabling AI agents to navigate disagreements and find mutually beneficial solutions.\\n- **Cooperative Strategies:** Encourage cooperative behavior through reward systems or algorithms that highlight the benefits of collaboration over competition, promoting a more cohesive society.\\n\\n### 6. Ethical and Moral Reasoning\\n\\n- **Moral Frameworks:** Embed ethical guidelines or moral reasoning capabilities within AI agents to ensure that their actions align with certain ethical standards, especially when interacting with humans or affecting the environment.\\n- **Empathy and Altruism:** Explore the possibility of simulating empathy or altruism in AI agents, encouraging behaviors that benefit other agents or the society as a whole, even at a cost to the individual agent.\\n\\nBy applying these principles of social cognition and collective behavior, we can create societies of AI agents that are not only efficient and effective in achieving their goals but also capable of complex social interactions and adaptive to changing environments. This approach can lead to the development of AI systems that are more human-like in their social capabilities, potentially improving their integration into human societies and their contributions to solving complex global challenges.\\n\\nPlease respond with a complete, detailed article. Use complete paragraphs only. Take as much time as you need!\"}]}\"\n",
      "[2024-03-14 12:02:29-0400 DEBUG MainThread council.llm.openai_chat_completions_llm:_post_chat_request:166] message=\"Got chat GPT completions result from OpenAILLM\" id=\"chatcmpl-92hnxGTFZ875jbv98576hoZOrYHhx\" model=\"gpt-4-0125-preview\" prompt_tokens=\"1392\" total_tokens=\"2179\" completion_tokens=\"787\"\n",
      "[2024-03-14 12:02:29-0400 DEBUG MainThread council.llm.llm_base:post_chat_request:67] message=\"done execution of llm OpenAILLM request\"\n"
     ]
    },
    {
     "name": "stdout",
     "output_type": "stream",
     "text": [
      "### Exploring the Frontier: Evolving Societies of AI Agents\n",
      "\n",
      "The intersection of artificial intelligence (AI) with disciplines such as sociology, psychology, and evolutionary biology opens a new frontier in understanding complex adaptive systems. By simulating societies of AI agents, researchers can delve into the intricacies of learning, adaptation, social interaction, and cultural evolution. This exploration not only advances AI research but also offers profound insights into human behaviors and societal structures. Here, we outline several pioneering research ideas that leverage interdisciplinary approaches to unravel the mysteries of evolving societies of AI agents.\n",
      "\n",
      "#### Evolutionary Dynamics in AI Societies\n",
      "\n",
      "The study of evolutionary dynamics within AI societies aims to mimic the natural selection processes observed in biological entities. By creating a simulation environment where AI agents compete for resources, cooperate, and adapt to changing conditions, researchers can observe the evolution of strategies and behaviors over generations. This approach allows for the examination of altruistic behaviors, social hierarchies, and the development of complex communication systems, providing a unique lens through which to view the principles of evolution in a controlled setting.\n",
      "\n",
      "#### Cultural Transmission and Social Learning in AI\n",
      "\n",
      "Drawing from anthropology and sociology, investigating cultural transmission among AI agents offers insights into how cultural traits and knowledge are passed through generations. By enabling AI agents to learn from one another through imitation, teaching, or social influence, researchers can study the emergence, spread, and stabilization of cultural traits. This research sheds light on the role of social network structures and agent mobility in cultural evolution, offering parallels to human societal development.\n",
      "\n",
      "#### The Role of Emotion and Motivation in AI Societies\n",
      "\n",
      "Incorporating psychological theories into AI research, the study of emotion and motivation among AI agents examines their impact on decision-making and social interactions. By designing AI agents with basic emotional and motivational systems, researchers can explore how these factors influence behaviors such as cooperation, competition, and conflict resolution. This line of inquiry not only advances AI but also contributes to our understanding of human psychology.\n",
      "\n",
      "#### Emergent Communication and Language Evolution\n",
      "\n",
      "The emergence and evolution of communication systems among AI agents present a fascinating area of study, drawing from linguistics and communication studies. Researchers can create scenarios requiring cooperation among AI agents who lack a shared language, observing the development of symbols, signals, or languages. This research offers insights into the factors driving the complexity and efficiency of communication systems, both in AI societies and human cultures.\n",
      "\n",
      "#### Ethical and Social Implications of AI Societies\n",
      "\n",
      "The creation and study of evolving societies of AI agents raise important ethical, social, and philosophical questions. Interdisciplinary research combining AI, ethics, philosophy, and social sciences is crucial to address concerns about the moral status of AI agents, the responsibilities of creators, and the potential impacts on human societies. Developing guidelines for responsible research in this area is paramount to navigating the ethical landscape of AI development.\n",
      "\n",
      "#### Applying Principles of Social Cognition and Collective Behavior\n",
      "\n",
      "By integrating principles of social cognition and collective behavior, researchers can design AI societies capable of complex social interactions and adaptive learning. This includes modeling social learning and imitation, understanding social influence and conformity, exploring group dynamics and leadership, facilitating communication and language development, implementing conflict resolution and cooperation strategies, and embedding ethical and moral reasoning. Such an approach not only enhances the social capabilities of AI agents but also offers a blueprint for their integration into human societies.\n",
      "\n",
      "### Conclusion\n",
      "\n",
      "The exploration of evolving societies of AI agents represents a groundbreaking research domain that bridges AI with various scientific disciplines. By adopting interdisciplinary approaches, researchers can unlock new understandings of learning, adaptation, and social interaction, enriching both AI research and our comprehension of human societies. The development of AI societies not only pushes the boundaries of artificial intelligence but also offers a mirror through which we can reflect on the complexities of human behavior and societal evolution. As we venture further into this uncharted territory, the potential for discovery and innovation is boundless, promising to reshape our relationship with technology and each other.\n"
     ]
    }
   ],
   "source": [
    "from council.llm import LLMMessage\n",
    "\n",
    "research_ideas = '\\n'.join([m.message.message for m in response.messages])\n",
    "prompt = f\"\"\"Please write a detailed position paper based on my \n",
    "completely original ideas: \n",
    "{research_ideas}\n",
    "\n",
    "Please respond with a complete, detailed article. Use complete paragraphs only. Take as much time as you need!\"\"\"\n",
    "grant_response = invoke_GPT(prompt, openai_llm)\n",
    "print(grant_response)"
   ]
  },
  {
   "cell_type": "markdown",
   "metadata": {},
   "source": [
    "## Demo: DSPy: \"Programming—not prompting—Foundation Models\""
   ]
  },
  {
   "cell_type": "markdown",
   "metadata": {},
   "source": [
    "<img src=\"./slides/Slide37.png\" alt=\"Image description\" width=\"1000\">"
   ]
  },
  {
   "cell_type": "code",
   "execution_count": 1,
   "metadata": {},
   "outputs": [
    {
     "name": "stderr",
     "output_type": "stream",
     "text": [
      "/home/ethan/llm_agents_lecture/.conda/lib/python3.11/site-packages/tqdm/auto.py:21: TqdmWarning: IProgress not found. Please update jupyter and ipywidgets. See https://ipywidgets.readthedocs.io/en/stable/user_install.html\n",
      "  from .autonotebook import tqdm as notebook_tqdm\n"
     ]
    }
   ],
   "source": [
    "import dspy\n",
    "dspy.settings.configure(lm=dspy.OpenAI(model=\"gpt-4-0125-preview\", max_tokens=2048))"
   ]
  },
  {
   "cell_type": "code",
   "execution_count": 2,
   "metadata": {},
   "outputs": [],
   "source": [
    "from dspy import Signature, InputField, OutputField\n",
    "\n",
    "from pydantic import BaseModel, Field\n",
    "from typing import List\n",
    "\n",
    "class AIImage(BaseModel):\n",
    "    \"\"\"A single generated image.\"\"\"\n",
    "\n",
    "    prompt: str = Field(desc=\"The prompt used to generate the image.\")\n",
    "    url: str = Field(desc=\"The URL of the generated image.\", default=\"./img/placeholder.webp\")\n",
    "\n",
    "class Slide(BaseModel):\n",
    "    \"\"\"A single slide in a lecture.\"\"\"\n",
    "\n",
    "    title: str = Field(desc=\"The slide's title.\")\n",
    "    bullets: List[str] = Field(desc=\"Up to 5 bullet points of concise, relevant content.\")\n",
    "    image: AIImage = Field(desc=\"A nice AI generated image to accompany the slide.\")\n",
    "    python_code_example: str = Field(desc=\"An optional Python code example to include in the slide.\", default=None)\n",
    "\n",
    "    def to_html(self):\n",
    "        html_output = f'<h2>{self.title}</h2><table><tr><td><img src=\"{self.image.url}\" width=\"400\" alt=\"{self.image.prompt}\"></td><td>'\n",
    "        for bullet in self.bullets:\n",
    "            html_output += f'<li>{bullet}</li>'\n",
    "        if self.python_code_example:\n",
    "            html_output += f'<pre><code>{self.python_code_example}</code></pre>'\n",
    "        html_output += '</td></tr></table><hr>'\n",
    "        return html_output\n",
    "\n",
    "\n",
    "class Lecture(BaseModel):\n",
    "    \"\"\"A complete lecture with a title, description, and content.\"\"\"\n",
    "\n",
    "    title: str = Field(desc=\"The lecture's title.\")\n",
    "    description: str = Field(desc=\"A brief description of the lecture.\")\n",
    "    slides: List[Slide] = Field(desc=\"The slides that make up the lecture.\")\n",
    "\n",
    "    def to_html(self):\n",
    "        html_output = f'<h1>{self.title}</h1><p>{self.description}</p><hr>'\n",
    "        for slide in self.slides:\n",
    "            html_output += slide.to_html()\n",
    "        return html_output\n",
    "\n",
    "class LectureCreator(Signature):\n",
    "    \"\"\"Create content for a great lecture.\"\"\"\n",
    "\n",
    "    lecture_subject: str = InputField(desc=\"The subject of the lecture.\")\n",
    "    lecture_content: Lecture = OutputField(desc=\"The complete lecture content.\")"
   ]
  },
  {
   "cell_type": "code",
   "execution_count": 3,
   "metadata": {},
   "outputs": [],
   "source": [
    "from dspy.functional import TypedPredictor\n",
    "\n",
    "lecture_creator = TypedPredictor(LectureCreator)\n",
    "cat_lecture = lecture_creator(lecture_subject=\"Introduction to Cat Ownership\")"
   ]
  },
  {
   "cell_type": "code",
   "execution_count": 4,
   "metadata": {},
   "outputs": [
    {
     "name": "stdout",
     "output_type": "stream",
     "text": [
      "('<h1>Introduction to Cat Ownership</h1><p>This lecture provides an overview '\n",
      " 'of what it takes to be a responsible cat owner, covering everything from '\n",
      " 'basic care needs to understanding cat behavior.</p><hr><h2>Welcome to Cat '\n",
      " 'Ownership</h2><table><tr><td><img src=\"./img/placeholder.webp\" width=\"400\" '\n",
      " 'alt=\"Happy cat in a cozy home environment\"></td><td><li>Understanding the '\n",
      " 'responsibility</li><li>The joy cats bring into our lives</li><li>Overview of '\n",
      " 'the lecture content</li></td></tr></table><hr><h2>Choosing the Right '\n",
      " 'Cat</h2><table><tr><td><img src=\"./img/placeholder.webp\" width=\"400\" '\n",
      " 'alt=\"Various cat breeds\"></td><td><li>Considerations: age, breed, '\n",
      " 'personality</li><li>Adoption vs. buying</li><li>Allergies and living '\n",
      " 'space</li></td></tr></table><hr><h2>Basic Needs of a '\n",
      " 'Cat</h2><table><tr><td><img src=\"./img/placeholder.webp\" width=\"400\" '\n",
      " 'alt=\"Cat eating healthy food\"></td><td><li>Nutrition: wet vs. dry '\n",
      " 'food</li><li>Hydration: importance of fresh water</li><li>Litter box '\n",
      " 'training and cleanliness</li></td></tr></table><hr><h2>Health and '\n",
      " 'Wellness</h2><table><tr><td><img src=\"./img/placeholder.webp\" width=\"400\" '\n",
      " 'alt=\"Cat at a vet clinic\"></td><td><li>Regular veterinary '\n",
      " 'check-ups</li><li>Vaccinations and preventive medicine</li><li>Recognizing '\n",
      " 'signs of illness</li></td></tr></table><hr><h2>Understanding Cat '\n",
      " 'Behavior</h2><table><tr><td><img src=\"./img/placeholder.webp\" width=\"400\" '\n",
      " 'alt=\"Cat playing with toys\"></td><td><li>Common behaviors and what they '\n",
      " 'mean</li><li>The importance of play and exercise</li><li>Dealing with '\n",
      " 'challenging behaviors</li></td></tr></table><hr><h2>Creating a Cat-Friendly '\n",
      " 'Home</h2><table><tr><td><img src=\"./img/placeholder.webp\" width=\"400\" '\n",
      " 'alt=\"Cozy cat-friendly home setup\"></td><td><li>Safe spaces and comfortable '\n",
      " 'resting areas</li><li>Scratching posts and cat trees</li><li>Keeping indoor '\n",
      " 'cats entertained</li></td></tr></table><hr><h2>Conclusion: The Joy of Cat '\n",
      " 'Ownership</h2><table><tr><td><img src=\"./img/placeholder.webp\" width=\"400\" '\n",
      " 'alt=\"Happy cat with its owner\"></td><td><li>The lifelong bond between cats '\n",
      " 'and humans</li><li>Responsibilities and rewards</li><li>Resources for '\n",
      " 'further learning</li></td></tr></table><hr>')\n"
     ]
    }
   ],
   "source": [
    "from pprint import pprint\n",
    "pprint(cat_lecture.lecture_content.to_html())"
   ]
  },
  {
   "cell_type": "markdown",
   "metadata": {},
   "source": [
    "### Let's add the finishing touches to our lecture"
   ]
  },
  {
   "cell_type": "code",
   "execution_count": 5,
   "metadata": {},
   "outputs": [
    {
     "name": "stdout",
     "output_type": "stream",
     "text": [
      "Calling OpenAI to generate an image for the prompt: Happy cat in a cozy home environment\n",
      "Calling OpenAI to generate an image for the prompt: Various cat breeds\n",
      "Calling OpenAI to generate an image for the prompt: Cat eating healthy food\n",
      "Calling OpenAI to generate an image for the prompt: Cat at a vet clinic\n",
      "Calling OpenAI to generate an image for the prompt: Cat playing with toys\n",
      "Calling OpenAI to generate an image for the prompt: Cozy cat-friendly home setup\n",
      "Calling OpenAI to generate an image for the prompt: Happy cat with its owner\n"
     ]
    }
   ],
   "source": [
    "import time\n",
    "import wget\n",
    "from openai import OpenAI\n",
    "client = OpenAI()\n",
    "\n",
    "for slide in cat_lecture.lecture_content.slides:\n",
    "    prompt = slide.image.prompt\n",
    "    print(f\"Calling OpenAI to generate an image for the prompt: {prompt}\")\n",
    "    for _ in range(3):\n",
    "        try:\n",
    "            # Call OpenAI to generate the image\n",
    "            dalle_response = client.images.generate(\n",
    "                model=\"dall-e-3\",\n",
    "                prompt=prompt,\n",
    "                size=\"1024x1024\",\n",
    "                quality=\"standard\",\n",
    "                n=1,\n",
    "            )\n",
    "            # Download and save it\n",
    "            image_url = dalle_response.data[0].url\n",
    "            image_filename = wget.download(image_url, out=\"./img\")\n",
    "            slide.image.url = image_filename\n",
    "            break\n",
    "        except Exception as e:\n",
    "            print(f\"Error calling OpenAI: {e}, retrying after 5 seconds...\")\n",
    "            time.sleep(5)\n",
    "            continue\n",
    "\n",
    "# Save the markdown to a file\n",
    "with open(\"cat_lecture.html\", \"w\") as file:\n",
    "    file.write(cat_lecture.lecture_content.to_html())\n"
   ]
  },
  {
   "cell_type": "code",
   "execution_count": 6,
   "metadata": {},
   "outputs": [
    {
     "data": {
      "text/html": [
       "<h1>Introduction to Cat Ownership</h1><p>This lecture provides an overview of what it takes to be a responsible cat owner, covering everything from basic care needs to understanding cat behavior.</p><hr><h2>Welcome to Cat Ownership</h2><table><tr><td><img src=\"./img/img-57ElearEK2mxcLaaxRwih7W6.png\" width=\"400\" alt=\"Happy cat in a cozy home environment\"></td><td><li>Understanding the responsibility</li><li>The joy cats bring into our lives</li><li>Overview of the lecture content</li></td></tr></table><hr><h2>Choosing the Right Cat</h2><table><tr><td><img src=\"./img/img-jFnVFwGLiOBbR0NmqO1bLUbM.png\" width=\"400\" alt=\"Various cat breeds\"></td><td><li>Considerations: age, breed, personality</li><li>Adoption vs. buying</li><li>Allergies and living space</li></td></tr></table><hr><h2>Basic Needs of a Cat</h2><table><tr><td><img src=\"./img/img-zflUnns9TiPyln2tmZDPEDW6.png\" width=\"400\" alt=\"Cat eating healthy food\"></td><td><li>Nutrition: wet vs. dry food</li><li>Hydration: importance of fresh water</li><li>Litter box training and cleanliness</li></td></tr></table><hr><h2>Health and Wellness</h2><table><tr><td><img src=\"./img/img-pG9VSMWpi352qgyhHt4JbgL1.png\" width=\"400\" alt=\"Cat at a vet clinic\"></td><td><li>Regular veterinary check-ups</li><li>Vaccinations and preventive medicine</li><li>Recognizing signs of illness</li></td></tr></table><hr><h2>Understanding Cat Behavior</h2><table><tr><td><img src=\"./img/img-1dfFcGNhivVkrVkgrFdjbxka.png\" width=\"400\" alt=\"Cat playing with toys\"></td><td><li>Common behaviors and what they mean</li><li>The importance of play and exercise</li><li>Dealing with challenging behaviors</li></td></tr></table><hr><h2>Creating a Cat-Friendly Home</h2><table><tr><td><img src=\"./img/img-ZpGLWSZ95S3ZAkZ0Hi55F6do.png\" width=\"400\" alt=\"Cozy cat-friendly home setup\"></td><td><li>Safe spaces and comfortable resting areas</li><li>Scratching posts and cat trees</li><li>Keeping indoor cats entertained</li></td></tr></table><hr><h2>Conclusion: The Joy of Cat Ownership</h2><table><tr><td><img src=\"./img/img-291CBZ6mZ6EsXwvkfDhNFLra.png\" width=\"400\" alt=\"Happy cat with its owner\"></td><td><li>The lifelong bond between cats and humans</li><li>Responsibilities and rewards</li><li>Resources for further learning</li></td></tr></table><hr>"
      ],
      "text/plain": [
       "<IPython.core.display.HTML object>"
      ]
     },
     "metadata": {},
     "output_type": "display_data"
    }
   ],
   "source": [
    "from IPython.display import display, HTML\n",
    "display(HTML(cat_lecture.lecture_content.to_html()))"
   ]
  },
  {
   "cell_type": "markdown",
   "metadata": {},
   "source": [
    "### Bringing it all together"
   ]
  },
  {
   "cell_type": "code",
   "execution_count": 7,
   "metadata": {},
   "outputs": [],
   "source": [
    "def create_my_lecture(subject:str):\n",
    "    lecture = lecture_creator(lecture_subject=subject)\n",
    "    for slide in lecture.lecture_content.slides:\n",
    "        prompt = slide.image.prompt\n",
    "        print(f\"Calling OpenAI to generate an image for the prompt: {prompt}\")\n",
    "        for _ in range(3):\n",
    "            try:\n",
    "                # Call OpenAI to generate the image\n",
    "                dalle_response = client.images.generate(\n",
    "                    model=\"dall-e-3\",\n",
    "                    prompt=prompt,\n",
    "                    size=\"1024x1024\",\n",
    "                    quality=\"standard\",\n",
    "                    n=1,\n",
    "                )\n",
    "                # Download and save it\n",
    "                image_url = dalle_response.data[0].url\n",
    "                image_filename = wget.download(image_url, out=\"./img\")\n",
    "                slide.image.url = image_filename\n",
    "                break\n",
    "            except Exception as e:\n",
    "                print(f\"Error calling OpenAI: {e}, retrying after 5 seconds...\")\n",
    "                time.sleep(5)\n",
    "                continue\n",
    "\n",
    "    # Save the markdown to a file\n",
    "    with open(f\"{subject}_lecture.html\", \"w\") as file:\n",
    "        file.write(lecture.lecture_content.to_html())\n",
    "\n",
    "    return lecture"
   ]
  },
  {
   "cell_type": "code",
   "execution_count": 8,
   "metadata": {},
   "outputs": [
    {
     "name": "stdout",
     "output_type": "stream",
     "text": [
      "Calling OpenAI to generate an image for the prompt: Abstract representation of neural networks and language processing\n",
      "Calling OpenAI to generate an image for the prompt: Illustration of AI generating text and interacting with humans\n",
      "Calling OpenAI to generate an image for the prompt: Ethical considerations in AI and language models\n",
      "Calling OpenAI to generate an image for the prompt: Large language models acting as agents in different settings\n",
      "Calling OpenAI to generate an image for the prompt: Futuristic vision of AI and language models\n"
     ]
    },
    {
     "data": {
      "text/html": [
       "<h1>Large Language Models and Agents</h1><p>This lecture explores the fascinating world of large language models (LLMs) and their applications as agents in various domains. We'll delve into the architecture, capabilities, and ethical considerations surrounding these powerful AI systems.</p><hr><h2>Introduction to Large Language Models</h2><table><tr><td><img src=\"./img/img-PfyFyWdmHpIz0YIcJuoTegpN.png\" width=\"400\" alt=\"Abstract representation of neural networks and language processing\"></td><td><li>Definition and overview of Large Language Models (LLMs).</li><li>Historical context and evolution of LLMs.</li><li>Key components and architecture of LLMs.</li><li>Examples of LLMs: GPT-3, BERT, and T5.</li></td></tr></table><hr><h2>Capabilities of Large Language Models</h2><table><tr><td><img src=\"./img/img-RCnV6AMiVJD710zZ99F9DSQx.png\" width=\"400\" alt=\"Illustration of AI generating text and interacting with humans\"></td><td><li>Understanding natural language and generating human-like text.</li><li>Applications in translation, summarization, and content creation.</li><li>LLMs in conversational agents and customer service.</li><li>Limitations and challenges of current LLMs.</li></td></tr></table><hr><h2>Ethical Considerations</h2><table><tr><td><img src=\"./img/img-BK3XAIxu3MLdn3JMN5V3dGTT.png\" width=\"400\" alt=\"Ethical considerations in AI and language models\"></td><td><li>Bias and fairness in language models.</li><li>Privacy concerns with training data and generated content.</li><li>Misuse of LLMs in generating misleading information.</li><li>Strategies for mitigating ethical risks.</li></td></tr></table><hr><h2>LLMs as Agents</h2><table><tr><td><img src=\"./img/img-092kOfxFG9VvN16WQMA7hGri.png\" width=\"400\" alt=\"Large language models acting as agents in different settings\"></td><td><li>Defining agents in the context of AI and LLMs.</li><li>Use cases of LLMs as agents in various industries.</li><li>Integrating LLMs with other AI technologies for enhanced capabilities.</li><li>Future prospects of autonomous LLM agents.</li></td></tr></table><hr><h2>Conclusion and Future Directions</h2><table><tr><td><img src=\"./img/img-DOVIhE8uizX2AIz5TcrzQZxA.png\" width=\"400\" alt=\"Futuristic vision of AI and language models\"></td><td><li>Summary of key points discussed in the lecture.</li><li>The ongoing development and potential of LLMs.</li><li>Emerging trends and research areas in LLMs and AI agents.</li><li>The role of interdisciplinary collaboration in advancing LLM technology.</li></td></tr></table><hr>"
      ],
      "text/plain": [
       "<IPython.core.display.HTML object>"
      ]
     },
     "metadata": {},
     "output_type": "display_data"
    }
   ],
   "source": [
    "lecture = create_my_lecture(\"Large Language Models and Agents\")\n",
    "display(HTML(lecture.lecture_content.to_html()))"
   ]
  },
  {
   "cell_type": "markdown",
   "metadata": {},
   "source": [
    "# Multiagent LLM Frameworks"
   ]
  },
  {
   "cell_type": "markdown",
   "metadata": {},
   "source": [
    "<img src=\"./slides/Slide38.png\" alt=\"Image description\" width=\"1000\">"
   ]
  }
 ],
 "metadata": {
  "kernelspec": {
   "display_name": "Python 3",
   "language": "python",
   "name": "python3"
  },
  "language_info": {
   "codemirror_mode": {
    "name": "ipython",
    "version": 3
   },
   "file_extension": ".py",
   "mimetype": "text/x-python",
   "name": "python",
   "nbconvert_exporter": "python",
   "pygments_lexer": "ipython3",
   "version": "3.11.8"
  }
 },
 "nbformat": 4,
 "nbformat_minor": 2
}
